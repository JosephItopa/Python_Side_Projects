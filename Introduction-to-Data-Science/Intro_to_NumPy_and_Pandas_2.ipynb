{
  "nbformat": 4,
  "nbformat_minor": 0,
  "metadata": {
    "colab": {
      "name": "Intro_to_NumPy_and_Pandas_2.ipynb",
      "provenance": [],
      "collapsed_sections": []
    },
    "kernelspec": {
      "display_name": "Python 3",
      "language": "python",
      "name": "python3"
    },
    "language_info": {
      "codemirror_mode": {
        "name": "ipython",
        "version": 3
      },
      "file_extension": ".py",
      "mimetype": "text/x-python",
      "name": "python",
      "nbconvert_exporter": "python",
      "pygments_lexer": "ipython3",
      "version": "3.6.8"
    }
  },
  "cells": [
    {
      "cell_type": "markdown",
      "metadata": {
        "id": "vvVMKEWM38Yz"
      },
      "source": [
        "###**Indexing, Slice indexing**\n",
        "\n",
        "We can use slice indexing to pull out sub-regions of ndarrays\n",
        "\n",
        "More documentation can be found at https://docs.scipy.org/doc/numpy/reference/arrays.indexing.html"
      ]
    },
    {
      "cell_type": "code",
      "metadata": {
        "colab": {
          "base_uri": "https://localhost:8080/"
        },
        "id": "op2ZXc3l34LN",
        "outputId": "ee7261ec-ff82-4ed3-943c-358c4d405aa7"
      },
      "source": [
        "#create 1D array\n",
        "import numpy as np\n",
        "my_array_1d = np.array([1, 2, 3, 4, 5, 6, 7])   \n",
        "print (my_array_1d)"
      ],
      "execution_count": 2,
      "outputs": [
        {
          "output_type": "stream",
          "text": [
            "[1 2 3 4 5 6 7]\n"
          ],
          "name": "stdout"
        }
      ]
    },
    {
      "cell_type": "code",
      "metadata": {
        "colab": {
          "base_uri": "https://localhost:8080/"
        },
        "id": "WcEfrOCo3_1l",
        "outputId": "46fb69ff-86d2-4a23-f498-405818e0ff86"
      },
      "source": [
        "#1D array: we need only one index to access element at any position\n",
        "#call the value at index 5\n",
        "print ('element at index 5: ', my_array_1d[5])\n",
        "\n",
        "#ndarrays are mutable(changeable), here we change an element at index 5 \n",
        "my_array_1d[5] = 15\n",
        "print ('element at index 5 after change: ', my_array_1d[5])"
      ],
      "execution_count": 3,
      "outputs": [
        {
          "output_type": "stream",
          "text": [
            "element at index 5:  6\n",
            "element at index 5 after change:  15\n"
          ],
          "name": "stdout"
        }
      ]
    },
    {
      "cell_type": "code",
      "metadata": {
        "colab": {
          "base_uri": "https://localhost:8080/"
        },
        "id": "3IBQOfVOjypV",
        "outputId": "67ddb8e5-5ef0-4bd6-841c-fd69d475d9fe"
      },
      "source": [
        "print (my_array_1d)"
      ],
      "execution_count": 4,
      "outputs": [
        {
          "output_type": "stream",
          "text": [
            "[ 1  2  3  4  5 15  7]\n"
          ],
          "name": "stdout"
        }
      ]
    },
    {
      "cell_type": "code",
      "metadata": {
        "colab": {
          "base_uri": "https://localhost:8080/"
        },
        "id": "jyz1OdSy4Dsx",
        "outputId": "ca5e1856-cf38-4795-ce23-6435ec97ee51"
      },
      "source": [
        "#get the values in the range\n",
        "print ('elements in the range: ', my_array_1d[2:5]) #a:b - including a, until (and excluding) b\n",
        "\n",
        "#we can change values in the range as well\n",
        "my_array_1d[2:5] = 20\n",
        "print ('elements in the range after change: ', my_array_1d[2:5])"
      ],
      "execution_count": 5,
      "outputs": [
        {
          "output_type": "stream",
          "text": [
            "elements in the range:  [3 4 5]\n",
            "elements in the range after change:  [20 20 20]\n"
          ],
          "name": "stdout"
        }
      ]
    },
    {
      "cell_type": "code",
      "metadata": {
        "colab": {
          "base_uri": "https://localhost:8080/"
        },
        "id": "K_gsTmXx4GMf",
        "outputId": "39a1f718-86fd-4fc0-9c8b-c00ae5ef0187"
      },
      "source": [
        "#2D arrays(two indexing): first one for the row and second one for the column\n",
        "\n",
        "#create 2D array\n",
        "my_2d_array = np.array([[1, 2, 3, 4, 5], [11, 12, 13, 14, 15], [21, 22, 23, 24, 25]])\n",
        "print ('original array:', my_2d_array, '\\n')\n",
        "\n",
        "#slicing: generates an array of the same rank\n",
        "my_array_copy = my_2d_array.copy()\n",
        "row_slice = my_array_copy[1:3, :] #a:b - including a, until (and excluding) b\n",
        "print ('sliced array on [1:3, :]: \\n', row_slice)"
      ],
      "execution_count": 47,
      "outputs": [
        {
          "output_type": "stream",
          "text": [
            "original array: [[ 1  2  3  4  5]\n",
            " [11 12 13 14 15]\n",
            " [21 22 23 24 25]] \n",
            "\n",
            "sliced array on [1:3, :]: \n",
            " [[11 12 13 14 15]\n",
            " [21 22 23 24 25]]\n"
          ],
          "name": "stdout"
        }
      ]
    },
    {
      "cell_type": "code",
      "metadata": {
        "colab": {
          "base_uri": "https://localhost:8080/"
        },
        "id": "M0f_4RT07RK8",
        "outputId": "0aea47e3-4de0-48ce-d6ae-59c3170472d5"
      },
      "source": [
        "#if we change the sliced array it will changed the original array too\n",
        "row_slice[1:4, :] = 12\n",
        "\n",
        "print ('sliced array: \\n', row_slice, '\\n')\n",
        "print ('original array: \\n', my_2d_array)\n"
      ],
      "execution_count": null,
      "outputs": [
        {
          "output_type": "stream",
          "text": [
            "sliced array: \n",
            " [[11 12 13 14 15]\n",
            " [12 12 12 12 12]] \n",
            "\n",
            "original array: \n",
            " [[ 1  2  3  4  5]\n",
            " [11 12 13 14 15]\n",
            " [21 22 23 24 25]]\n"
          ],
          "name": "stdout"
        }
      ]
    },
    {
      "cell_type": "code",
      "metadata": {
        "colab": {
          "base_uri": "https://localhost:8080/"
        },
        "id": "UTOheuHq7V_K",
        "outputId": "f2eeedb6-f07a-4eee-a1fd-b01306af55f2"
      },
      "source": [
        "#we can do the slicing for columns as well\n",
        "slice_col = my_2d_array[:, 1:5]\n",
        "print (slice_col)"
      ],
      "execution_count": 7,
      "outputs": [
        {
          "output_type": "stream",
          "text": [
            "[[ 2  3  4  5]\n",
            " [12 13 14 15]\n",
            " [22 23 24 25]]\n"
          ],
          "name": "stdout"
        }
      ]
    },
    {
      "cell_type": "code",
      "metadata": {
        "colab": {
          "base_uri": "https://localhost:8080/"
        },
        "id": "m2Ekg4b27XvO",
        "outputId": "8ec50483-4297-4624-e676-c148975529d7"
      },
      "source": [
        "# filters to select just those elements which meet certain criteria \n",
        "#select the elements that are greater than 10\n",
        "slice_col[slice_col>10]"
      ],
      "execution_count": 8,
      "outputs": [
        {
          "output_type": "execute_result",
          "data": {
            "text/plain": [
              "array([12, 13, 14, 15, 22, 23, 24, 25])"
            ]
          },
          "metadata": {
            "tags": []
          },
          "execution_count": 8
        }
      ]
    },
    {
      "cell_type": "markdown",
      "metadata": {
        "id": "R0hLFnda7hTd"
      },
      "source": [
        "###**Arithmetic array operations**\n",
        "\n",
        "More documentation at https://docs.scipy.org/doc/numpy-1.13.0/reference/routines.math.html"
      ]
    },
    {
      "cell_type": "code",
      "metadata": {
        "colab": {
          "base_uri": "https://localhost:8080/"
        },
        "id": "lym5ChIW7e_j",
        "outputId": "9542b5ea-2a4b-4e4e-89f3-81d385f6eb8a"
      },
      "source": [
        "#addition can be done in two ways: with the plus sign, with the 'add' numpy function\n",
        "arr_a = np.array([[10, 20, 30], [40, 50, 60]])\n",
        "arr_b = np.array([[11, 21, 31], [41, 51, 61]])\n",
        "\n",
        "print(\"Array A\")\n",
        "print(arr_a, '\\n')\n",
        "\n",
        "print(\"Array B\")\n",
        "print(arr_b, '\\n')\n",
        "\n",
        "print(\"Direct Addition\")\n",
        "print (arr_a + arr_b, '\\n')\n",
        "\n",
        "print(\"Numpy Addition\")\n",
        "print (np.add(arr_a, arr_b))   "
      ],
      "execution_count": 9,
      "outputs": [
        {
          "output_type": "stream",
          "text": [
            "Array A\n",
            "[[10 20 30]\n",
            " [40 50 60]] \n",
            "\n",
            "Array B\n",
            "[[11 21 31]\n",
            " [41 51 61]] \n",
            "\n",
            "Direct Addition\n",
            "[[ 21  41  61]\n",
            " [ 81 101 121]] \n",
            "\n",
            "Numpy Addition\n",
            "[[ 21  41  61]\n",
            " [ 81 101 121]]\n"
          ],
          "name": "stdout"
        }
      ]
    },
    {
      "cell_type": "code",
      "metadata": {
        "colab": {
          "base_uri": "https://localhost:8080/"
        },
        "id": "LDn13oM-7kXD",
        "outputId": "63d5060e-a897-4187-e987-61e2a4006447"
      },
      "source": [
        "#the same is with the subtraction \n",
        "print(\"Direct Subtraction\")\n",
        "print (arr_b - arr_a, '\\n')\n",
        "\n",
        "print(\"Numpy Subtraction\")\n",
        "print (np.subtract(arr_b, arr_a))"
      ],
      "execution_count": 10,
      "outputs": [
        {
          "output_type": "stream",
          "text": [
            "Direct Subtraction\n",
            "[[1 1 1]\n",
            " [1 1 1]] \n",
            "\n",
            "Numpy Subtraction\n",
            "[[1 1 1]\n",
            " [1 1 1]]\n"
          ],
          "name": "stdout"
        }
      ]
    },
    {
      "cell_type": "code",
      "metadata": {
        "colab": {
          "base_uri": "https://localhost:8080/"
        },
        "id": "Vq7UuzMD7mQf",
        "outputId": "c69e3b34-07b4-470a-f280-73aad6f33cfa"
      },
      "source": [
        "#multiplication\n",
        "print(\"Direct Multiplication\")\n",
        "print (arr_a * arr_b, '\\n')\n",
        "\n",
        "print(\"Numpy Multiplication\")\n",
        "print (np.multiply(arr_a, arr_b))"
      ],
      "execution_count": 11,
      "outputs": [
        {
          "output_type": "stream",
          "text": [
            "Direct Multiplication\n",
            "[[ 110  420  930]\n",
            " [1640 2550 3660]] \n",
            "\n",
            "Numpy Multiplication\n",
            "[[ 110  420  930]\n",
            " [1640 2550 3660]]\n"
          ],
          "name": "stdout"
        }
      ]
    },
    {
      "cell_type": "code",
      "metadata": {
        "colab": {
          "base_uri": "https://localhost:8080/"
        },
        "id": "vaIktIl97pD_",
        "outputId": "e03c09f2-66f5-4dd4-ea1c-8e88dcafe7d6"
      },
      "source": [
        "#division\n",
        "print(\"Direct Division\")\n",
        "print (arr_b / arr_a, '\\n')\n",
        "\n",
        "print(\"Numpy Division\")\n",
        "print (np.divide(arr_b, arr_a))"
      ],
      "execution_count": 12,
      "outputs": [
        {
          "output_type": "stream",
          "text": [
            "Direct Division\n",
            "[[1.1        1.05       1.03333333]\n",
            " [1.025      1.02       1.01666667]] \n",
            "\n",
            "Numpy Division\n",
            "[[1.1        1.05       1.03333333]\n",
            " [1.025      1.02       1.01666667]]\n"
          ],
          "name": "stdout"
        }
      ]
    },
    {
      "cell_type": "code",
      "metadata": {
        "colab": {
          "base_uri": "https://localhost:8080/"
        },
        "id": "Lt5wUEov7qz9",
        "outputId": "ae21711b-d4a0-4b17-b2e4-8970c17064e3"
      },
      "source": [
        "#square root\n",
        "\n",
        "print (np.sqrt(arr_a))"
      ],
      "execution_count": 13,
      "outputs": [
        {
          "output_type": "stream",
          "text": [
            "[[3.16227766 4.47213595 5.47722558]\n",
            " [6.32455532 7.07106781 7.74596669]]\n"
          ],
          "name": "stdout"
        }
      ]
    },
    {
      "cell_type": "code",
      "metadata": {
        "colab": {
          "base_uri": "https://localhost:8080/"
        },
        "id": "rO8qV3Vl7tD3",
        "outputId": "7c9f0853-5aba-4104-e5e1-9379a7539632"
      },
      "source": [
        "#exponent (e**x)\n",
        "\n",
        "print (np.exp(arr_a))"
      ],
      "execution_count": 14,
      "outputs": [
        {
          "output_type": "stream",
          "text": [
            "[[2.20264658e+04 4.85165195e+08 1.06864746e+13]\n",
            " [2.35385267e+17 5.18470553e+21 1.14200739e+26]]\n"
          ],
          "name": "stdout"
        }
      ]
    },
    {
      "cell_type": "code",
      "metadata": {
        "colab": {
          "base_uri": "https://localhost:8080/"
        },
        "id": "4kwUxsHZ7u-Y",
        "outputId": "c39e3e6c-0501-4f88-8d59-5a9113ebcd5c"
      },
      "source": [
        "#power\n",
        "\n",
        "print (np.power(arr_a, 2))"
      ],
      "execution_count": 15,
      "outputs": [
        {
          "output_type": "stream",
          "text": [
            "[[ 100  400  900]\n",
            " [1600 2500 3600]]\n"
          ],
          "name": "stdout"
        }
      ]
    },
    {
      "cell_type": "markdown",
      "metadata": {
        "id": "2TyWh5UZj693"
      },
      "source": [
        "**Assignment 1**\n",
        "\n",
        "1. Create two different array( x and y) from a list\n",
        "1. Add array, x and y. Print the result.\n",
        "1. Subtract array, x from y. Print the result.\n",
        "1. Multiply array, x by 5. Print the result.\n",
        "1. Divide array, y and 10. Print the result."
      ]
    },
    {
      "cell_type": "markdown",
      "metadata": {
        "id": "8CFIBK26_m1C"
      },
      "source": [
        "##**Pandas**\n",
        "Pandas is an open source library for numerical computations, it is built on numpy.\n",
        "\n",
        "Pandas helps you to carryout analysis faster and efficiently and it can work with excel sheet, csv and some other file types.\n",
        "Documentation - https://pandas.pydata.org/pandas-docs/version/0.25.3/"
      ]
    },
    {
      "cell_type": "markdown",
      "metadata": {
        "id": "C4kOr0CqE69a"
      },
      "source": [
        "###**Pandas Series**\n"
      ]
    },
    {
      "cell_type": "code",
      "metadata": {
        "colab": {
          "base_uri": "https://localhost:8080/"
        },
        "id": "vCuWFEMoE6md",
        "outputId": "2b897550-d306-4872-ebe4-0f259fb3c495"
      },
      "source": [
        "#creating panda series from list\n",
        "lts = ['a', 'b', 'c', 'd', 'e']\n",
        "ser_1 = pd.Series(lts)\n",
        "\n",
        "print (ser_1)"
      ],
      "execution_count": null,
      "outputs": [
        {
          "output_type": "stream",
          "text": [
            "0    a\n",
            "1    b\n",
            "2    c\n",
            "3    d\n",
            "4    e\n",
            "dtype: object\n"
          ],
          "name": "stdout"
        }
      ]
    },
    {
      "cell_type": "code",
      "metadata": {
        "colab": {
          "base_uri": "https://localhost:8080/"
        },
        "id": "Kt_sBO7yFCwK",
        "outputId": "6fb64314-362a-492d-edf8-7abc892fa7a7"
      },
      "source": [
        "#creating panda series from array\n",
        "import pandas as pd\n",
        "arr = np.array([10, 20, 30, 40, 50])\n",
        "ser_2 = pd.Series(arr)\n",
        "\n",
        "print (ser_2)"
      ],
      "execution_count": 17,
      "outputs": [
        {
          "output_type": "stream",
          "text": [
            "0    10\n",
            "1    20\n",
            "2    30\n",
            "3    40\n",
            "4    50\n",
            "dtype: int64\n"
          ],
          "name": "stdout"
        }
      ]
    },
    {
      "cell_type": "code",
      "metadata": {
        "colab": {
          "base_uri": "https://localhost:8080/"
        },
        "id": "ZP-mbzU1FFHX",
        "outputId": "36023446-5f9f-4f4c-f072-b7d2cc729d14"
      },
      "source": [
        "#create series with specific indexing\n",
        "ser_3 = pd.Series(arr, index = ['a', 'b', 'c', 'e', 'f'])\n",
        "\n",
        "print (ser_3)"
      ],
      "execution_count": 29,
      "outputs": [
        {
          "output_type": "stream",
          "text": [
            "a    10\n",
            "b    20\n",
            "c    30\n",
            "e    40\n",
            "f    50\n",
            "dtype: int64\n"
          ],
          "name": "stdout"
        }
      ]
    },
    {
      "cell_type": "code",
      "metadata": {
        "colab": {
          "base_uri": "https://localhost:8080/"
        },
        "id": "xhDwmX89FG_F",
        "outputId": "96c07ca6-f6c5-4598-caf3-feb5c8ca3552"
      },
      "source": [
        "#accessing an element using the index \n",
        "print (ser_3[3], '\\n\\n')\n",
        "print (ser_3[[0, 2, 4]], '\\n\\n')\n",
        "print (ser_3[:3])"
      ],
      "execution_count": 25,
      "outputs": [
        {
          "output_type": "stream",
          "text": [
            "40 \n",
            "\n",
            "\n",
            "a    10\n",
            "c    30\n",
            "f    50\n",
            "dtype: int64 \n",
            "\n",
            "\n",
            "a    10\n",
            "b    20\n",
            "c    30\n",
            "dtype: int64\n"
          ],
          "name": "stdout"
        }
      ]
    },
    {
      "cell_type": "code",
      "metadata": {
        "colab": {
          "base_uri": "https://localhost:8080/"
        },
        "id": "0gFWObG3GNe7",
        "outputId": "516625bf-e930-4746-8d5c-ce5747880d79"
      },
      "source": [
        "#accessing element using an index label\n",
        "print (ser_3['a'])\n",
        "print (ser_3[['b', 'a']])"
      ],
      "execution_count": 33,
      "outputs": [
        {
          "output_type": "stream",
          "text": [
            "10\n",
            "b    20\n",
            "a    10\n",
            "dtype: int64\n"
          ],
          "name": "stdout"
        }
      ]
    },
    {
      "cell_type": "markdown",
      "metadata": {
        "id": "YUYkHX_I3IAT"
      },
      "source": [
        "### Create a Pandas DataFrame\n",
        "\n",
        "Pandas DataFrame is a two-dimensional labeled data structure."
      ]
    },
    {
      "cell_type": "code",
      "metadata": {
        "colab": {
          "base_uri": "https://localhost:8080/"
        },
        "id": "3E6hU6qV3Mcq",
        "outputId": "6b62a5e1-1870-4264-b68c-4c2f5c3bad2f"
      },
      "source": [
        "#Creating from a list of lists\n",
        "pet_info = [['Howard', 10, 'Goat'], ['Lucy', 4 , 'Fish'], ['Roco', 8, 'Lizard']]\n",
        "pet_info"
      ],
      "execution_count": 35,
      "outputs": [
        {
          "output_type": "execute_result",
          "data": {
            "text/plain": [
              "[['Howard', 10, 'Goat'], ['Lucy', 4, 'Fish'], ['Roco', 8, 'Lizard']]"
            ]
          },
          "metadata": {
            "tags": []
          },
          "execution_count": 35
        }
      ]
    },
    {
      "cell_type": "code",
      "metadata": {
        "colab": {
          "base_uri": "https://localhost:8080/",
          "height": 143
        },
        "id": "cTbxuatM4HEH",
        "outputId": "b4a3b069-7d9c-42bc-abfd-63d8a4c54d1b"
      },
      "source": [
        "pet_df = pd.DataFrame(pet_info, columns = ['Name', 'Age', 'Type'],\n",
        "                      index = ['A', 'B', 'C'])\n",
        "                     \n",
        "pet_df"
      ],
      "execution_count": 36,
      "outputs": [
        {
          "output_type": "execute_result",
          "data": {
            "text/html": [
              "<div>\n",
              "<style scoped>\n",
              "    .dataframe tbody tr th:only-of-type {\n",
              "        vertical-align: middle;\n",
              "    }\n",
              "\n",
              "    .dataframe tbody tr th {\n",
              "        vertical-align: top;\n",
              "    }\n",
              "\n",
              "    .dataframe thead th {\n",
              "        text-align: right;\n",
              "    }\n",
              "</style>\n",
              "<table border=\"1\" class=\"dataframe\">\n",
              "  <thead>\n",
              "    <tr style=\"text-align: right;\">\n",
              "      <th></th>\n",
              "      <th>Name</th>\n",
              "      <th>Age</th>\n",
              "      <th>Type</th>\n",
              "    </tr>\n",
              "  </thead>\n",
              "  <tbody>\n",
              "    <tr>\n",
              "      <th>A</th>\n",
              "      <td>Howard</td>\n",
              "      <td>10</td>\n",
              "      <td>Goat</td>\n",
              "    </tr>\n",
              "    <tr>\n",
              "      <th>B</th>\n",
              "      <td>Lucy</td>\n",
              "      <td>4</td>\n",
              "      <td>Fish</td>\n",
              "    </tr>\n",
              "    <tr>\n",
              "      <th>C</th>\n",
              "      <td>Roco</td>\n",
              "      <td>8</td>\n",
              "      <td>Lizard</td>\n",
              "    </tr>\n",
              "  </tbody>\n",
              "</table>\n",
              "</div>"
            ],
            "text/plain": [
              "     Name  Age    Type\n",
              "A  Howard   10    Goat\n",
              "B    Lucy    4    Fish\n",
              "C    Roco    8  Lizard"
            ]
          },
          "metadata": {
            "tags": []
          },
          "execution_count": 36
        }
      ]
    },
    {
      "cell_type": "code",
      "metadata": {
        "colab": {
          "base_uri": "https://localhost:8080/"
        },
        "id": "fhwYNSHraE-i",
        "outputId": "306e1f5f-b7c1-4712-faa2-1a6e4de74e6a"
      },
      "source": [
        "pet_df['Name']"
      ],
      "execution_count": 37,
      "outputs": [
        {
          "output_type": "execute_result",
          "data": {
            "text/plain": [
              "A    Howard\n",
              "B      Lucy\n",
              "C      Roco\n",
              "Name: Name, dtype: object"
            ]
          },
          "metadata": {
            "tags": []
          },
          "execution_count": 37
        }
      ]
    },
    {
      "cell_type": "code",
      "metadata": {
        "colab": {
          "base_uri": "https://localhost:8080/",
          "height": 143
        },
        "id": "uVJ8dKw9qpIt",
        "outputId": "482f3e76-6904-4116-e16f-28c1066ad9a4"
      },
      "source": [
        "pet_df[['Name','Age']]"
      ],
      "execution_count": 40,
      "outputs": [
        {
          "output_type": "execute_result",
          "data": {
            "text/html": [
              "<div>\n",
              "<style scoped>\n",
              "    .dataframe tbody tr th:only-of-type {\n",
              "        vertical-align: middle;\n",
              "    }\n",
              "\n",
              "    .dataframe tbody tr th {\n",
              "        vertical-align: top;\n",
              "    }\n",
              "\n",
              "    .dataframe thead th {\n",
              "        text-align: right;\n",
              "    }\n",
              "</style>\n",
              "<table border=\"1\" class=\"dataframe\">\n",
              "  <thead>\n",
              "    <tr style=\"text-align: right;\">\n",
              "      <th></th>\n",
              "      <th>Name</th>\n",
              "      <th>Age</th>\n",
              "    </tr>\n",
              "  </thead>\n",
              "  <tbody>\n",
              "    <tr>\n",
              "      <th>A</th>\n",
              "      <td>Howard</td>\n",
              "      <td>10</td>\n",
              "    </tr>\n",
              "    <tr>\n",
              "      <th>B</th>\n",
              "      <td>Lucy</td>\n",
              "      <td>4</td>\n",
              "    </tr>\n",
              "    <tr>\n",
              "      <th>C</th>\n",
              "      <td>Roco</td>\n",
              "      <td>8</td>\n",
              "    </tr>\n",
              "  </tbody>\n",
              "</table>\n",
              "</div>"
            ],
            "text/plain": [
              "     Name  Age\n",
              "A  Howard   10\n",
              "B    Lucy    4\n",
              "C    Roco    8"
            ]
          },
          "metadata": {
            "tags": []
          },
          "execution_count": 40
        }
      ]
    },
    {
      "cell_type": "markdown",
      "metadata": {
        "id": "bObLEA0SHNcv"
      },
      "source": [
        "### Excercise 2!\n",
        "\n",
        "1. Print out the 'Type' of the columns in pet_df"
      ]
    },
    {
      "cell_type": "markdown",
      "metadata": {
        "id": "zzL0e8o42SnI"
      },
      "source": [
        "### iloc vs. loc\n",
        "\n",
        "1. iloc - position-based indexing (index always starts with 0)\n",
        "\n",
        "1. loc - label-based indexing\n",
        "\n",
        "NB: If you do not specify indexes, then iloc and loc will be the same."
      ]
    },
    {
      "cell_type": "code",
      "metadata": {
        "colab": {
          "base_uri": "https://localhost:8080/"
        },
        "id": "ArujG5zh1wBg",
        "outputId": "62de9b01-835d-4256-85af-b6e72e3ab1ec"
      },
      "source": [
        "pet_df.iloc[1]"
      ],
      "execution_count": 44,
      "outputs": [
        {
          "output_type": "execute_result",
          "data": {
            "text/plain": [
              "Name    Lucy\n",
              "Age        4\n",
              "Type    Fish\n",
              "Name: B, dtype: object"
            ]
          },
          "metadata": {
            "tags": []
          },
          "execution_count": 44
        }
      ]
    },
    {
      "cell_type": "code",
      "metadata": {
        "colab": {
          "base_uri": "https://localhost:8080/"
        },
        "id": "HgbOmjvF6YRC",
        "outputId": "e4b76efb-f2f6-4564-ca04-4145bce1daf7"
      },
      "source": [
        "pet_df.loc['B']"
      ],
      "execution_count": 45,
      "outputs": [
        {
          "output_type": "execute_result",
          "data": {
            "text/plain": [
              "Name    Lucy\n",
              "Age        4\n",
              "Type    Fish\n",
              "Name: B, dtype: object"
            ]
          },
          "metadata": {
            "tags": []
          },
          "execution_count": 45
        }
      ]
    },
    {
      "cell_type": "markdown",
      "metadata": {
        "id": "QbtMHiXqmolR"
      },
      "source": [
        "**Excercise 3**\n",
        "\n",
        "1. Download the weight-height.csv dataset.\n",
        "1. Read the dataset using pandas.\n",
        "1. using pandas positioning to display the fifth datapoint.\n",
        "1. Print a column from the dataset.\n"
      ]
    }
  ]
}