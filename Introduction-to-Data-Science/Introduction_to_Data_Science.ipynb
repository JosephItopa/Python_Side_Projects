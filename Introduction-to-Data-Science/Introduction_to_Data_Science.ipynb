{
  "nbformat": 4,
  "nbformat_minor": 0,
  "metadata": {
    "colab": {
      "name": "Introduction-to-Data-Science.ipynb",
      "provenance": []
    },
    "kernelspec": {
      "name": "python3",
      "display_name": "Python 3"
    },
    "language_info": {
      "name": "python"
    }
  },
  "cells": [
    {
      "cell_type": "markdown",
      "metadata": {
        "id": "elkmrL3AMcoc"
      },
      "source": [
        "**INTRODUCTION TO DATA SCIENCE - WEEK 1** \n",
        "\n",
        "1. Importing Libraries.\n",
        "1. Python Built-in Methods: print, len, min, max, count, sum, range, append, remove, insert, sort.\n",
        "1. Data types and structures: integer, float, string, list, dictionary, tuple.\n",
        "1. Introduction to python methods and classes.\n",
        "1. Python statement and loops: for and while loop, if, if-else, break, continue statement."
      ]
    },
    {
      "cell_type": "code",
      "metadata": {
        "colab": {
          "base_uri": "https://localhost:8080/"
        },
        "id": "ZuXA11hGzRlT",
        "outputId": "19a8b51f-9bd9-4bdf-b09e-0820bb6922d5"
      },
      "source": [
        "from platform import python_version\n",
        "print(python_version())"
      ],
      "execution_count": 1,
      "outputs": [
        {
          "output_type": "stream",
          "text": [
            "3.7.10\n"
          ],
          "name": "stdout"
        }
      ]
    },
    {
      "cell_type": "code",
      "metadata": {
        "colab": {
          "base_uri": "https://localhost:8080/"
        },
        "id": "-55yj1AL0nPV",
        "outputId": "8c002bda-e561-4e35-d9e5-f029ec154219"
      },
      "source": [
        "#integer value\n",
        "i_val = 10\n",
        "print(i_val)"
      ],
      "execution_count": 2,
      "outputs": [
        {
          "output_type": "stream",
          "text": [
            "10\n"
          ],
          "name": "stdout"
        }
      ]
    },
    {
      "cell_type": "code",
      "metadata": {
        "colab": {
          "base_uri": "https://localhost:8080/"
        },
        "id": "FvJjAdm_0oRN",
        "outputId": "131601d8-7a11-4bee-aa88-be903db1e2dd"
      },
      "source": [
        "#float value\n",
        "f_val = 13.6455\n",
        "print(f_val,type(f_val))        "
      ],
      "execution_count": 3,
      "outputs": [
        {
          "output_type": "stream",
          "text": [
            "13.6455 <class 'float'>\n"
          ],
          "name": "stdout"
        }
      ]
    },
    {
      "cell_type": "code",
      "metadata": {
        "colab": {
          "base_uri": "https://localhost:8080/"
        },
        "id": "d3j98V6s0yHw",
        "outputId": "abf050a8-7683-4010-e392-6918328f2419"
      },
      "source": [
        "#complex value\n",
        "c_val = 3.142j\n",
        "print(c_val, type(c_val))"
      ],
      "execution_count": 4,
      "outputs": [
        {
          "output_type": "stream",
          "text": [
            "3.142j <class 'complex'>\n"
          ],
          "name": "stdout"
        }
      ]
    },
    {
      "cell_type": "code",
      "metadata": {
        "colab": {
          "base_uri": "https://localhost:8080/"
        },
        "id": "naq6r1YVzxSB",
        "outputId": "2621f0d4-52a0-4f1f-dfbc-cfd1e72d89c6"
      },
      "source": [
        "# string value\n",
        "str_val = 'Hello World'\n",
        "print(type(str_val))\n",
        "print(str_val)"
      ],
      "execution_count": 6,
      "outputs": [
        {
          "output_type": "stream",
          "text": [
            "<class 'str'>\n",
            "Hello World\n"
          ],
          "name": "stdout"
        }
      ]
    },
    {
      "cell_type": "code",
      "metadata": {
        "colab": {
          "base_uri": "https://localhost:8080/"
        },
        "id": "4VIlpcGC0atz",
        "outputId": "f7c1160a-0f36-474e-ac15-db94242301da"
      },
      "source": [
        "str_val = 'Hello World'\n",
        "print(str_val[6])"
      ],
      "execution_count": 8,
      "outputs": [
        {
          "output_type": "stream",
          "text": [
            "W\n"
          ],
          "name": "stdout"
        }
      ]
    },
    {
      "cell_type": "code",
      "metadata": {
        "id": "fH71QhBXzro1"
      },
      "source": [
        "list1 = ['abcd',4321,10.5422,'d'] #can be an array of any data type or single data type.\n",
        "list2 = ['hello','world']"
      ],
      "execution_count": 9,
      "outputs": []
    },
    {
      "cell_type": "code",
      "metadata": {
        "colab": {
          "base_uri": "https://localhost:8080/"
        },
        "id": "4DjJE0BEjlNf",
        "outputId": "1c57a0c5-b0f6-4e52-bb0f-7da470276e05"
      },
      "source": [
        "print(list1[1])"
      ],
      "execution_count": 11,
      "outputs": [
        {
          "output_type": "stream",
          "text": [
            "4321\n"
          ],
          "name": "stdout"
        }
      ]
    },
    {
      "cell_type": "code",
      "metadata": {
        "colab": {
          "base_uri": "https://localhost:8080/"
        },
        "id": "8hzvOtUsjuuO",
        "outputId": "a96577c1-0d8e-4dbc-bcac-0cde8a9627a9"
      },
      "source": [
        "print(list2[1])"
      ],
      "execution_count": 12,
      "outputs": [
        {
          "output_type": "stream",
          "text": [
            "world\n"
          ],
          "name": "stdout"
        }
      ]
    },
    {
      "cell_type": "code",
      "metadata": {
        "colab": {
          "base_uri": "https://localhost:8080/"
        },
        "id": "nmL3C0px0EFg",
        "outputId": "064f7276-9fb6-48e2-fc59-9262c3be5969"
      },
      "source": [
        "dict_1 = {'name':'bill','age':30}\n",
        "print(dict_1['name']) #will output all the key-value pairs. "
      ],
      "execution_count": 17,
      "outputs": [
        {
          "output_type": "stream",
          "text": [
            "bill\n"
          ],
          "name": "stdout"
        }
      ]
    },
    {
      "cell_type": "code",
      "metadata": {
        "colab": {
          "base_uri": "https://localhost:8080/"
        },
        "id": "NW1NkzkD0J4I",
        "outputId": "f68d4e5a-679f-4afb-9ad8-6e26a05599a4"
      },
      "source": [
        "dict_1 = {'name':'bill','age':30}\n",
        "print(dict_1.values())              "
      ],
      "execution_count": 15,
      "outputs": [
        {
          "output_type": "stream",
          "text": [
            "dict_values(['bill', 30])\n"
          ],
          "name": "stdout"
        }
      ]
    },
    {
      "cell_type": "code",
      "metadata": {
        "colab": {
          "base_uri": "https://localhost:8080/"
        },
        "id": "RYJChdYk0LJ4",
        "outputId": "ab1edad7-3fe8-473f-c9da-c393bbb2860e"
      },
      "source": [
        "dict_1 = {'name':'bill','age':30}\n",
        "print(dict_1.keys())"
      ],
      "execution_count": null,
      "outputs": [
        {
          "output_type": "stream",
          "text": [
            "dict_keys(['name', 'age'])\n"
          ],
          "name": "stdout"
        }
      ]
    },
    {
      "cell_type": "code",
      "metadata": {
        "id": "ySwf1pdi2mbe",
        "colab": {
          "base_uri": "https://localhost:8080/"
        },
        "outputId": "c16742f3-13b2-4dde-c8f7-647347ec30e6"
      },
      "source": [
        "list1 = [1, 2, 3, 4, 5, 6, 7]\n",
        "tuple1 = (1, 2, 3, 4, 5, 6, 7)\n",
        "print('The list is: ', list1) # Print the list\n",
        "print('The tuple is: ', tuple1) # Print the tuple"
      ],
      "execution_count": 30,
      "outputs": [
        {
          "output_type": "stream",
          "text": [
            "The list is:  [1, 2, 3, 4, 5, 6, 7]\n",
            "The tuple is:  (1, 2, 3, 4, 5, 6, 7)\n"
          ],
          "name": "stdout"
        }
      ]
    },
    {
      "cell_type": "markdown",
      "metadata": {
        "id": "Y4Cb5bS9EQd_"
      },
      "source": [
        "**Python Built-in Methods: print, len, min, max, count, sum, range, append, remove, insert, sort.**"
      ]
    },
    {
      "cell_type": "code",
      "metadata": {
        "id": "i40KJpcFEcI6"
      },
      "source": [
        "#print(list1)\n",
        "#print(len(list1))\n",
        "#print(min(list1), max(list1))\n",
        "#remove(list1[3])"
      ],
      "execution_count": 40,
      "outputs": []
    },
    {
      "cell_type": "markdown",
      "metadata": {
        "id": "gpviLMwQ9PqN"
      },
      "source": [
        "**Control statement and logical operators**"
      ]
    },
    {
      "cell_type": "code",
      "metadata": {
        "colab": {
          "base_uri": "https://localhost:8080/"
        },
        "id": "NBP1Cj9rzZHY",
        "outputId": "f466ec48-9766-4c70-813f-cb2bcce3e50e"
      },
      "source": [
        "# A simple if statement\n",
        "num = 4\n",
        "if num != 5:\n",
        "   print(\"I told you..\")"
      ],
      "execution_count": 42,
      "outputs": [
        {
          "output_type": "stream",
          "text": [
            "I told you..\n"
          ],
          "name": "stdout"
        }
      ]
    },
    {
      "cell_type": "code",
      "metadata": {
        "colab": {
          "base_uri": "https://localhost:8080/"
        },
        "id": "8AwR3IFtzStJ",
        "outputId": "defbdff0-966d-4fb7-ca49-2f68ef99ae7a"
      },
      "source": [
        "num = int(input('Enter any number: '))\n",
        "if num < 0:\n",
        "   print('Its negative')\n",
        "else:\n",
        "   print('Its not negative')"
      ],
      "execution_count": 44,
      "outputs": [
        {
          "output_type": "stream",
          "text": [
            "Enter any number: -3\n",
            "Its negative\n"
          ],
          "name": "stdout"
        }
      ]
    },
    {
      "cell_type": "code",
      "metadata": {
        "colab": {
          "base_uri": "https://localhost:8080/"
        },
        "id": "IY-0aebMzKIG",
        "outputId": "2e535c07-7560-453e-fc6a-a1eea31df691"
      },
      "source": [
        "# validating if a number is less than or greater than a particular value\n",
        "num = 30\n",
        "if(num < 50 or num > 20):\n",
        "  print(\"The number is between 20 and 50\")"
      ],
      "execution_count": 47,
      "outputs": [
        {
          "output_type": "stream",
          "text": [
            "The number is between 20 and 50\n"
          ],
          "name": "stdout"
        }
      ]
    },
    {
      "cell_type": "code",
      "metadata": {
        "colab": {
          "base_uri": "https://localhost:8080/"
        },
        "id": "VD716ANfL9AE",
        "outputId": "1cc5f753-3463-4dfc-c121-8d1abf964994"
      },
      "source": [
        "# validating if a number is within range\n",
        "num = 5\n",
        "if(num > 10 and num <30):\n",
        "  print(\"The number is within range\")\n",
        "else:\n",
        "  print(\"The number is out of range\")  "
      ],
      "execution_count": 49,
      "outputs": [
        {
          "output_type": "stream",
          "text": [
            "The number is out of range\n"
          ],
          "name": "stdout"
        }
      ]
    },
    {
      "cell_type": "code",
      "metadata": {
        "colab": {
          "base_uri": "https://localhost:8080/"
        },
        "id": "vxM9Tw7XqDS_",
        "outputId": "f51cb498-2944-41b9-f579-1829fc74febd"
      },
      "source": [
        "n = 5\n",
        "for i in (1, n):\n",
        "  print(n)"
      ],
      "execution_count": 54,
      "outputs": [
        {
          "output_type": "stream",
          "text": [
            "5\n",
            "5\n"
          ],
          "name": "stdout"
        }
      ]
    },
    {
      "cell_type": "code",
      "metadata": {
        "colab": {
          "base_uri": "https://localhost:8080/"
        },
        "id": "pgFvQK081et1",
        "outputId": "373456af-1482-4e85-954b-feb08e387004"
      },
      "source": [
        "# using range method to define group of number with step size\n",
        "num = 1 # Initialize sum\n",
        "for i in range(1, 100, 10): #for loop with step size\n",
        "    print(num)"
      ],
      "execution_count": 55,
      "outputs": [
        {
          "output_type": "stream",
          "text": [
            "1\n",
            "1\n",
            "1\n",
            "1\n",
            "1\n",
            "1\n",
            "1\n",
            "1\n",
            "1\n",
            "1\n"
          ],
          "name": "stdout"
        }
      ]
    },
    {
      "cell_type": "code",
      "metadata": {
        "colab": {
          "base_uri": "https://localhost:8080/"
        },
        "id": "k1jbguDr1ga6",
        "outputId": "e1318ac8-7ac3-4506-c736-48a8b2ee06b4"
      },
      "source": [
        "# A Simple Nested For Loop\n",
        "for i in range(1, 10, 1):\n",
        "  print(i)\n",
        "  for j in range(1, 5, 1):\n",
        "    print(j)"
      ],
      "execution_count": 56,
      "outputs": [
        {
          "output_type": "stream",
          "text": [
            "1\n",
            "1\n",
            "2\n",
            "3\n",
            "4\n",
            "2\n",
            "1\n",
            "2\n",
            "3\n",
            "4\n",
            "3\n",
            "1\n",
            "2\n",
            "3\n",
            "4\n",
            "4\n",
            "1\n",
            "2\n",
            "3\n",
            "4\n",
            "5\n",
            "1\n",
            "2\n",
            "3\n",
            "4\n",
            "6\n",
            "1\n",
            "2\n",
            "3\n",
            "4\n",
            "7\n",
            "1\n",
            "2\n",
            "3\n",
            "4\n",
            "8\n",
            "1\n",
            "2\n",
            "3\n",
            "4\n",
            "9\n",
            "1\n",
            "2\n",
            "3\n",
            "4\n"
          ],
          "name": "stdout"
        }
      ]
    },
    {
      "cell_type": "code",
      "metadata": {
        "colab": {
          "base_uri": "https://localhost:8080/"
        },
        "id": "IR2oFsGK1St2",
        "outputId": "4aa6a0b9-2330-40c1-8b70-6ac7454f1fc8"
      },
      "source": [
        "count = 1 # Initialize counter\n",
        "print(\"Counter initialized\")\n",
        "while count < 8: # Should we continue?\n",
        "      print(count) # Display count, then\n",
        "      count += 1 # Increment counter        count = count + 1"
      ],
      "execution_count": 57,
      "outputs": [
        {
          "output_type": "stream",
          "text": [
            "Counter initialized\n",
            "1\n",
            "2\n",
            "3\n",
            "4\n",
            "5\n",
            "6\n",
            "7\n"
          ],
          "name": "stdout"
        }
      ]
    },
    {
      "cell_type": "code",
      "metadata": {
        "colab": {
          "base_uri": "https://localhost:8080/"
        },
        "id": "lWGJuOGn1vNA",
        "outputId": "f7b00d1d-f24c-4da8-ca2c-495260e67ba7"
      },
      "source": [
        "# Only print code if all iterations completed \n",
        "num = int(input('Enter a number to check for: '))\n",
        "for i in range(1, num):\n",
        "    print(i, ' ')\n",
        "    if i == num:\n",
        "        break\n",
        "    else:\n",
        "        continue\n",
        "    \n",
        "print('Done')"
      ],
      "execution_count": 60,
      "outputs": [
        {
          "output_type": "stream",
          "text": [
            "Enter a number to check for: 1\n",
            "Done\n"
          ],
          "name": "stdout"
        }
      ]
    },
    {
      "cell_type": "markdown",
      "metadata": {
        "id": "gy14kX0f8fw6"
      },
      "source": [
        "**Introduction to python function and class**"
      ]
    },
    {
      "cell_type": "code",
      "metadata": {
        "id": "XOykDyfp4kOs"
      },
      "source": [
        "# A simple function to print a sentence\n",
        "def print_note():\n",
        "    print('Hello to data science!')"
      ],
      "execution_count": 62,
      "outputs": []
    },
    {
      "cell_type": "code",
      "metadata": {
        "colab": {
          "base_uri": "https://localhost:8080/"
        },
        "id": "Mk9Dg5pusf9W",
        "outputId": "f615c7c5-237c-42b3-9b38-1a3eb5746a8b"
      },
      "source": [
        "print_note()"
      ],
      "execution_count": 63,
      "outputs": [
        {
          "output_type": "stream",
          "text": [
            "Hello to data science!\n"
          ],
          "name": "stdout"
        }
      ]
    },
    {
      "cell_type": "code",
      "metadata": {
        "id": "JHst2SE14mUC"
      },
      "source": [
        "# The square function\n",
        "def square(a):\n",
        "    return a * a"
      ],
      "execution_count": 64,
      "outputs": []
    },
    {
      "cell_type": "code",
      "metadata": {
        "colab": {
          "base_uri": "https://localhost:8080/"
        },
        "id": "ewBfAwctsxfJ",
        "outputId": "07886cac-ebba-45e8-f70c-7f75c09d74fe"
      },
      "source": [
        "square(2) #invoke the function"
      ],
      "execution_count": 65,
      "outputs": [
        {
          "output_type": "execute_result",
          "data": {
            "text/plain": [
              "4"
            ]
          },
          "metadata": {
            "tags": []
          },
          "execution_count": 65
        }
      ]
    },
    {
      "cell_type": "code",
      "metadata": {
        "colab": {
          "base_uri": "https://localhost:8080/"
        },
        "id": "Vrh3U5EH43_f",
        "outputId": "ede60f6a-33dc-4cbc-e653-746b1b5de417"
      },
      "source": [
        "# Default parameter\n",
        "def value(x = 15):\n",
        "    return x\n",
        "\n",
        "value(23)"
      ],
      "execution_count": 67,
      "outputs": [
        {
          "output_type": "execute_result",
          "data": {
            "text/plain": [
              "23"
            ]
          },
          "metadata": {
            "tags": []
          },
          "execution_count": 67
        }
      ]
    },
    {
      "cell_type": "code",
      "metadata": {
        "colab": {
          "base_uri": "https://localhost:8080/"
        },
        "id": "5bQTJBT3460F",
        "outputId": "20a12255-fb46-41af-ab07-f5708324fb17"
      },
      "source": [
        "# Multiple parameters in a function\n",
        "def sum(x = 45, y = 23):\n",
        "    \"\"\" This function is to sum a number\n",
        "\n",
        "    \"\"\"\n",
        "    return x + y\n",
        "\n",
        "sum(5, 8)"
      ],
      "execution_count": 71,
      "outputs": [
        {
          "output_type": "execute_result",
          "data": {
            "text/plain": [
              "13"
            ]
          },
          "metadata": {
            "tags": []
          },
          "execution_count": 71
        }
      ]
    },
    {
      "cell_type": "code",
      "metadata": {
        "colab": {
          "base_uri": "https://localhost:8080/"
        },
        "id": "i-SOJdka5EK8",
        "outputId": "a8bc41f5-6a63-4b1d-8b98-12c4744c6d21"
      },
      "source": [
        "# A function to count based on value of n\n",
        "def n_count(n = 5):\n",
        "  for x in range(1, n + 1):\n",
        "    print(x, end=' ')\n",
        "\n",
        "n_count(4)"
      ],
      "execution_count": 75,
      "outputs": [
        {
          "output_type": "stream",
          "text": [
            "1 2 3 4 "
          ],
          "name": "stdout"
        }
      ]
    },
    {
      "cell_type": "code",
      "metadata": {
        "id": "_jVfwvjJ5H5p",
        "colab": {
          "base_uri": "https://localhost:8080/"
        },
        "outputId": "bccdf5b4-8082-4840-a06a-95b181e335ab"
      },
      "source": [
        "# A simple class for fruits and corresponding taste \n",
        "class Fruits:\n",
        "      def __init__(self, name, taste):\n",
        "          self.name = name\n",
        "          self.taste = taste\n",
        "\n",
        "Fruits1 = Fruits('Apple','sweet')\n",
        "Fruits2 = Fruits('Lemon','sour')\n",
        "Fruits3 = Fruits('Mango','sweet')\n",
        "\n",
        "print(Fruits3.name, \"and \", Fruits1.taste)"
      ],
      "execution_count": 78,
      "outputs": [
        {
          "output_type": "stream",
          "text": [
            "Mango and  sweet\n"
          ],
          "name": "stdout"
        }
      ]
    },
    {
      "cell_type": "markdown",
      "metadata": {
        "id": "ofFlOiZuwwQb"
      },
      "source": [
        "**Assignment**\n",
        "\n",
        "1. Write a python function that find the simple interest rate?\n",
        "\n",
        " Hint: \n",
        "       a. Simple Interest(I) = (Principal(P) * Rate(R) * Period(T)) / 100\n",
        "       b.  Your function should take three parameters\n",
        "\n",
        "2. Write a python function that print out the odd numbers with 1 and 200.\n",
        "\n",
        "3. Write a python function that print out the even numbers with 1 and 200.\n",
        "\n",
        "    NB: Answer question one only or you answer question two and three only. If you are capable of answering all, do it."
      ]
    }
  ]
}