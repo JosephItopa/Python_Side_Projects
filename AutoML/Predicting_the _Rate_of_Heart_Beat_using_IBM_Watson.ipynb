{
  "nbformat": 4,
  "nbformat_minor": 0,
  "metadata": {
    "celltoolbar": "Raw Cell Format",
    "kernelspec": {
      "name": "python36",
      "display_name": "Python 3.6 with Spark",
      "language": "python3"
    },
    "language_info": {
      "mimetype": "text/x-python",
      "nbconvert_exporter": "python",
      "name": "python",
      "pygments_lexer": "ipython3",
      "version": "3.6.8",
      "file_extension": ".py",
      "codemirror_mode": {
        "version": 3,
        "name": "ipython"
      }
    },
    "colab": {
      "name": "HeartPredMLModel.ipynb",
      "provenance": []
    }
  },
  "cells": [
    {
      "cell_type": "markdown",
      "metadata": {
        "id": "-kj2AdfH97aD"
      },
      "source": [
        "# Predict heart failure with Watson Machine Learning\n",
        "\n",
        "![](https://www.cdc.gov/vitalsigns/heartdisease-stroke/images/graph4_980px.jpg)\n",
        "\n",
        "This notebook contains steps and code to create a predictive model to predict heart failure and then deploy that model to Watson Machine Learning so it can be used in an application.\n",
        "\n",
        "## Learning Goals\n",
        "\n",
        "The learning goals of this notebook are:\n",
        "\n",
        "* Load a CSV file into the Object Storage service linked to your Watson Studio\n",
        "* Create an Apache Spark machine learning model\n",
        "* Train and evaluate a model\n",
        "* Persist a model in a Watson Machine Learning repository"
      ]
    },
    {
      "cell_type": "markdown",
      "metadata": {
        "id": "aW-79xEX97aj"
      },
      "source": [
        "## 1. Setup\n",
        "\n",
        "Before you use the sample code in this notebook, you must perform the following setup tasks:\n",
        "\n",
        "* Create a Watson Machine Learning service instance (a free plan is offered) and associate it with your project\n",
        "* Upload heart failure data to the Object Store service that is part of Watson Studio"
      ]
    },
    {
      "cell_type": "markdown",
      "metadata": {
        "id": "ZzgTNsS697an"
      },
      "source": [
        "We'll be using a few libraries for this exercise:\n",
        "\n",
        "1. [Watson Machine Learning Client](http://wml-api-pyclient.mybluemix.net/): Client library to work with the Watson Machine Learning service on IBM Cloud.\n",
        "1. [Pixiedust](https://github.com/pixiedust/pixiedust): Python Helper library for Jupyter Notebooks\n",
        "1. [ibmos2spark](https://github.com/ibm-watson-data-lab/ibmos2spark): Facilitates Data I/O between Spark and IBM Object Storage services"
      ]
    },
    {
      "cell_type": "code",
      "metadata": {
        "id": "q6I8C3kR97as"
      },
      "source": [
        "!pip install --upgrade ibmos2spark\n",
        "!pip install --upgrade pixiedust\n",
        "!pip install --upgrade watson-machine-learning-client"
      ],
      "execution_count": null,
      "outputs": []
    },
    {
      "cell_type": "markdown",
      "metadata": {
        "id": "Hwee47Dq97aw"
      },
      "source": [
        "## 2. Load and explore data\n",
        "\n",
        "In this section you will load the data as an Apache Spark DataFrame and perform a basic exploration. Load the data to the Spark DataFrame from your associated Object Storage instance.\n",
        "\n",
        "> **IMPORTANT**: Follow the lab instructions to insert an Apache Spark DataFrame in the cell below.\n",
        "\n",
        "> **IMPORTANT**: Ensure the DataFrame is named `df_data`.\n",
        "\n",
        "> **IMPORTANT**: Add `.option('inferSchema','True')\\` to the inserted code."
      ]
    },
    {
      "cell_type": "code",
      "metadata": {
        "id": "zRuqzj4M97ay",
        "outputId": "0355075a-9fc3-4c2d-d838-aba7b055ac4d"
      },
      "source": [
        "\n",
        "import ibmos2spark\n",
        "# @hidden_cell\n",
        "credentials = {\n",
        "    'endpoint': 'https://s3.eu-geo.objectstorage.service.networklayer.com',\n",
        "    'service_id': 'iam-ServiceId-18d6e027-e360-47ef-92c6-68e6317f334e',\n",
        "    'iam_service_endpoint': 'https://iam.eu-gb.bluemix.net/oidc/token',\n",
        "    'api_key': 'GmDZ_OhZtT6QJTg1gHmVzEh7TjtcL8RhIQICfVYrHMCE'\n",
        "}\n",
        "\n",
        "configuration_name = 'os_fb16058988644e3bbe29b40cd53cc750_configs'\n",
        "cos = ibmos2spark.CloudObjectStorage(sc, credentials, configuration_name, 'bluemix_cos')\n",
        "\n",
        "from pyspark.sql import SparkSession\n",
        "spark = SparkSession.builder.getOrCreate()\n",
        "df_data = spark.read\\\n",
        "  .format('org.apache.spark.sql.execution.datasources.csv.CSVFileFormat')\\\n",
        "  .option('header', 'true')\\\n",
        "  .option('inferSchema','True')\\\n",
        "  .load(cos.url('patientdataV6.csv', 'heartfailurerateapp-donotdelete-pr-1r75aqfncfdpq0'))\n",
        "df_data.take(5)\n"
      ],
      "execution_count": null,
      "outputs": [
        {
          "output_type": "execute_result",
          "data": {
            "text/plain": [
              "[Row(AVGHEARTBEATSPERMIN=93, PALPITATIONSPERDAY=22, CHOLESTEROL=163, BMI=25, HEARTFAILURE='N', AGE=49, SEX='F', FAMILYHISTORY='N', SMOKERLAST5YRS='N', EXERCISEMINPERWEEK=110),\n",
              " Row(AVGHEARTBEATSPERMIN=108, PALPITATIONSPERDAY=22, CHOLESTEROL=181, BMI=24, HEARTFAILURE='N', AGE=32, SEX='F', FAMILYHISTORY='N', SMOKERLAST5YRS='N', EXERCISEMINPERWEEK=192),\n",
              " Row(AVGHEARTBEATSPERMIN=86, PALPITATIONSPERDAY=0, CHOLESTEROL=239, BMI=20, HEARTFAILURE='N', AGE=60, SEX='F', FAMILYHISTORY='N', SMOKERLAST5YRS='N', EXERCISEMINPERWEEK=121),\n",
              " Row(AVGHEARTBEATSPERMIN=80, PALPITATIONSPERDAY=36, CHOLESTEROL=164, BMI=31, HEARTFAILURE='Y', AGE=45, SEX='F', FAMILYHISTORY='Y', SMOKERLAST5YRS='N', EXERCISEMINPERWEEK=141),\n",
              " Row(AVGHEARTBEATSPERMIN=66, PALPITATIONSPERDAY=36, CHOLESTEROL=185, BMI=23, HEARTFAILURE='N', AGE=39, SEX='F', FAMILYHISTORY='N', SMOKERLAST5YRS='N', EXERCISEMINPERWEEK=63)]"
            ]
          },
          "metadata": {
            "tags": []
          },
          "execution_count": 3
        }
      ]
    },
    {
      "cell_type": "markdown",
      "metadata": {
        "id": "ApGw9APO97a6"
      },
      "source": [
        "Explore the loaded data by using the following Apache® Spark DataFrame methods:\n",
        "\n",
        "* `df_data.printSchema` to print the data schema\n",
        "* `df_data.describe()` to print the top twenty records\n",
        "* `df_data.count()` to count all records"
      ]
    },
    {
      "cell_type": "code",
      "metadata": {
        "id": "OzR3-W-U97a7",
        "outputId": "3a79f911-b694-4e93-a585-fd36fd93fdae"
      },
      "source": [
        "df_data.printSchema()"
      ],
      "execution_count": null,
      "outputs": [
        {
          "output_type": "stream",
          "text": [
            "root\n",
            " |-- AVGHEARTBEATSPERMIN: integer (nullable = true)\n",
            " |-- PALPITATIONSPERDAY: integer (nullable = true)\n",
            " |-- CHOLESTEROL: integer (nullable = true)\n",
            " |-- BMI: integer (nullable = true)\n",
            " |-- HEARTFAILURE: string (nullable = true)\n",
            " |-- AGE: integer (nullable = true)\n",
            " |-- SEX: string (nullable = true)\n",
            " |-- FAMILYHISTORY: string (nullable = true)\n",
            " |-- SMOKERLAST5YRS: string (nullable = true)\n",
            " |-- EXERCISEMINPERWEEK: integer (nullable = true)\n",
            "\n"
          ],
          "name": "stdout"
        }
      ]
    },
    {
      "cell_type": "markdown",
      "metadata": {
        "id": "lqsSJfPO97a-"
      },
      "source": [
        "As you can see, the data contains ten  fields. The  HEARTFAILURE field is the one we would like to predict (label)."
      ]
    },
    {
      "cell_type": "code",
      "metadata": {
        "id": "v5gZJgWj97a_",
        "outputId": "72b4be4c-dec3-49d4-938b-39ebd55459b5"
      },
      "source": [
        "df_data.show()"
      ],
      "execution_count": null,
      "outputs": [
        {
          "output_type": "stream",
          "text": [
            "+-------------------+------------------+-----------+---+------------+---+---+-------------+--------------+------------------+\n",
            "|AVGHEARTBEATSPERMIN|PALPITATIONSPERDAY|CHOLESTEROL|BMI|HEARTFAILURE|AGE|SEX|FAMILYHISTORY|SMOKERLAST5YRS|EXERCISEMINPERWEEK|\n",
            "+-------------------+------------------+-----------+---+------------+---+---+-------------+--------------+------------------+\n",
            "|                 93|                22|        163| 25|           N| 49|  F|            N|             N|               110|\n",
            "|                108|                22|        181| 24|           N| 32|  F|            N|             N|               192|\n",
            "|                 86|                 0|        239| 20|           N| 60|  F|            N|             N|               121|\n",
            "|                 80|                36|        164| 31|           Y| 45|  F|            Y|             N|               141|\n",
            "|                 66|                36|        185| 23|           N| 39|  F|            N|             N|                63|\n",
            "|                125|                27|        201| 31|           N| 47|  M|            N|             N|                13|\n",
            "|                 83|                27|        169| 20|           N| 71|  F|            Y|             N|               124|\n",
            "|                107|                31|        199| 32|           N| 55|  F|            N|             N|                22|\n",
            "|                 92|                28|        174| 22|           N| 44|  F|            N|             N|               107|\n",
            "|                 84|                12|        206| 25|           N| 50|  M|            N|             N|               199|\n",
            "|                 60|                 1|        194| 28|           N| 71|  M|            N|             N|                27|\n",
            "|                134|                 7|        228| 34|           Y| 63|  F|            Y|             N|                92|\n",
            "|                103|                 0|        237| 24|           N| 64|  F|            Y|             N|                34|\n",
            "|                101|                39|        157| 20|           N| 49|  M|            N|             N|                33|\n",
            "|                 92|                 2|        169| 26|           N| 36|  M|            N|             N|               217|\n",
            "|                 80|                27|        234| 27|           N| 50|  M|            N|             N|                28|\n",
            "|                 82|                14|        155| 30|           N| 70|  F|            N|             N|               207|\n",
            "|                 63|                 9|        204| 26|           N| 42|  M|            N|             N|                88|\n",
            "|                 83|                12|        209| 29|           N| 38|  M|            Y|             N|               220|\n",
            "|                 80|                37|        157| 20|           N| 48|  M|            N|             N|                54|\n",
            "+-------------------+------------------+-----------+---+------------+---+---+-------------+--------------+------------------+\n",
            "only showing top 20 rows\n",
            "\n"
          ],
          "name": "stdout"
        }
      ]
    },
    {
      "cell_type": "code",
      "metadata": {
        "id": "OtySJHiI97bC",
        "outputId": "dbbaa18c-ab00-463b-a0b0-c9c3802af3c2"
      },
      "source": [
        "df_data.describe().show()"
      ],
      "execution_count": null,
      "outputs": [
        {
          "output_type": "stream",
          "text": [
            "+-------+-------------------+------------------+------------------+------------------+------------+------------------+-----+-------------+--------------+------------------+\n",
            "|summary|AVGHEARTBEATSPERMIN|PALPITATIONSPERDAY|       CHOLESTEROL|               BMI|HEARTFAILURE|               AGE|  SEX|FAMILYHISTORY|SMOKERLAST5YRS|EXERCISEMINPERWEEK|\n",
            "+-------+-------------------+------------------+------------------+------------------+------------+------------------+-----+-------------+--------------+------------------+\n",
            "|  count|              10800|             10800|             10800|             10800|       10800|             10800|10800|        10800|         10800|             10800|\n",
            "|   mean|  87.11509259259259|20.423148148148147|195.08027777777778| 26.35972222222222|        null|49.965185185185184| null|         null|          null|119.72953703703703|\n",
            "| stddev| 19.744375148984474|12.165320351622993|26.136731865042325|3.8201472810942136|        null|13.079280962015586| null|         null|          null| 71.14706006382843|\n",
            "|    min|                 48|                 0|               150|                20|           N|                28|    F|            N|             N|                 0|\n",
            "|    max|                161|                45|               245|                34|           Y|                72|    M|            Y|             Y|               250|\n",
            "+-------+-------------------+------------------+------------------+------------------+------------+------------------+-----+-------------+--------------+------------------+\n",
            "\n"
          ],
          "name": "stdout"
        }
      ]
    },
    {
      "cell_type": "code",
      "metadata": {
        "id": "KCGFCb3r97bI",
        "outputId": "ff6ad131-d976-4a54-ca57-cc26f75e0eb8"
      },
      "source": [
        "df_data.count()"
      ],
      "execution_count": null,
      "outputs": [
        {
          "output_type": "execute_result",
          "data": {
            "text/plain": [
              "10800"
            ]
          },
          "metadata": {
            "tags": []
          },
          "execution_count": 8
        }
      ]
    },
    {
      "cell_type": "markdown",
      "metadata": {
        "id": "-0geDio897bL"
      },
      "source": [
        "As you can see, the data set contains 10800 records."
      ]
    },
    {
      "cell_type": "markdown",
      "metadata": {
        "id": "Dh6-ryLR97bM"
      },
      "source": [
        "## 3. Interactive Visualizations w/PixieDust"
      ]
    },
    {
      "cell_type": "code",
      "metadata": {
        "id": "vMLuS2xm97bN",
        "outputId": "d0aa0b7f-9b05-4e86-9637-11d4ff88f648"
      },
      "source": [
        "import pixiedust"
      ],
      "execution_count": null,
      "outputs": [
        {
          "output_type": "stream",
          "text": [
            "Pixiedust database opened successfully\n",
            "Table VERSION_TRACKER created successfully\n",
            "Table METRICS_TRACKER created successfully\n",
            "\n",
            "Share anonymous install statistics? (opt-out instructions)\n",
            "\n",
            "PixieDust will record metadata on its environment the next time the package is installed or updated. The data is anonymized and aggregated to help plan for future releases, and records only the following values:\n",
            "\n",
            "{\n",
            "   \"data_sent\": currentDate,\n",
            "   \"runtime\": \"python\",\n",
            "   \"application_version\": currentPixiedustVersion,\n",
            "   \"space_id\": nonIdentifyingUniqueId,\n",
            "   \"config\": {\n",
            "       \"repository_id\": \"https://github.com/ibm-watson-data-lab/pixiedust\",\n",
            "       \"target_runtimes\": [\"Data Science Experience\"],\n",
            "       \"event_id\": \"web\",\n",
            "       \"event_organizer\": \"dev-journeys\"\n",
            "   }\n",
            "}\n",
            "You can opt out by calling pixiedust.optOut() in a new cell.\n"
          ],
          "name": "stdout"
        },
        {
          "output_type": "display_data",
          "data": {
            "text/html": [
              "\n",
              "        <div style=\"margin:10px\">\n",
              "            <a href=\"https://github.com/ibm-watson-data-lab/pixiedust\" target=\"_new\">\n",
              "                <img src=\"https://github.com/ibm-watson-data-lab/pixiedust/raw/master/docs/_static/pd_icon32.png\" style=\"float:left;margin-right:10px\"/>\n",
              "            </a>\n",
              "            <span>Pixiedust version 1.1.16</span>\n",
              "        </div>\n",
              "        "
            ],
            "text/plain": [
              "<IPython.core.display.HTML object>"
            ]
          },
          "metadata": {
            "tags": []
          }
        },
        {
          "output_type": "stream",
          "text": [
            "\u001b[31mPixiedust runtime updated. Please restart kernel\u001b[0m\n",
            "Table SPARK_PACKAGES created successfully\n",
            "Table USER_PREFERENCES created successfully\n",
            "Table service_connections created successfully\n"
          ],
          "name": "stdout"
        },
        {
          "output_type": "display_data",
          "data": {
            "text/html": [
              "<div>Warning: You are not running the latest version of PixieDust. Current is 1.1.16, Latest is 1.1.18</div>"
            ],
            "text/plain": [
              "<IPython.core.display.HTML object>"
            ]
          },
          "metadata": {
            "tags": []
          }
        },
        {
          "output_type": "display_data",
          "data": {
            "text/html": [
              "\n",
              "                <div>Please copy and run the following command in a new cell to upgrade: <span style=\"background-color:#ececec;font-family:monospace;padding:0 5px\">!pip install --user --upgrade pixiedust</span></div>\n",
              "            "
            ],
            "text/plain": [
              "<IPython.core.display.HTML object>"
            ]
          },
          "metadata": {
            "tags": []
          }
        },
        {
          "output_type": "display_data",
          "data": {
            "text/html": [
              "<div>Please restart kernel after upgrading.</div>"
            ],
            "text/plain": [
              "<IPython.core.display.HTML object>"
            ]
          },
          "metadata": {
            "tags": []
          }
        }
      ]
    },
    {
      "cell_type": "markdown",
      "metadata": {
        "id": "dkvb5Irm97bP"
      },
      "source": [
        "### Simple visualization using bar charts\n",
        "\n",
        "With PixieDust's `display()` method you can visually explore the loaded data using built-in charts, such as, bar charts, line charts, scatter plots, or maps.\n",
        "To explore a data set: choose the desired chart type from the drop down, configure chart options, configure display options."
      ]
    },
    {
      "cell_type": "code",
      "metadata": {
        "pixiedust": {
          "displayParams": {
            "aggregation": "AVG",
            "chartsize": "78",
            "handlerId": "histogram",
            "keyFields": "AGE",
            "kind": "kde",
            "mpld3": "false",
            "rendererId": "seaborn",
            "rowCount": "500",
            "title": "Explore",
            "valueFields": "BMI"
          }
        },
        "id": "DupnCosN97bQ",
        "outputId": "baa9cb5d-4757-458f-d276-973fdce47e2a"
      },
      "source": [
        "display(df_data)"
      ],
      "execution_count": null,
      "outputs": [
        {
          "output_type": "display_data",
          "data": {
            "text/html": [
              "<style type=\"text/css\">.pd_warning{display:none;}</style><div class=\"pd_warning\"><em>Hey, there's something awesome here! To see it, open this notebook outside GitHub, in a viewer like Jupyter</em></div>\n",
              "        <div class=\"pd_save is-viewer-good\" style=\"padding-right:10px;text-align: center;line-height:initial !important;font-size: xx-large;font-weight: 500;color: coral;\">\n",
              "            Explore\n",
              "        </div>\n",
              "    <div id=\"chartFigure861e5c53\" class=\"pd_save is-viewer-good\" style=\"overflow-x:auto\">\n",
              "            \n",
              "                    \n",
              "                            <center><img style=\"max-width:initial !important\" src=\"data:image/png;base64,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\" class=\"pd_save\"></center>\n",
              "                        \n",
              "                    \n",
              "                \n",
              "        </div>"
            ],
            "text/plain": [
              "<IPython.core.display.HTML object>"
            ]
          },
          "metadata": {
            "tags": []
          }
        }
      ]
    },
    {
      "cell_type": "markdown",
      "metadata": {
        "id": "OVwu8sJp97bT"
      },
      "source": [
        "## 4. Create a Spark machine learning model\n",
        "\n",
        "In this section you will learn how to prepare data, create and train a Spark machine learning model.\n",
        "\n",
        "### 4.1 Prepare data\n",
        "\n",
        "In this subsection you will split your data into: train and test data sets."
      ]
    },
    {
      "cell_type": "code",
      "metadata": {
        "id": "mHvAKpba97bT",
        "outputId": "bc9d2229-49c5-4a29-a23b-eb4b2c5b1ae0"
      },
      "source": [
        "split_data = df_data.randomSplit([0.8, 0.20], 24)\n",
        "train_data = split_data[0]\n",
        "test_data = split_data[1]\n",
        "\n",
        "print(\"Number of training records: \" + str(train_data.count()))\n",
        "print(\"Number of testing records : \" + str(test_data.count()))"
      ],
      "execution_count": null,
      "outputs": [
        {
          "output_type": "stream",
          "text": [
            "Number of training records: 8637\n",
            "Number of testing records : 2163\n"
          ],
          "name": "stdout"
        }
      ]
    },
    {
      "cell_type": "markdown",
      "metadata": {
        "id": "XjylbY_o97bV"
      },
      "source": [
        "As you can see our data has been successfully split into two data sets:\n",
        "\n",
        "* The train data set, which is the largest group, is used for training.\n",
        "* The test data set will be used for model evaluation and is used to test the assumptions of the model.\n",
        "\n",
        "### 4.2 Create pipeline and train a model\n",
        "\n",
        "In this section you will create a Spark machine learning pipeline and then train the model. In the first step you need to import the Spark machine learning packages that will be needed in the subsequent steps. A sequence of data processing is called a _data pipeline_. Each step in the pipeline processes the data and passes the result to the next step in the pipeline, this allows you to transform and fit your model with the raw input data."
      ]
    },
    {
      "cell_type": "code",
      "metadata": {
        "id": "eel-1N8W97bW"
      },
      "source": [
        "from pyspark.ml.feature import StringIndexer, IndexToString, VectorAssembler\n",
        "from pyspark.ml.classification import RandomForestClassifier\n",
        "from pyspark.ml.evaluation import MulticlassClassificationEvaluator\n",
        "from pyspark.ml import Pipeline, Model"
      ],
      "execution_count": null,
      "outputs": []
    },
    {
      "cell_type": "markdown",
      "metadata": {
        "id": "hCppr69797bX"
      },
      "source": [
        "In the following step, convert all the string fields to numeric ones by using the StringIndexer transformer."
      ]
    },
    {
      "cell_type": "code",
      "metadata": {
        "id": "6ycltsRD97bY"
      },
      "source": [
        "stringIndexer_label = StringIndexer(inputCol=\"HEARTFAILURE\", outputCol=\"label\").fit(df_data)\n",
        "stringIndexer_sex = StringIndexer(inputCol=\"SEX\", outputCol=\"SEX_IX\")\n",
        "stringIndexer_famhist = StringIndexer(inputCol=\"FAMILYHISTORY\", outputCol=\"FAMILYHISTORY_IX\")\n",
        "stringIndexer_smoker = StringIndexer(inputCol=\"SMOKERLAST5YRS\", outputCol=\"SMOKERLAST5YRS_IX\")"
      ],
      "execution_count": null,
      "outputs": []
    },
    {
      "cell_type": "markdown",
      "metadata": {
        "id": "0Tf3zmRI97bZ"
      },
      "source": [
        "\n",
        "In the following step, create a feature vector by combining all features together."
      ]
    },
    {
      "cell_type": "code",
      "metadata": {
        "id": "9mczhaVB97ba"
      },
      "source": [
        "vectorAssembler_features = VectorAssembler(inputCols=[\"AVGHEARTBEATSPERMIN\",\"PALPITATIONSPERDAY\",\"CHOLESTEROL\",\"BMI\",\"AGE\",\"SEX_IX\",\"FAMILYHISTORY_IX\",\"SMOKERLAST5YRS_IX\",\"EXERCISEMINPERWEEK\"], outputCol=\"features\")"
      ],
      "execution_count": null,
      "outputs": []
    },
    {
      "cell_type": "markdown",
      "metadata": {
        "id": "36lvgcoV97bc"
      },
      "source": [
        "Next, define estimators you want to use for classification. Random Forest is used in the following example."
      ]
    },
    {
      "cell_type": "code",
      "metadata": {
        "id": "_DUpJN0097bc"
      },
      "source": [
        "rf = RandomForestClassifier(labelCol=\"label\", featuresCol=\"features\")"
      ],
      "execution_count": null,
      "outputs": []
    },
    {
      "cell_type": "markdown",
      "metadata": {
        "id": "E-kJVK9U97bd"
      },
      "source": [
        "Finally, indexed labels back to original labels."
      ]
    },
    {
      "cell_type": "code",
      "metadata": {
        "id": "jqhL41vt97be"
      },
      "source": [
        "labelConverter = IndexToString(inputCol=\"prediction\", outputCol=\"predictedLabel\", labels=stringIndexer_label.labels)"
      ],
      "execution_count": null,
      "outputs": []
    },
    {
      "cell_type": "code",
      "metadata": {
        "id": "ov13pfQs97bf",
        "outputId": "79be00b9-04a7-4e40-ac8e-9d02d5935772"
      },
      "source": [
        "transform_df_pipeline = Pipeline(stages=[stringIndexer_label, stringIndexer_sex, stringIndexer_famhist, stringIndexer_smoker, vectorAssembler_features])\n",
        "transformed_df = transform_df_pipeline.fit(df_data).transform(df_data)\n",
        "transformed_df.show()"
      ],
      "execution_count": null,
      "outputs": [
        {
          "output_type": "stream",
          "text": [
            "+-------------------+------------------+-----------+---+------------+---+---+-------------+--------------+------------------+-----+------+----------------+-----------------+--------------------+\n",
            "|AVGHEARTBEATSPERMIN|PALPITATIONSPERDAY|CHOLESTEROL|BMI|HEARTFAILURE|AGE|SEX|FAMILYHISTORY|SMOKERLAST5YRS|EXERCISEMINPERWEEK|label|SEX_IX|FAMILYHISTORY_IX|SMOKERLAST5YRS_IX|            features|\n",
            "+-------------------+------------------+-----------+---+------------+---+---+-------------+--------------+------------------+-----+------+----------------+-----------------+--------------------+\n",
            "|                 93|                22|        163| 25|           N| 49|  F|            N|             N|               110|  0.0|   1.0|             0.0|              0.0|[93.0,22.0,163.0,...|\n",
            "|                108|                22|        181| 24|           N| 32|  F|            N|             N|               192|  0.0|   1.0|             0.0|              0.0|[108.0,22.0,181.0...|\n",
            "|                 86|                 0|        239| 20|           N| 60|  F|            N|             N|               121|  0.0|   1.0|             0.0|              0.0|[86.0,0.0,239.0,2...|\n",
            "|                 80|                36|        164| 31|           Y| 45|  F|            Y|             N|               141|  1.0|   1.0|             1.0|              0.0|[80.0,36.0,164.0,...|\n",
            "|                 66|                36|        185| 23|           N| 39|  F|            N|             N|                63|  0.0|   1.0|             0.0|              0.0|[66.0,36.0,185.0,...|\n",
            "|                125|                27|        201| 31|           N| 47|  M|            N|             N|                13|  0.0|   0.0|             0.0|              0.0|[125.0,27.0,201.0...|\n",
            "|                 83|                27|        169| 20|           N| 71|  F|            Y|             N|               124|  0.0|   1.0|             1.0|              0.0|[83.0,27.0,169.0,...|\n",
            "|                107|                31|        199| 32|           N| 55|  F|            N|             N|                22|  0.0|   1.0|             0.0|              0.0|[107.0,31.0,199.0...|\n",
            "|                 92|                28|        174| 22|           N| 44|  F|            N|             N|               107|  0.0|   1.0|             0.0|              0.0|[92.0,28.0,174.0,...|\n",
            "|                 84|                12|        206| 25|           N| 50|  M|            N|             N|               199|  0.0|   0.0|             0.0|              0.0|[84.0,12.0,206.0,...|\n",
            "|                 60|                 1|        194| 28|           N| 71|  M|            N|             N|                27|  0.0|   0.0|             0.0|              0.0|[60.0,1.0,194.0,2...|\n",
            "|                134|                 7|        228| 34|           Y| 63|  F|            Y|             N|                92|  1.0|   1.0|             1.0|              0.0|[134.0,7.0,228.0,...|\n",
            "|                103|                 0|        237| 24|           N| 64|  F|            Y|             N|                34|  0.0|   1.0|             1.0|              0.0|[103.0,0.0,237.0,...|\n",
            "|                101|                39|        157| 20|           N| 49|  M|            N|             N|                33|  0.0|   0.0|             0.0|              0.0|[101.0,39.0,157.0...|\n",
            "|                 92|                 2|        169| 26|           N| 36|  M|            N|             N|               217|  0.0|   0.0|             0.0|              0.0|[92.0,2.0,169.0,2...|\n",
            "|                 80|                27|        234| 27|           N| 50|  M|            N|             N|                28|  0.0|   0.0|             0.0|              0.0|[80.0,27.0,234.0,...|\n",
            "|                 82|                14|        155| 30|           N| 70|  F|            N|             N|               207|  0.0|   1.0|             0.0|              0.0|[82.0,14.0,155.0,...|\n",
            "|                 63|                 9|        204| 26|           N| 42|  M|            N|             N|                88|  0.0|   0.0|             0.0|              0.0|[63.0,9.0,204.0,2...|\n",
            "|                 83|                12|        209| 29|           N| 38|  M|            Y|             N|               220|  0.0|   0.0|             1.0|              0.0|[83.0,12.0,209.0,...|\n",
            "|                 80|                37|        157| 20|           N| 48|  M|            N|             N|                54|  0.0|   0.0|             0.0|              0.0|[80.0,37.0,157.0,...|\n",
            "+-------------------+------------------+-----------+---+------------+---+---+-------------+--------------+------------------+-----+------+----------------+-----------------+--------------------+\n",
            "only showing top 20 rows\n",
            "\n"
          ],
          "name": "stdout"
        }
      ]
    },
    {
      "cell_type": "markdown",
      "metadata": {
        "id": "naHxzDzc97bg"
      },
      "source": [
        "Let's build the pipeline now. A pipeline consists of transformers and an estimator."
      ]
    },
    {
      "cell_type": "code",
      "metadata": {
        "id": "v_84-SZh97bh"
      },
      "source": [
        "pipeline_rf = Pipeline(stages=[stringIndexer_label, stringIndexer_sex, stringIndexer_famhist, stringIndexer_smoker, vectorAssembler_features, rf, labelConverter])"
      ],
      "execution_count": null,
      "outputs": []
    },
    {
      "cell_type": "markdown",
      "metadata": {
        "id": "BcscXXX-97bi"
      },
      "source": [
        "Now, you can train your Random Forest model by using the previously defined **pipeline** and **training data**."
      ]
    },
    {
      "cell_type": "code",
      "metadata": {
        "id": "7CYI_KyK97bi"
      },
      "source": [
        "model_rf = pipeline_rf.fit(train_data)"
      ],
      "execution_count": null,
      "outputs": []
    },
    {
      "cell_type": "markdown",
      "metadata": {
        "id": "84WOLwPp97bk"
      },
      "source": [
        "You can check your **model accuracy** now. To evaluate the model, use **test data**."
      ]
    },
    {
      "cell_type": "code",
      "metadata": {
        "id": "ugr4dT0P97bk",
        "outputId": "2f829a1f-c830-422c-81e8-ebd204f5b485"
      },
      "source": [
        "predictions = model_rf.transform(test_data)\n",
        "evaluatorRF = MulticlassClassificationEvaluator(labelCol=\"label\", predictionCol=\"prediction\", metricName=\"accuracy\")\n",
        "accuracy = evaluatorRF.evaluate(predictions)\n",
        "print(\"Accuracy = %g\" % accuracy)\n",
        "print(\"Test Error = %g\" % (1.0 - accuracy))"
      ],
      "execution_count": null,
      "outputs": [
        {
          "output_type": "stream",
          "text": [
            "Accuracy = 0.869626\n",
            "Test Error = 0.130374\n"
          ],
          "name": "stdout"
        }
      ]
    },
    {
      "cell_type": "markdown",
      "metadata": {
        "id": "Ir4oMWzb97bl"
      },
      "source": [
        "You can tune your model now to achieve better accuracy. For simplicity of this example tuning section is omitted."
      ]
    },
    {
      "cell_type": "markdown",
      "metadata": {
        "id": "aBrgVrj697bm"
      },
      "source": [
        "## 5. Persist model\n",
        "\n",
        "In this section you will learn how to store your pipeline and model in Watson Machine Learning repository by using Python client libraries.\n",
        "First, you must import client libraries.\n",
        "\n",
        "> **IMPORTANT**: Update the `wml_credentials` variable below. Copy and paste the entire credential dictionary, which can be found on the _Service Credentials_ tab of the Watson Machine Learning service instance created on the IBM Cloud."
      ]
    },
    {
      "cell_type": "code",
      "metadata": {
        "id": "w38wKeSy97bn",
        "outputId": "0fccb2ff-d63b-42a9-c7fa-4aa540f09fa2"
      },
      "source": [
        "wml_credentials = {\n",
        "  \"apikey\": \"xyz\",\n",
        "  \"iam_apikey_description\": \"Auto-generated for key abc\",\n",
        "  \"iam_apikey_name\": \"Service credentials-1\",\n",
        "  \"iam_role_crn\": \"crn:v1:bluemix:public:iam::::serviceRole:Writer\",\n",
        "  \"iam_serviceid_crn\": \"crn:v1:bluemix:public:iam-identity::a123\",\n",
        "  \"instance_id\": \"xyz\",\n",
        "  \"url\": \"https://us-south.ml.cloud.ibm.com\"\n",
        "}\n",
        "\n",
        "print(wml_credentials)"
      ],
      "execution_count": null,
      "outputs": [
        {
          "output_type": "stream",
          "text": [
            "{'apikey': 'xyz', 'iam_apikey_description': 'Auto-generated for key abc', 'iam_apikey_name': 'Service credentials-1', 'iam_role_crn': 'crn:v1:bluemix:public:iam::::serviceRole:Writer', 'iam_serviceid_crn': 'crn:v1:bluemix:public:iam-identity::a123', 'instance_id': 'xyz', 'url': 'https://us-south.ml.cloud.ibm.com'}\n"
          ],
          "name": "stdout"
        }
      ]
    },
    {
      "cell_type": "code",
      "metadata": {
        "id": "dokNTr6F97bp",
        "outputId": "2602f3ef-4de7-444e-d64a-73b7f6d6f4c3"
      },
      "source": [
        "from watson_machine_learning_client import WatsonMachineLearningAPIClient\n",
        "client = WatsonMachineLearningAPIClient(wml_credentials)\n",
        "print(client.version)"
      ],
      "execution_count": null,
      "outputs": [
        {
          "output_type": "error",
          "ename": "ApiRequestFailure",
          "evalue": "Error during getting IAM Token. (POST https://iam.cloud.ibm.com/oidc/token)\nStatus code: 400, body: {\"context\":{\"requestId\":\"2e50b4e79e55475da382ffdd443a83a6\",\"requestType\":\"incoming.OIDC_Token\",\"userAgent\":\"python-requests/2.21.0\",\"url\":\"https://iam.cloud.ibm.com\",\"instanceId\":\"iamid-5.4-7895-cb56bb1-9d45846b8-zcttd\",\"threadId\":\"d20f2\",\"host\":\"iamid-5.4-7895-cb56bb1-9d45846b8-zcttd\",\"startTime\":\"10.05.2020 11:11:54:311 GMT\",\"endTime\":\"01.01.1970 00:00:00:000 GMT\",\"elapsedTime\":\"0\",\"locale\":\"en_US\",\"clusterName\":\"iam-id-prlon02-tjwu\"},\"errorCode\":\"BXNIM0415E\",\"errorMessage\":\"Provided API key could not be found\"}",
          "traceback": [
            "\u001b[0;31m---------------------------------------------------------------------------\u001b[0m",
            "\u001b[0;31mApiRequestFailure\u001b[0m                         Traceback (most recent call last)",
            "\u001b[0;32m<ipython-input-23-69fb4abc4954>\u001b[0m in \u001b[0;36m<module>\u001b[0;34m()\u001b[0m\n\u001b[1;32m      1\u001b[0m \u001b[0;32mfrom\u001b[0m \u001b[0mwatson_machine_learning_client\u001b[0m \u001b[0;32mimport\u001b[0m \u001b[0mWatsonMachineLearningAPIClient\u001b[0m\u001b[0;34m\u001b[0m\u001b[0;34m\u001b[0m\u001b[0m\n\u001b[0;32m----> 2\u001b[0;31m \u001b[0mclient\u001b[0m \u001b[0;34m=\u001b[0m \u001b[0mWatsonMachineLearningAPIClient\u001b[0m\u001b[0;34m(\u001b[0m\u001b[0mwml_credentials\u001b[0m\u001b[0;34m)\u001b[0m\u001b[0;34m\u001b[0m\u001b[0;34m\u001b[0m\u001b[0m\n\u001b[0m\u001b[1;32m      3\u001b[0m \u001b[0mprint\u001b[0m\u001b[0;34m(\u001b[0m\u001b[0mclient\u001b[0m\u001b[0;34m.\u001b[0m\u001b[0mversion\u001b[0m\u001b[0;34m)\u001b[0m\u001b[0;34m\u001b[0m\u001b[0;34m\u001b[0m\u001b[0m\n",
            "\u001b[0;32m/opt/ibm/conda/miniconda3.6/lib/python3.6/site-packages/watson_machine_learning_client/client.py\u001b[0m in \u001b[0;36m__init__\u001b[0;34m(self, wml_credentials, project_id)\u001b[0m\n\u001b[1;32m     93\u001b[0m        \u001b[0;31m# if not self.ICP and not self.ICP_30 and not self.WSD:\u001b[0m\u001b[0;34m\u001b[0m\u001b[0;34m\u001b[0m\u001b[0;34m\u001b[0m\u001b[0m\n\u001b[1;32m     94\u001b[0m         \u001b[0;32mif\u001b[0m \u001b[0;32mnot\u001b[0m \u001b[0mself\u001b[0m\u001b[0;34m.\u001b[0m\u001b[0mWSD\u001b[0m\u001b[0;34m:\u001b[0m\u001b[0;34m\u001b[0m\u001b[0;34m\u001b[0m\u001b[0m\n\u001b[0;32m---> 95\u001b[0;31m             \u001b[0mself\u001b[0m\u001b[0;34m.\u001b[0m\u001b[0mservice_instance\u001b[0m \u001b[0;34m=\u001b[0m \u001b[0mServiceInstance\u001b[0m\u001b[0;34m(\u001b[0m\u001b[0mself\u001b[0m\u001b[0;34m)\u001b[0m\u001b[0;34m\u001b[0m\u001b[0;34m\u001b[0m\u001b[0m\n\u001b[0m\u001b[1;32m     96\u001b[0m             \u001b[0mself\u001b[0m\u001b[0;34m.\u001b[0m\u001b[0mservice_instance\u001b[0m\u001b[0;34m.\u001b[0m\u001b[0mdetails\u001b[0m \u001b[0;34m=\u001b[0m \u001b[0mself\u001b[0m\u001b[0;34m.\u001b[0m\u001b[0mservice_instance\u001b[0m\u001b[0;34m.\u001b[0m\u001b[0mget_details\u001b[0m\u001b[0;34m(\u001b[0m\u001b[0;34m)\u001b[0m\u001b[0;34m\u001b[0m\u001b[0;34m\u001b[0m\u001b[0m\n\u001b[1;32m     97\u001b[0m \u001b[0;34m\u001b[0m\u001b[0m\n",
            "\u001b[0;32m/opt/ibm/conda/miniconda3.6/lib/python3.6/site-packages/watson_machine_learning_client/instance.py\u001b[0m in \u001b[0;36m__init__\u001b[0;34m(self, client)\u001b[0m\n\u001b[1;32m     33\u001b[0m             \u001b[0mself\u001b[0m\u001b[0;34m.\u001b[0m\u001b[0m_wml_credentials\u001b[0m\u001b[0;34m[\u001b[0m\u001b[0;34mu'instance_id'\u001b[0m\u001b[0;34m]\u001b[0m \u001b[0;34m=\u001b[0m \u001b[0;34m\"999\"\u001b[0m\u001b[0;34m\u001b[0m\u001b[0;34m\u001b[0m\u001b[0m\n\u001b[1;32m     34\u001b[0m         \u001b[0mself\u001b[0m\u001b[0;34m.\u001b[0m\u001b[0m_href_definitions\u001b[0m \u001b[0;34m=\u001b[0m \u001b[0mHrefDefinitions\u001b[0m\u001b[0;34m(\u001b[0m\u001b[0mself\u001b[0m\u001b[0;34m.\u001b[0m\u001b[0m_wml_credentials\u001b[0m\u001b[0;34m)\u001b[0m\u001b[0;34m\u001b[0m\u001b[0;34m\u001b[0m\u001b[0m\n\u001b[0;32m---> 35\u001b[0;31m         \u001b[0mself\u001b[0m\u001b[0;34m.\u001b[0m\u001b[0m_client\u001b[0m\u001b[0;34m.\u001b[0m\u001b[0mwml_token\u001b[0m \u001b[0;34m=\u001b[0m \u001b[0mself\u001b[0m\u001b[0;34m.\u001b[0m\u001b[0m_create_token\u001b[0m\u001b[0;34m(\u001b[0m\u001b[0;34m)\u001b[0m\u001b[0;34m\u001b[0m\u001b[0;34m\u001b[0m\u001b[0m\n\u001b[0m\u001b[1;32m     36\u001b[0m         \u001b[0mself\u001b[0m\u001b[0;34m.\u001b[0m\u001b[0m_logger\u001b[0m\u001b[0;34m.\u001b[0m\u001b[0minfo\u001b[0m\u001b[0;34m(\u001b[0m\u001b[0;34mu'Successfully prepared token: '\u001b[0m \u001b[0;34m+\u001b[0m \u001b[0mself\u001b[0m\u001b[0;34m.\u001b[0m\u001b[0m_client\u001b[0m\u001b[0;34m.\u001b[0m\u001b[0mwml_token\u001b[0m\u001b[0;34m)\u001b[0m\u001b[0;34m\u001b[0m\u001b[0;34m\u001b[0m\u001b[0m\n\u001b[1;32m     37\u001b[0m         \u001b[0;31m# ml_repository_client is initialized in repo\u001b[0m\u001b[0;34m\u001b[0m\u001b[0;34m\u001b[0m\u001b[0;34m\u001b[0m\u001b[0m\n",
            "\u001b[0;32m/opt/ibm/conda/miniconda3.6/lib/python3.6/site-packages/watson_machine_learning_client/instance.py\u001b[0m in \u001b[0;36m_create_token\u001b[0;34m(self)\u001b[0m\n\u001b[1;32m    169\u001b[0m             \u001b[0;32mreturn\u001b[0m \u001b[0mself\u001b[0m\u001b[0;34m.\u001b[0m\u001b[0m_wml_credentials\u001b[0m\u001b[0;34m[\u001b[0m\u001b[0;34m\"token\"\u001b[0m\u001b[0;34m]\u001b[0m\u001b[0;34m\u001b[0m\u001b[0;34m\u001b[0m\u001b[0m\n\u001b[1;32m    170\u001b[0m         \u001b[0;32mif\u001b[0m \u001b[0mself\u001b[0m\u001b[0;34m.\u001b[0m\u001b[0m_client\u001b[0m\u001b[0;34m.\u001b[0m\u001b[0m_is_IAM\u001b[0m\u001b[0;34m(\u001b[0m\u001b[0;34m)\u001b[0m\u001b[0;34m:\u001b[0m\u001b[0;34m\u001b[0m\u001b[0;34m\u001b[0m\u001b[0m\n\u001b[0;32m--> 171\u001b[0;31m             \u001b[0;32mreturn\u001b[0m \u001b[0mself\u001b[0m\u001b[0;34m.\u001b[0m\u001b[0m_get_IAM_token\u001b[0m\u001b[0;34m(\u001b[0m\u001b[0;34m)\u001b[0m\u001b[0;34m\u001b[0m\u001b[0;34m\u001b[0m\u001b[0m\n\u001b[0m\u001b[1;32m    172\u001b[0m         \u001b[0;32melse\u001b[0m\u001b[0;34m:\u001b[0m\u001b[0;34m\u001b[0m\u001b[0;34m\u001b[0m\u001b[0m\n\u001b[1;32m    173\u001b[0m             \u001b[0;32mif\u001b[0m \u001b[0;32mnot\u001b[0m \u001b[0mself\u001b[0m\u001b[0;34m.\u001b[0m\u001b[0m_ICP\u001b[0m\u001b[0;34m:\u001b[0m\u001b[0;34m\u001b[0m\u001b[0;34m\u001b[0m\u001b[0m\n",
            "\u001b[0;32m/opt/ibm/conda/miniconda3.6/lib/python3.6/site-packages/watson_machine_learning_client/instance.py\u001b[0m in \u001b[0;36m_get_IAM_token\u001b[0;34m(self)\u001b[0m\n\u001b[1;32m    252\u001b[0m             \u001b[0mtoken\u001b[0m \u001b[0;34m=\u001b[0m \u001b[0mresponse\u001b[0m\u001b[0;34m.\u001b[0m\u001b[0mjson\u001b[0m\u001b[0;34m(\u001b[0m\u001b[0;34m)\u001b[0m\u001b[0;34m.\u001b[0m\u001b[0mget\u001b[0m\u001b[0;34m(\u001b[0m\u001b[0;34mu'access_token'\u001b[0m\u001b[0;34m)\u001b[0m\u001b[0;34m\u001b[0m\u001b[0;34m\u001b[0m\u001b[0m\n\u001b[1;32m    253\u001b[0m         \u001b[0;32melse\u001b[0m\u001b[0;34m:\u001b[0m\u001b[0;34m\u001b[0m\u001b[0;34m\u001b[0m\u001b[0m\n\u001b[0;32m--> 254\u001b[0;31m             \u001b[0;32mraise\u001b[0m \u001b[0mApiRequestFailure\u001b[0m\u001b[0;34m(\u001b[0m\u001b[0;34mu'Error during getting IAM Token.'\u001b[0m\u001b[0;34m,\u001b[0m \u001b[0mresponse\u001b[0m\u001b[0;34m)\u001b[0m\u001b[0;34m\u001b[0m\u001b[0;34m\u001b[0m\u001b[0m\n\u001b[0m\u001b[1;32m    255\u001b[0m         \u001b[0;32mreturn\u001b[0m \u001b[0mtoken\u001b[0m\u001b[0;34m\u001b[0m\u001b[0;34m\u001b[0m\u001b[0m\n",
            "\u001b[0;31mApiRequestFailure\u001b[0m: Error during getting IAM Token. (POST https://iam.cloud.ibm.com/oidc/token)\nStatus code: 400, body: {\"context\":{\"requestId\":\"2e50b4e79e55475da382ffdd443a83a6\",\"requestType\":\"incoming.OIDC_Token\",\"userAgent\":\"python-requests/2.21.0\",\"url\":\"https://iam.cloud.ibm.com\",\"instanceId\":\"iamid-5.4-7895-cb56bb1-9d45846b8-zcttd\",\"threadId\":\"d20f2\",\"host\":\"iamid-5.4-7895-cb56bb1-9d45846b8-zcttd\",\"startTime\":\"10.05.2020 11:11:54:311 GMT\",\"endTime\":\"01.01.1970 00:00:00:000 GMT\",\"elapsedTime\":\"0\",\"locale\":\"en_US\",\"clusterName\":\"iam-id-prlon02-tjwu\"},\"errorCode\":\"BXNIM0415E\",\"errorMessage\":\"Provided API key could not be found\"}"
          ]
        }
      ]
    },
    {
      "cell_type": "markdown",
      "metadata": {
        "id": "v9_lXHMq97bq"
      },
      "source": [
        "> **TIP**: Update the cell below with your name, email, and name you wish to give to your model."
      ]
    },
    {
      "cell_type": "markdown",
      "metadata": {
        "id": "bkSnfWgW97br"
      },
      "source": [
        "Create model artifact (abstraction layer)."
      ]
    },
    {
      "cell_type": "code",
      "metadata": {
        "id": "aNFTUssB97bs"
      },
      "source": [
        "model_props = {client.repository.ModelMetaNames.AUTHOR_NAME: \"IBM\", \n",
        "               client.repository.ModelMetaNames.NAME: \"Heart Failure Prediction Model\"}\n",
        "published_model = client.repository.store_model(model=model_rf, pipeline=pipeline_rf, meta_props=model_props, training_data=train_data)"
      ],
      "execution_count": null,
      "outputs": []
    },
    {
      "cell_type": "markdown",
      "metadata": {
        "id": "Or1LBy6M97bt"
      },
      "source": [
        "\n",
        "## 5.1 Save pipeline and model\n",
        "\n",
        "In this subsection you will learn how to save pipeline and model artifacts to your Watson Machine Learning instance."
      ]
    },
    {
      "cell_type": "code",
      "metadata": {
        "id": "7hexH_N297bu"
      },
      "source": [
        "import json\n",
        "published_model_uid = client.repository.get_model_uid(published_model)\n",
        "model_details = client.repository.get_details(published_model_uid)\n",
        "print(json.dumps(model_details, indent=2))"
      ],
      "execution_count": null,
      "outputs": []
    },
    {
      "cell_type": "markdown",
      "metadata": {
        "id": "GnN-fVUd97bu"
      },
      "source": [
        "\n",
        "## 5.2 Load model to verify that it was saved correctly\n",
        "\n",
        "You can load your model to make sure that it was saved correctly."
      ]
    },
    {
      "cell_type": "code",
      "metadata": {
        "id": "U8NQ-S0C97bv"
      },
      "source": [
        "loaded_model = client.repository.load(published_model_uid)\n",
        "print(loaded_model)"
      ],
      "execution_count": null,
      "outputs": []
    },
    {
      "cell_type": "markdown",
      "metadata": {
        "id": "pidefqNe97bw"
      },
      "source": [
        "Call model against test data to verify that it has been loaded correctly. Examine top 3 results"
      ]
    },
    {
      "cell_type": "code",
      "metadata": {
        "id": "6O0Ej4S297bx"
      },
      "source": [
        "test_predictions = loaded_model.transform(test_data)\n",
        "test_predictions.select('probability', 'predictedLabel').show(n=3, truncate=False)"
      ],
      "execution_count": null,
      "outputs": []
    },
    {
      "cell_type": "markdown",
      "metadata": {
        "id": "7oAa8ItG97by"
      },
      "source": [
        "## <font color=green>Congratulations</font>, you've sucessfully created a predictive model and saved it in the Watson Machine Learning service. \n",
        "\n",
        "You can now switch to the Watson Machine Learning console to deploy the model and then test it in application, or continue within the notebook to deploy the model using the APIs.\n",
        "\n",
        "***"
      ]
    },
    {
      "cell_type": "markdown",
      "metadata": {
        "id": "Psbwr3J597b0"
      },
      "source": [
        "## 6.0 Accessing Watson ML Models and Deployments through API\n",
        "\n",
        "Instead of jumping from your notebook into a web browser, manage your model and delopment through a set of APIs"
      ]
    },
    {
      "cell_type": "markdown",
      "metadata": {
        "id": "eO11iJ3r97b1"
      },
      "source": [
        "### Deploy model to WML Service"
      ]
    },
    {
      "cell_type": "code",
      "metadata": {
        "id": "uP-D7DQU97b2"
      },
      "source": [
        "created_deployment = client.deployments.create(published_model_uid, name=\"Heart Failure prediction\")"
      ],
      "execution_count": null,
      "outputs": []
    },
    {
      "cell_type": "markdown",
      "metadata": {
        "id": "Nk7khhaM97b3"
      },
      "source": [
        "### Print the scoring endpoint"
      ]
    },
    {
      "cell_type": "code",
      "metadata": {
        "id": "RUXjrume97b3"
      },
      "source": [
        "scoring_endpoint = client.deployments.get_scoring_url(created_deployment)\n",
        "\n",
        "print(scoring_endpoint)"
      ],
      "execution_count": null,
      "outputs": []
    },
    {
      "cell_type": "markdown",
      "metadata": {
        "id": "EEryapXr97b5"
      },
      "source": [
        "### List model deployments"
      ]
    },
    {
      "cell_type": "code",
      "metadata": {
        "id": "X04gxztp97b5"
      },
      "source": [
        "client.deployments.list()"
      ],
      "execution_count": null,
      "outputs": []
    },
    {
      "cell_type": "markdown",
      "metadata": {
        "id": "KhonbGp297b6"
      },
      "source": [
        "## 6.1 Invoke prediction model deployment\n"
      ]
    },
    {
      "cell_type": "code",
      "metadata": {
        "id": "z9ODxLc_97b7"
      },
      "source": [
        "scoring_payload = { \"fields\":[\"AVGHEARTBEATSPERMIN\",\"PALPITATIONSPERDAY\",\"CHOLESTEROL\",\"BMI\",\"AGE\",\"SEX\",\"FAMILYHISTORY\",\"SMOKERLAST5YRS\",\"EXERCISEMINPERWEEK\"],\"values\":[[100,85,242,24,44,\"F\",\"Y\",\"Y\",125]]}\n",
        "\n",
        "predictions = client.deployments.score(scoring_endpoint, scoring_payload)\n",
        "\n",
        "print(json.dumps(predictions, indent=2))\n",
        "print(predictions['values'][0][17])"
      ],
      "execution_count": null,
      "outputs": []
    },
    {
      "cell_type": "markdown",
      "metadata": {
        "id": "B8c_qTFG97b7"
      },
      "source": [
        "### Narrow down prediction results to just the prediction"
      ]
    },
    {
      "cell_type": "code",
      "metadata": {
        "id": "LfUDoWXp97b8"
      },
      "source": [
        "print('Is a 44 year old female that smokes with a low BMI at risk of Heart Failure?: {}'.format(client.deployments.score(scoring_endpoint, scoring_payload)\n",
        "['values'][0][17]))"
      ],
      "execution_count": null,
      "outputs": []
    }
  ]
}