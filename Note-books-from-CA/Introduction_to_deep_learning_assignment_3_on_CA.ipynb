{
  "nbformat": 4,
  "nbformat_minor": 0,
  "metadata": {
    "colab": {
      "name": "Introduction_to_deep_learning_assignment_3_on_CA.ipynb",
      "provenance": [],
      "collapsed_sections": []
    },
    "kernelspec": {
      "name": "python3",
      "display_name": "Python 3"
    },
    "language_info": {
      "name": "python"
    }
  },
  "cells": [
    {
      "cell_type": "markdown",
      "metadata": {
        "id": "qQkV-LY652bT"
      },
      "source": [
        "**Assignment 3**"
      ]
    },
    {
      "cell_type": "markdown",
      "metadata": {
        "id": "KZsWKvudn1dm"
      },
      "source": [
        "Data source: https://www.kaggle.com/mustafaali96/weight-height"
      ]
    },
    {
      "cell_type": "code",
      "metadata": {
        "id": "VBn2RqSPnbCb"
      },
      "source": [
        "df_wh = pd.read_csv('/content/weight-height.csv')"
      ],
      "execution_count": null,
      "outputs": []
    },
    {
      "cell_type": "code",
      "metadata": {
        "colab": {
          "base_uri": "https://localhost:8080/",
          "height": 206
        },
        "id": "ZIfTq3DqoYBC",
        "outputId": "4dc1ec02-ed34-4859-dc30-c0d36274c1ce"
      },
      "source": [
        "df_wh.sample(5)"
      ],
      "execution_count": null,
      "outputs": [
        {
          "output_type": "execute_result",
          "data": {
            "text/html": [
              "<div>\n",
              "<style scoped>\n",
              "    .dataframe tbody tr th:only-of-type {\n",
              "        vertical-align: middle;\n",
              "    }\n",
              "\n",
              "    .dataframe tbody tr th {\n",
              "        vertical-align: top;\n",
              "    }\n",
              "\n",
              "    .dataframe thead th {\n",
              "        text-align: right;\n",
              "    }\n",
              "</style>\n",
              "<table border=\"1\" class=\"dataframe\">\n",
              "  <thead>\n",
              "    <tr style=\"text-align: right;\">\n",
              "      <th></th>\n",
              "      <th>Gender</th>\n",
              "      <th>Height</th>\n",
              "      <th>Weight</th>\n",
              "    </tr>\n",
              "  </thead>\n",
              "  <tbody>\n",
              "    <tr>\n",
              "      <th>1166</th>\n",
              "      <td>Male</td>\n",
              "      <td>68.454904</td>\n",
              "      <td>185.377673</td>\n",
              "    </tr>\n",
              "    <tr>\n",
              "      <th>5703</th>\n",
              "      <td>Female</td>\n",
              "      <td>64.264658</td>\n",
              "      <td>162.804122</td>\n",
              "    </tr>\n",
              "    <tr>\n",
              "      <th>9841</th>\n",
              "      <td>Female</td>\n",
              "      <td>65.052619</td>\n",
              "      <td>150.097942</td>\n",
              "    </tr>\n",
              "    <tr>\n",
              "      <th>6968</th>\n",
              "      <td>Female</td>\n",
              "      <td>63.504695</td>\n",
              "      <td>123.504328</td>\n",
              "    </tr>\n",
              "    <tr>\n",
              "      <th>1506</th>\n",
              "      <td>Male</td>\n",
              "      <td>75.698618</td>\n",
              "      <td>249.565628</td>\n",
              "    </tr>\n",
              "  </tbody>\n",
              "</table>\n",
              "</div>"
            ],
            "text/plain": [
              "      Gender     Height      Weight\n",
              "1166    Male  68.454904  185.377673\n",
              "5703  Female  64.264658  162.804122\n",
              "9841  Female  65.052619  150.097942\n",
              "6968  Female  63.504695  123.504328\n",
              "1506    Male  75.698618  249.565628"
            ]
          },
          "metadata": {
            "tags": []
          },
          "execution_count": 37
        }
      ]
    },
    {
      "cell_type": "code",
      "metadata": {
        "colab": {
          "base_uri": "https://localhost:8080/"
        },
        "id": "hFPy34Nqoe7P",
        "outputId": "6a246886-fd37-43d5-cb7f-0a9a8c74658a"
      },
      "source": [
        "df_wh['Gender'].unique()"
      ],
      "execution_count": null,
      "outputs": [
        {
          "output_type": "execute_result",
          "data": {
            "text/plain": [
              "array(['Male', 'Female'], dtype=object)"
            ]
          },
          "metadata": {
            "tags": []
          },
          "execution_count": 38
        }
      ]
    },
    {
      "cell_type": "code",
      "metadata": {
        "colab": {
          "base_uri": "https://localhost:8080/",
          "height": 143
        },
        "id": "3Tn3bEmao1nc",
        "outputId": "94ffb50a-db03-4a69-d007-246cdb37224f"
      },
      "source": [
        "df_wh.groupby('Gender').count()"
      ],
      "execution_count": null,
      "outputs": [
        {
          "output_type": "execute_result",
          "data": {
            "text/html": [
              "<div>\n",
              "<style scoped>\n",
              "    .dataframe tbody tr th:only-of-type {\n",
              "        vertical-align: middle;\n",
              "    }\n",
              "\n",
              "    .dataframe tbody tr th {\n",
              "        vertical-align: top;\n",
              "    }\n",
              "\n",
              "    .dataframe thead th {\n",
              "        text-align: right;\n",
              "    }\n",
              "</style>\n",
              "<table border=\"1\" class=\"dataframe\">\n",
              "  <thead>\n",
              "    <tr style=\"text-align: right;\">\n",
              "      <th></th>\n",
              "      <th>Height</th>\n",
              "      <th>Weight</th>\n",
              "    </tr>\n",
              "    <tr>\n",
              "      <th>Gender</th>\n",
              "      <th></th>\n",
              "      <th></th>\n",
              "    </tr>\n",
              "  </thead>\n",
              "  <tbody>\n",
              "    <tr>\n",
              "      <th>Female</th>\n",
              "      <td>5000</td>\n",
              "      <td>5000</td>\n",
              "    </tr>\n",
              "    <tr>\n",
              "      <th>Male</th>\n",
              "      <td>5000</td>\n",
              "      <td>5000</td>\n",
              "    </tr>\n",
              "  </tbody>\n",
              "</table>\n",
              "</div>"
            ],
            "text/plain": [
              "        Height  Weight\n",
              "Gender                \n",
              "Female    5000    5000\n",
              "Male      5000    5000"
            ]
          },
          "metadata": {
            "tags": []
          },
          "execution_count": 39
        }
      ]
    },
    {
      "cell_type": "code",
      "metadata": {
        "colab": {
          "base_uri": "https://localhost:8080/"
        },
        "id": "1YLzB3ZlpRJf",
        "outputId": "01b912d0-d16e-4620-8993-5ec666580a39"
      },
      "source": [
        "df_wh.info()"
      ],
      "execution_count": null,
      "outputs": [
        {
          "output_type": "stream",
          "text": [
            "<class 'pandas.core.frame.DataFrame'>\n",
            "RangeIndex: 10000 entries, 0 to 9999\n",
            "Data columns (total 3 columns):\n",
            " #   Column  Non-Null Count  Dtype  \n",
            "---  ------  --------------  -----  \n",
            " 0   Gender  10000 non-null  object \n",
            " 1   Height  10000 non-null  float64\n",
            " 2   Weight  10000 non-null  float64\n",
            "dtypes: float64(2), object(1)\n",
            "memory usage: 234.5+ KB\n"
          ],
          "name": "stdout"
        }
      ]
    },
    {
      "cell_type": "code",
      "metadata": {
        "colab": {
          "base_uri": "https://localhost:8080/",
          "height": 299
        },
        "id": "oFAh3xRV51tU",
        "outputId": "aca2bb89-8e41-4e84-ee5d-a1a751063284"
      },
      "source": [
        "df_males = df_wh[df_wh['Gender'] == 'Male']\n",
        "df_females = df_wh.query('Gender == \"Female\"')\n",
        "fig, ax = plt.subplots()\n",
        "\n",
        "df_males.plot(kind='hist',\n",
        "              x = 'Height',\n",
        "              y = 'Weight',\n",
        "              ax = ax, color = 'blue', \n",
        "              title = 'Histogram plot of both males and females'\n",
        "              )\n",
        "df_females.plot(kind='hist',\n",
        "              x = 'Height',\n",
        "              y = 'Weight',\n",
        "              ax = ax, color = 'red'\n",
        "              )\n"
      ],
      "execution_count": null,
      "outputs": [
        {
          "output_type": "execute_result",
          "data": {
            "text/plain": [
              "<matplotlib.axes._subplots.AxesSubplot at 0x7f1c86693250>"
            ]
          },
          "metadata": {
            "tags": []
          },
          "execution_count": 53
        },
        {
          "output_type": "display_data",
          "data": {
            "image/png": "[encoded data removed]",
            "text/plain": [
              "<Figure size 432x288 with 1 Axes>"
            ]
          },
          "metadata": {
            "tags": [],
            "needs_background": "light"
          }
        }
      ]
    },
    {
      "cell_type": "code",
      "metadata": {
        "colab": {
          "base_uri": "https://localhost:8080/",
          "height": 299
        },
        "id": "wZYRQMp38GQP",
        "outputId": "b500810b-d43a-48ae-f90c-d7e9fdc991b4"
      },
      "source": [
        "df_males = df_wh[df_wh['Gender'] == 'Male']\n",
        "df_females = df_wh.query('Gender == \"Female\"')\n",
        "fig, ax = plt.subplots()\n",
        "plt.axvline()\n",
        "\n",
        "df_males.plot(kind='hist',\n",
        "              x = 'Height',\n",
        "              y = 'Weight',\n",
        "              ax = ax, color = 'blue', alpha = 0.35,\n",
        "              title = 'Male & Female Populations',\n",
        "              )\n",
        "df_females.plot(kind='hist',\n",
        "              x = 'Height',\n",
        "              y = 'Weight',\n",
        "              ax = ax, color = 'red', alpha = 0.35,\n",
        "              )"
      ],
      "execution_count": null,
      "outputs": [
        {
          "output_type": "execute_result",
          "data": {
            "text/plain": [
              "<matplotlib.axes._subplots.AxesSubplot at 0x7f1c865f2910>"
            ]
          },
          "metadata": {
            "tags": []
          },
          "execution_count": 58
        },
        {
          "output_type": "display_data",
          "data": {
            "image/png": "[encoded data removed]",
            "text/plain": [
              "<Figure size 432x288 with 1 Axes>"
            ]
          },
          "metadata": {
            "tags": [],
            "needs_background": "light"
          }
        }
      ]
    },
    {
      "cell_type": "code",
      "metadata": {
        "colab": {
          "base_uri": "https://localhost:8080/",
          "height": 313
        },
        "id": "k5e8RuQf9SEB",
        "outputId": "bfe02613-8b33-4398-fa45-8a12d47ab7b6"
      },
      "source": [
        "df_males['Height'].plot(kind='hist',\n",
        "                          bins = 50,\n",
        "                          range = (50, 80),\n",
        "                          alpha = 0.3,\n",
        "                          color = 'blue')\n",
        "df_females['Height'].plot(kind='hist',\n",
        "                          bins = 50,\n",
        "                          range = (50, 80),\n",
        "                          alpha = 0.3,\n",
        "                          color = 'red')\n",
        "plt.title('Height distribution')\n",
        "plt.legend([\"Males\", \"Females\"])\n",
        "plt.xlabel(\"Height (in) \")\n",
        "\n",
        "plt.axvline(df_males['Height'].mean(), color='blue', linewidth=2)\n",
        "plt.axvline(df_females['Height'].mean(), color='red', linewidth=2)"
      ],
      "execution_count": null,
      "outputs": [
        {
          "output_type": "execute_result",
          "data": {
            "text/plain": [
              "<matplotlib.lines.Line2D at 0x7f1c7dc52f90>"
            ]
          },
          "metadata": {
            "tags": []
          },
          "execution_count": 59
        },
        {
          "output_type": "display_data",
          "data": {
            "image/png": "[encoded data removed]",
            "text/plain": [
              "<Figure size 432x288 with 1 Axes>"
            ]
          },
          "metadata": {
            "tags": [],
            "needs_background": "light"
          }
        }
      ]
    },
    {
      "cell_type": "code",
      "metadata": {
        "colab": {
          "base_uri": "https://localhost:8080/",
          "height": 313
        },
        "id": "6yGq2Vli-qPV",
        "outputId": "17de9466-d65d-4553-d7a1-ec2b4f63cee0"
      },
      "source": [
        "df_males['Height'].plot(kind='hist',\n",
        "                          bins = 200,\n",
        "                          range = (50, 80),\n",
        "                          alpha = 0.3,\n",
        "                          color = 'blue',\n",
        "                          cumulative = True,\n",
        "                          density = True\n",
        "                         )\n",
        "df_females['Height'].plot(kind='hist',\n",
        "                          bins = 200,\n",
        "                          range = (50, 80),\n",
        "                          alpha = 0.3,\n",
        "                          color = 'red',\n",
        "                          cumulative = True,\n",
        "                          density = True\n",
        "                          )\n",
        "plt.title('Height distribution')\n",
        "plt.legend([\"Males\", \"Females\"])\n",
        "plt.xlabel(\"Height (in) \")\n",
        "\n",
        "plt.axhline(0.8)\n",
        "plt.axhline(0.5)\n",
        "plt.axhline(0.2)"
      ],
      "execution_count": null,
      "outputs": [
        {
          "output_type": "execute_result",
          "data": {
            "text/plain": [
              "<matplotlib.lines.Line2D at 0x7f1c7ba20c50>"
            ]
          },
          "metadata": {
            "tags": []
          },
          "execution_count": 71
        },
        {
          "output_type": "display_data",
          "data": {
            "image/png": "[encoded data removed]",
            "text/plain": [
              "<Figure size 432x288 with 1 Axes>"
            ]
          },
          "metadata": {
            "tags": [],
            "needs_background": "light"
          }
        }
      ]
    }
  ]
}