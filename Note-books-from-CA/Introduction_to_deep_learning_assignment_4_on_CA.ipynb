{
  "nbformat": 4,
  "nbformat_minor": 0,
  "metadata": {
    "colab": {
      "name": "Introduction_to_deep_learning_assignment_4_on_CA.ipynb",
      "provenance": [],
      "collapsed_sections": []
    },
    "kernelspec": {
      "name": "python3",
      "display_name": "Python 3"
    },
    "language_info": {
      "name": "python"
    }
  },
  "cells": [
    {
      "cell_type": "markdown",
      "metadata": {
        "id": "E6pgjUioBNv6"
      },
      "source": [
        "**Assignment 4**"
      ]
    },
    {
      "cell_type": "markdown",
      "metadata": {
        "id": "KZsWKvudn1dm"
      },
      "source": [
        "Data source: https://www.kaggle.com/mustafaali96/weight-height"
      ]
    },
    {
      "cell_type": "code",
      "metadata": {
        "id": "uu3I2tKO0bie"
      },
      "source": [
        "import pandas as pd\n",
        "import numpy as np\n",
        "%matplotlib inline\n",
        "import matplotlib.pyplot as plt\n"
      ],
      "execution_count": null,
      "outputs": []
    },
    {
      "cell_type": "code",
      "metadata": {
        "id": "VBn2RqSPnbCb"
      },
      "source": [
        "df_wh = pd.read_csv('/content/weight-height.csv')"
      ],
      "execution_count": null,
      "outputs": []
    },
    {
      "cell_type": "code",
      "metadata": {
        "colab": {
          "base_uri": "https://localhost:8080/",
          "height": 206
        },
        "id": "ZIfTq3DqoYBC",
        "outputId": "4dc1ec02-ed34-4859-dc30-c0d36274c1ce"
      },
      "source": [
        "df_wh.sample(5)"
      ],
      "execution_count": null,
      "outputs": [
        {
          "output_type": "execute_result",
          "data": {
            "text/html": [
              "<div>\n",
              "<style scoped>\n",
              "    .dataframe tbody tr th:only-of-type {\n",
              "        vertical-align: middle;\n",
              "    }\n",
              "\n",
              "    .dataframe tbody tr th {\n",
              "        vertical-align: top;\n",
              "    }\n",
              "\n",
              "    .dataframe thead th {\n",
              "        text-align: right;\n",
              "    }\n",
              "</style>\n",
              "<table border=\"1\" class=\"dataframe\">\n",
              "  <thead>\n",
              "    <tr style=\"text-align: right;\">\n",
              "      <th></th>\n",
              "      <th>Gender</th>\n",
              "      <th>Height</th>\n",
              "      <th>Weight</th>\n",
              "    </tr>\n",
              "  </thead>\n",
              "  <tbody>\n",
              "    <tr>\n",
              "      <th>1166</th>\n",
              "      <td>Male</td>\n",
              "      <td>68.454904</td>\n",
              "      <td>185.377673</td>\n",
              "    </tr>\n",
              "    <tr>\n",
              "      <th>5703</th>\n",
              "      <td>Female</td>\n",
              "      <td>64.264658</td>\n",
              "      <td>162.804122</td>\n",
              "    </tr>\n",
              "    <tr>\n",
              "      <th>9841</th>\n",
              "      <td>Female</td>\n",
              "      <td>65.052619</td>\n",
              "      <td>150.097942</td>\n",
              "    </tr>\n",
              "    <tr>\n",
              "      <th>6968</th>\n",
              "      <td>Female</td>\n",
              "      <td>63.504695</td>\n",
              "      <td>123.504328</td>\n",
              "    </tr>\n",
              "    <tr>\n",
              "      <th>1506</th>\n",
              "      <td>Male</td>\n",
              "      <td>75.698618</td>\n",
              "      <td>249.565628</td>\n",
              "    </tr>\n",
              "  </tbody>\n",
              "</table>\n",
              "</div>"
            ],
            "text/plain": [
              "      Gender     Height      Weight\n",
              "1166    Male  68.454904  185.377673\n",
              "5703  Female  64.264658  162.804122\n",
              "9841  Female  65.052619  150.097942\n",
              "6968  Female  63.504695  123.504328\n",
              "1506    Male  75.698618  249.565628"
            ]
          },
          "metadata": {
            "tags": []
          },
          "execution_count": 37
        }
      ]
    },
    {
      "cell_type": "code",
      "metadata": {
        "colab": {
          "base_uri": "https://localhost:8080/"
        },
        "id": "hFPy34Nqoe7P",
        "outputId": "6a246886-fd37-43d5-cb7f-0a9a8c74658a"
      },
      "source": [
        "df_wh['Gender'].unique()"
      ],
      "execution_count": null,
      "outputs": [
        {
          "output_type": "execute_result",
          "data": {
            "text/plain": [
              "array(['Male', 'Female'], dtype=object)"
            ]
          },
          "metadata": {
            "tags": []
          },
          "execution_count": 38
        }
      ]
    },
    {
      "cell_type": "code",
      "metadata": {
        "colab": {
          "base_uri": "https://localhost:8080/",
          "height": 143
        },
        "id": "3Tn3bEmao1nc",
        "outputId": "94ffb50a-db03-4a69-d007-246cdb37224f"
      },
      "source": [
        "df_wh.groupby('Gender').count()"
      ],
      "execution_count": null,
      "outputs": [
        {
          "output_type": "execute_result",
          "data": {
            "text/html": [
              "<div>\n",
              "<style scoped>\n",
              "    .dataframe tbody tr th:only-of-type {\n",
              "        vertical-align: middle;\n",
              "    }\n",
              "\n",
              "    .dataframe tbody tr th {\n",
              "        vertical-align: top;\n",
              "    }\n",
              "\n",
              "    .dataframe thead th {\n",
              "        text-align: right;\n",
              "    }\n",
              "</style>\n",
              "<table border=\"1\" class=\"dataframe\">\n",
              "  <thead>\n",
              "    <tr style=\"text-align: right;\">\n",
              "      <th></th>\n",
              "      <th>Height</th>\n",
              "      <th>Weight</th>\n",
              "    </tr>\n",
              "    <tr>\n",
              "      <th>Gender</th>\n",
              "      <th></th>\n",
              "      <th></th>\n",
              "    </tr>\n",
              "  </thead>\n",
              "  <tbody>\n",
              "    <tr>\n",
              "      <th>Female</th>\n",
              "      <td>5000</td>\n",
              "      <td>5000</td>\n",
              "    </tr>\n",
              "    <tr>\n",
              "      <th>Male</th>\n",
              "      <td>5000</td>\n",
              "      <td>5000</td>\n",
              "    </tr>\n",
              "  </tbody>\n",
              "</table>\n",
              "</div>"
            ],
            "text/plain": [
              "        Height  Weight\n",
              "Gender                \n",
              "Female    5000    5000\n",
              "Male      5000    5000"
            ]
          },
          "metadata": {
            "tags": []
          },
          "execution_count": 39
        }
      ]
    },
    {
      "cell_type": "code",
      "metadata": {
        "colab": {
          "base_uri": "https://localhost:8080/"
        },
        "id": "1YLzB3ZlpRJf",
        "outputId": "01b912d0-d16e-4620-8993-5ec666580a39"
      },
      "source": [
        "df_wh.info()"
      ],
      "execution_count": null,
      "outputs": [
        {
          "output_type": "stream",
          "text": [
            "<class 'pandas.core.frame.DataFrame'>\n",
            "RangeIndex: 10000 entries, 0 to 9999\n",
            "Data columns (total 3 columns):\n",
            " #   Column  Non-Null Count  Dtype  \n",
            "---  ------  --------------  -----  \n",
            " 0   Gender  10000 non-null  object \n",
            " 1   Height  10000 non-null  float64\n",
            " 2   Weight  10000 non-null  float64\n",
            "dtypes: float64(2), object(1)\n",
            "memory usage: 234.5+ KB\n"
          ],
          "name": "stdout"
        }
      ]
    },
    {
      "cell_type": "code",
      "metadata": {
        "colab": {
          "base_uri": "https://localhost:8080/",
          "height": 313
        },
        "id": "Ugtv6bYIBL6k",
        "outputId": "2bf416ef-67d7-4c31-db8b-7dc1f10f38f5"
      },
      "source": [
        "df_males = df_wh[df_wh['Gender'] == 'Male']\n",
        "df_females = df_wh.query('Gender == \"Female\"')\n",
        "fig, ax = plt.subplots()\n",
        "\n",
        "df_males.plot(kind='box',\n",
        "              x = 'Height',\n",
        "              y = 'Weight',\n",
        "              ax = ax, color = 'blue', \n",
        "              title = 'Histogram plot of both males and females'\n",
        "              )\n",
        "df_females.plot(kind='box',\n",
        "              x = 'Height',\n",
        "              y = 'Weight',\n",
        "              ax = ax, color = 'red'\n",
        "              )\n",
        "plt.title('Height box distribution')\n",
        "plt.legend([\"Males\", \"Females\"])\n",
        "plt.xlabel(\"Height (in) \")"
      ],
      "execution_count": null,
      "outputs": [
        {
          "output_type": "execute_result",
          "data": {
            "text/plain": [
              "Text(0.5, 0, 'Height (in) ')"
            ]
          },
          "metadata": {
            "tags": []
          },
          "execution_count": 72
        },
        {
          "output_type": "display_data",
          "data": {
            "image/png": "[encoded data removed]",
            "text/plain": [
              "<Figure size 432x288 with 1 Axes>"
            ]
          },
          "metadata": {
            "tags": [],
            "needs_background": "light"
          }
        }
      ]
    },
    {
      "cell_type": "code",
      "metadata": {
        "id": "nrhspp94Bvv2"
      },
      "source": [
        ""
      ],
      "execution_count": null,
      "outputs": []
    }
  ]
}