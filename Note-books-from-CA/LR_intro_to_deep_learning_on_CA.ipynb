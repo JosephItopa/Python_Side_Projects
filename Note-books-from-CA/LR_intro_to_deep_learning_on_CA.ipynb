{
  "nbformat": 4,
  "nbformat_minor": 0,
  "metadata": {
    "colab": {
      "name": "LR-intro-to-deep-learning-on-CA.ipynb",
      "provenance": []
    },
    "kernelspec": {
      "name": "python3",
      "display_name": "Python 3"
    },
    "language_info": {
      "name": "python"
    }
  },
  "cells": [
    {
      "cell_type": "markdown",
      "metadata": {
        "id": "stfltFdJF7Pk"
      },
      "source": [
        "**Linear Regression with Keras**"
      ]
    },
    {
      "cell_type": "code",
      "metadata": {
        "id": "SUY8smfFFua7"
      },
      "source": [
        "from keras.models import Sequential\n",
        "from keras.layers import Dense\n",
        "from keras.optimizers import Adam, SGD"
      ],
      "execution_count": 53,
      "outputs": []
    },
    {
      "cell_type": "code",
      "metadata": {
        "id": "Wr6RM3WjIBy3"
      },
      "source": [
        "import pandas as pd\n",
        "df_wh = pd.read_csv('/content/weight-height.csv')"
      ],
      "execution_count": 54,
      "outputs": []
    },
    {
      "cell_type": "code",
      "metadata": {
        "id": "zdlxWNdMIire",
        "colab": {
          "base_uri": "https://localhost:8080/",
          "height": 206
        },
        "outputId": "5c148273-59b3-48fb-b805-47064ee92406"
      },
      "source": [
        "df_wh.sample(5)"
      ],
      "execution_count": 55,
      "outputs": [
        {
          "output_type": "execute_result",
          "data": {
            "text/html": [
              "<div>\n",
              "<style scoped>\n",
              "    .dataframe tbody tr th:only-of-type {\n",
              "        vertical-align: middle;\n",
              "    }\n",
              "\n",
              "    .dataframe tbody tr th {\n",
              "        vertical-align: top;\n",
              "    }\n",
              "\n",
              "    .dataframe thead th {\n",
              "        text-align: right;\n",
              "    }\n",
              "</style>\n",
              "<table border=\"1\" class=\"dataframe\">\n",
              "  <thead>\n",
              "    <tr style=\"text-align: right;\">\n",
              "      <th></th>\n",
              "      <th>Gender</th>\n",
              "      <th>Height</th>\n",
              "      <th>Weight</th>\n",
              "    </tr>\n",
              "  </thead>\n",
              "  <tbody>\n",
              "    <tr>\n",
              "      <th>1697</th>\n",
              "      <td>Male</td>\n",
              "      <td>68.162147</td>\n",
              "      <td>183.232712</td>\n",
              "    </tr>\n",
              "    <tr>\n",
              "      <th>6396</th>\n",
              "      <td>Female</td>\n",
              "      <td>59.330819</td>\n",
              "      <td>102.515973</td>\n",
              "    </tr>\n",
              "    <tr>\n",
              "      <th>9542</th>\n",
              "      <td>Female</td>\n",
              "      <td>60.759728</td>\n",
              "      <td>114.306428</td>\n",
              "    </tr>\n",
              "    <tr>\n",
              "      <th>4454</th>\n",
              "      <td>Male</td>\n",
              "      <td>69.128357</td>\n",
              "      <td>184.142281</td>\n",
              "    </tr>\n",
              "    <tr>\n",
              "      <th>2953</th>\n",
              "      <td>Male</td>\n",
              "      <td>71.006749</td>\n",
              "      <td>195.230403</td>\n",
              "    </tr>\n",
              "  </tbody>\n",
              "</table>\n",
              "</div>"
            ],
            "text/plain": [
              "      Gender     Height      Weight\n",
              "1697    Male  68.162147  183.232712\n",
              "6396  Female  59.330819  102.515973\n",
              "9542  Female  60.759728  114.306428\n",
              "4454    Male  69.128357  184.142281\n",
              "2953    Male  71.006749  195.230403"
            ]
          },
          "metadata": {
            "tags": []
          },
          "execution_count": 55
        }
      ]
    },
    {
      "cell_type": "code",
      "metadata": {
        "id": "VvWCEexpaY34"
      },
      "source": [
        "X = df_wh['Height']\n",
        "y_true = df_wh['Height']"
      ],
      "execution_count": 56,
      "outputs": []
    },
    {
      "cell_type": "code",
      "metadata": {
        "id": "3jyrvQMqVdhZ"
      },
      "source": [
        "from sklearn.model_selection import train_test_split\n",
        "X_train, X_test, y_train, y_test = train_test_split(X, y_true,\n",
        "                                                    test_size = 0.2)"
      ],
      "execution_count": 57,
      "outputs": []
    },
    {
      "cell_type": "code",
      "metadata": {
        "colab": {
          "base_uri": "https://localhost:8080/"
        },
        "id": "Ui6o-6ouX5lA",
        "outputId": "e8a5f151-1b50-4d3c-a980-cef46ff70b34"
      },
      "source": [
        "len(X_train)"
      ],
      "execution_count": 58,
      "outputs": [
        {
          "output_type": "execute_result",
          "data": {
            "text/plain": [
              "8000"
            ]
          },
          "metadata": {
            "tags": []
          },
          "execution_count": 58
        }
      ]
    },
    {
      "cell_type": "code",
      "metadata": {
        "colab": {
          "base_uri": "https://localhost:8080/"
        },
        "id": "rZlccWRuX83u",
        "outputId": "72f8aced-9809-44ec-cc8c-b210323df985"
      },
      "source": [
        "len(X_test)"
      ],
      "execution_count": 59,
      "outputs": [
        {
          "output_type": "execute_result",
          "data": {
            "text/plain": [
              "2000"
            ]
          },
          "metadata": {
            "tags": []
          },
          "execution_count": 59
        }
      ]
    },
    {
      "cell_type": "code",
      "metadata": {
        "id": "p-vESDNPGUEI"
      },
      "source": [
        "model = Sequential()\n",
        "model.add(Dense(1, input_shape=(1,)))"
      ],
      "execution_count": 60,
      "outputs": []
    },
    {
      "cell_type": "code",
      "metadata": {
        "colab": {
          "base_uri": "https://localhost:8080/"
        },
        "id": "NGzzK8tuGoiE",
        "outputId": "96563698-0385-4bb9-e69a-45be502f7672"
      },
      "source": [
        "model.summary()"
      ],
      "execution_count": 61,
      "outputs": [
        {
          "output_type": "stream",
          "text": [
            "Model: \"sequential_3\"\n",
            "_________________________________________________________________\n",
            "Layer (type)                 Output Shape              Param #   \n",
            "=================================================================\n",
            "dense_3 (Dense)              (None, 1)                 2         \n",
            "=================================================================\n",
            "Total params: 2\n",
            "Trainable params: 2\n",
            "Non-trainable params: 0\n",
            "_________________________________________________________________\n"
          ],
          "name": "stdout"
        }
      ]
    },
    {
      "cell_type": "code",
      "metadata": {
        "id": "2uoFsYxZbJLE"
      },
      "source": [
        "W, B = model.get_weights()"
      ],
      "execution_count": 63,
      "outputs": []
    },
    {
      "cell_type": "code",
      "metadata": {
        "id": "6aYDZWZbYAMI"
      },
      "source": [
        "W[0, 0] = 0.0\n",
        "B[0] = 0.0\n",
        "model.set_weights((W, B))"
      ],
      "execution_count": 64,
      "outputs": []
    },
    {
      "cell_type": "code",
      "metadata": {
        "id": "TgT58-E2GtEI"
      },
      "source": [
        "model.compile(Adam(lr=0.8), 'mean_squared_error')"
      ],
      "execution_count": 65,
      "outputs": []
    },
    {
      "cell_type": "code",
      "metadata": {
        "id": "j9mLJq87G6MI",
        "colab": {
          "base_uri": "https://localhost:8080/"
        },
        "outputId": "e372d933-62fb-4fe6-c705-0bb08792a77a"
      },
      "source": [
        "model.fit(X_train, y_train, epochs = 50, verbose=0)"
      ],
      "execution_count": 66,
      "outputs": [
        {
          "output_type": "execute_result",
          "data": {
            "text/plain": [
              "<tensorflow.python.keras.callbacks.History at 0x7f4a2de08b50>"
            ]
          },
          "metadata": {
            "tags": []
          },
          "execution_count": 66
        }
      ]
    },
    {
      "cell_type": "code",
      "metadata": {
        "id": "QYO3LwlhchCr"
      },
      "source": [
        "y_pred = model.predict(X)"
      ],
      "execution_count": 67,
      "outputs": []
    },
    {
      "cell_type": "code",
      "metadata": {
        "id": "qMiWM9jOHK6b",
        "colab": {
          "base_uri": "https://localhost:8080/",
          "height": 313
        },
        "outputId": "1c98b025-524e-4984-d49b-0a2bd9e30c34"
      },
      "source": [
        "import matplotlib.pyplot as plt\n",
        "\n",
        "df_wh.plot(kind='scatter', x='Height', y='Weight', title='Weight and Height in')\n",
        "plt.plot(X, y_pred, color='red')"
      ],
      "execution_count": 72,
      "outputs": [
        {
          "output_type": "execute_result",
          "data": {
            "text/plain": [
              "[<matplotlib.lines.Line2D at 0x7f4a2c85f950>]"
            ]
          },
          "metadata": {
            "tags": []
          },
          "execution_count": 72
        },
        {
          "output_type": "display_data",
          "data": {
            "image/png": "[encoded data removed]",
            "text/plain": [
              "<Figure size 432x288 with 1 Axes>"
            ]
          },
          "metadata": {
            "tags": [],
            "needs_background": "light"
          }
        }
      ]
    },
    {
      "cell_type": "code",
      "metadata": {
        "id": "QXI5PSiLHy25"
      },
      "source": [
        "y_train_pred = model.predict(X_train).ravel()\n",
        "y_test_pred = model.predict(X_test).ravel()"
      ],
      "execution_count": 68,
      "outputs": []
    },
    {
      "cell_type": "code",
      "metadata": {
        "id": "ZqoQP7-nH5Uy"
      },
      "source": [
        "from sklearn.metrics import mean_squared_error as mse"
      ],
      "execution_count": 69,
      "outputs": []
    },
    {
      "cell_type": "code",
      "metadata": {
        "id": "rVtXrkFYH8nW",
        "colab": {
          "base_uri": "https://localhost:8080/"
        },
        "outputId": "0a5a2207-eec6-4b06-9b49-7205985a98e8"
      },
      "source": [
        "print(\"The MSE on train set is:\\t{:0.1f}\".format(mse(y_train, y_train_pred)))\n",
        "print(\"The MSE on test set is:\\t{:0.1f}\".format(mse(y_test, y_test_pred)))"
      ],
      "execution_count": 70,
      "outputs": [
        {
          "output_type": "stream",
          "text": [
            "The MSE on train set is:\t0.1\n",
            "The MSE on test set is:\t0.1\n"
          ],
          "name": "stdout"
        }
      ]
    },
    {
      "cell_type": "code",
      "metadata": {
        "colab": {
          "base_uri": "https://localhost:8080/"
        },
        "id": "Qc15RB2gZYZc",
        "outputId": "505ab2fd-cce8-44c5-95dd-f4a50dc9f1dc"
      },
      "source": [
        "from sklearn.metrics import r2_score\n",
        "print(\"The r2 score on train set is:\\t{:0.1f}\".format(r2_score(y_train, y_train_pred)))\n",
        "print(\"The r2 score on test set is:\\t{:0.1f}\".format(r2_score(y_test, y_test_pred)))"
      ],
      "execution_count": 71,
      "outputs": [
        {
          "output_type": "stream",
          "text": [
            "The r2 score on train set is:\t1.0\n",
            "The r2 score on test set is:\t1.0\n"
          ],
          "name": "stdout"
        }
      ]
    }
  ]
}