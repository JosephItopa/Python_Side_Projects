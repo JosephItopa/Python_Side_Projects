{
  "nbformat": 4,
  "nbformat_minor": 0,
  "metadata": {
    "colab": {
      "name": "babatunde-example.ipynb",
      "provenance": []
    },
    "kernelspec": {
      "name": "python3",
      "display_name": "Python 3"
    },
    "language_info": {
      "name": "python"
    }
  },
  "cells": [
    {
      "cell_type": "code",
      "metadata": {
        "id": "8WHfdYq76Afn"
      },
      "source": [
        "# import preprocessing libraries\n",
        "import numpy as np\n",
        "import pandas as pd"
      ],
      "execution_count": 2,
      "outputs": []
    },
    {
      "cell_type": "markdown",
      "metadata": {
        "id": "5gkeV9Db7THQ"
      },
      "source": [
        "**Numpy example**"
      ]
    },
    {
      "cell_type": "code",
      "metadata": {
        "id": "cR9r_pJ96Tdp"
      },
      "source": [
        "list1 = [1,1,2,3,4,5,5] # list declaration"
      ],
      "execution_count": 4,
      "outputs": []
    },
    {
      "cell_type": "code",
      "metadata": {
        "colab": {
          "base_uri": "https://localhost:8080/"
        },
        "id": "QXXbDDl56oqN",
        "outputId": "6fc19bd3-6620-46cc-d430-768c684b857a"
      },
      "source": [
        "myarray = np.array(list1)   # convert list to an array\n",
        "print(myarray)\n",
        "myarray"
      ],
      "execution_count": 5,
      "outputs": [
        {
          "output_type": "stream",
          "text": [
            "[1 1 2 3 4 5 5]\n"
          ],
          "name": "stdout"
        },
        {
          "output_type": "execute_result",
          "data": {
            "text/plain": [
              "array([1, 1, 2, 3, 4, 5, 5])"
            ]
          },
          "metadata": {
            "tags": []
          },
          "execution_count": 5
        }
      ]
    },
    {
      "cell_type": "markdown",
      "metadata": {
        "id": "aFh05RO87W5t"
      },
      "source": [
        "**Pandas example**"
      ]
    },
    {
      "cell_type": "code",
      "metadata": {
        "colab": {
          "base_uri": "https://localhost:8080/"
        },
        "id": "Y6YtfO5P7RmO",
        "outputId": "e2d53c78-e3eb-4a11-e31e-7199286f9506"
      },
      "source": [
        "mySeries = pd.Series(myarray)\n",
        "mySeries"
      ],
      "execution_count": 6,
      "outputs": [
        {
          "output_type": "execute_result",
          "data": {
            "text/plain": [
              "0    1\n",
              "1    1\n",
              "2    2\n",
              "3    3\n",
              "4    4\n",
              "5    5\n",
              "6    5\n",
              "dtype: int64"
            ]
          },
          "metadata": {
            "tags": []
          },
          "execution_count": 6
        }
      ]
    }
  ]
}