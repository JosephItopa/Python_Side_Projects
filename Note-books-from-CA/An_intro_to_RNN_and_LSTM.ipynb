{
  "nbformat": 4,
  "nbformat_minor": 0,
  "metadata": {
    "colab": {
      "name": "An-intro-to-RNN-and-LSTM.ipynb",
      "provenance": []
    },
    "kernelspec": {
      "name": "python3",
      "display_name": "Python 3"
    },
    "language_info": {
      "name": "python"
    }
  },
  "cells": [
    {
      "cell_type": "markdown",
      "metadata": {
        "id": "WY80HZCoaNKX"
      },
      "source": [
        "**A Simple Recurrent Neural Network**"
      ]
    },
    {
      "cell_type": "code",
      "metadata": {
        "id": "ptsyOUuJYMt2"
      },
      "source": [
        "import pandas as pd\n",
        "import numpy as np\n",
        "%matplotlib inline\n",
        "import matplotlib.pyplot as plt"
      ],
      "execution_count": 1,
      "outputs": []
    },
    {
      "cell_type": "code",
      "metadata": {
        "colab": {
          "base_uri": "https://localhost:8080/",
          "height": 263
        },
        "id": "UWCen1w6aV9t",
        "outputId": "bde78b8b-ff88-4d00-83ec-517271c6a4f4"
      },
      "source": [
        "df = pd.read_csv('/content/cansim-0800020-eng-6674700030567901031.csv', skiprows=6, skipfooter=9)\n",
        "df.head()"
      ],
      "execution_count": 2,
      "outputs": [
        {
          "output_type": "stream",
          "text": [
            "/usr/local/lib/python3.7/dist-packages/ipykernel_launcher.py:1: ParserWarning: Falling back to the 'python' engine because the 'c' engine does not support skipfooter; you can avoid this warning by specifying engine='python'.\n",
            "  \"\"\"Entry point for launching an IPython kernel.\n"
          ],
          "name": "stderr"
        },
        {
          "output_type": "execute_result",
          "data": {
            "text/html": [
              "<div>\n",
              "<style scoped>\n",
              "    .dataframe tbody tr th:only-of-type {\n",
              "        vertical-align: middle;\n",
              "    }\n",
              "\n",
              "    .dataframe tbody tr th {\n",
              "        vertical-align: top;\n",
              "    }\n",
              "\n",
              "    .dataframe thead th {\n",
              "        text-align: right;\n",
              "    }\n",
              "</style>\n",
              "<table border=\"1\" class=\"dataframe\">\n",
              "  <thead>\n",
              "    <tr style=\"text-align: right;\">\n",
              "      <th></th>\n",
              "      <th>Adjustments</th>\n",
              "      <th>Unadjusted</th>\n",
              "      <th>Seasonally adjusted</th>\n",
              "    </tr>\n",
              "  </thead>\n",
              "  <tbody>\n",
              "    <tr>\n",
              "      <th>0</th>\n",
              "      <td>Jan-1991</td>\n",
              "      <td>12588862</td>\n",
              "      <td>15026890</td>\n",
              "    </tr>\n",
              "    <tr>\n",
              "      <th>1</th>\n",
              "      <td>Feb-1991</td>\n",
              "      <td>12154321</td>\n",
              "      <td>15304585</td>\n",
              "    </tr>\n",
              "    <tr>\n",
              "      <th>2</th>\n",
              "      <td>Mar-1991</td>\n",
              "      <td>14337072</td>\n",
              "      <td>15413591</td>\n",
              "    </tr>\n",
              "    <tr>\n",
              "      <th>3</th>\n",
              "      <td>Apr-1991</td>\n",
              "      <td>15108570</td>\n",
              "      <td>15293409</td>\n",
              "    </tr>\n",
              "    <tr>\n",
              "      <th>4</th>\n",
              "      <td>May-1991</td>\n",
              "      <td>17225734</td>\n",
              "      <td>15676083</td>\n",
              "    </tr>\n",
              "  </tbody>\n",
              "</table>\n",
              "</div>"
            ],
            "text/plain": [
              "  Adjustments  Unadjusted  Seasonally adjusted\n",
              "0    Jan-1991    12588862             15026890\n",
              "1    Feb-1991    12154321             15304585\n",
              "2    Mar-1991    14337072             15413591\n",
              "3    Apr-1991    15108570             15293409\n",
              "4    May-1991    17225734             15676083"
            ]
          },
          "metadata": {
            "tags": []
          },
          "execution_count": 2
        }
      ]
    },
    {
      "cell_type": "code",
      "metadata": {
        "id": "CxUDp35ZbC-J"
      },
      "source": [
        "from pandas.tseries.offsets import MonthEnd"
      ],
      "execution_count": 3,
      "outputs": []
    },
    {
      "cell_type": "code",
      "metadata": {
        "id": "NT6N_aD_bLJN"
      },
      "source": [
        "df['Adjustments'] = pd.to_datetime(df['Adjustments']) + MonthEnd(1)\n",
        "df = df.set_index('Adjustments') "
      ],
      "execution_count": 4,
      "outputs": []
    },
    {
      "cell_type": "code",
      "metadata": {
        "id": "WVpy1o_ibjom",
        "colab": {
          "base_uri": "https://localhost:8080/",
          "height": 313
        },
        "outputId": "2c777b9d-1d27-45bf-f9fb-093b44a68e50"
      },
      "source": [
        "plt.plot(df)"
      ],
      "execution_count": 5,
      "outputs": [
        {
          "output_type": "execute_result",
          "data": {
            "text/plain": [
              "[<matplotlib.lines.Line2D at 0x7fd260f97690>,\n",
              " <matplotlib.lines.Line2D at 0x7fd25ae1d750>]"
            ]
          },
          "metadata": {
            "tags": []
          },
          "execution_count": 5
        },
        {
          "output_type": "display_data",
          "data": {
            "image/png": "[encoded data removed]",
            "text/plain": [
              "<Figure size 432x288 with 1 Axes>"
            ]
          },
          "metadata": {
            "tags": [],
            "needs_background": "light"
          }
        }
      ]
    },
    {
      "cell_type": "code",
      "metadata": {
        "id": "YGQcE0GUqpfW"
      },
      "source": [
        "split_date = pd.Timestamp('01-01-2011')"
      ],
      "execution_count": 6,
      "outputs": []
    },
    {
      "cell_type": "code",
      "metadata": {
        "id": "GOS6eXc7BWe0"
      },
      "source": [
        "train = df.loc[:split_date, ['Unadjusted']]\n",
        "test = df.loc[split_date:, ['Unadjusted']]"
      ],
      "execution_count": 7,
      "outputs": []
    },
    {
      "cell_type": "code",
      "metadata": {
        "colab": {
          "base_uri": "https://localhost:8080/",
          "height": 308
        },
        "id": "TriNhkjWBpRj",
        "outputId": "12af4675-d883-4b85-f3a1-06e107e20424"
      },
      "source": [
        "ax = train.plot()\n",
        "test.plot(ax=ax)\n",
        "plt.legend(['train','test'])"
      ],
      "execution_count": 8,
      "outputs": [
        {
          "output_type": "execute_result",
          "data": {
            "text/plain": [
              "<matplotlib.legend.Legend at 0x7fd25a8b05d0>"
            ]
          },
          "metadata": {
            "tags": []
          },
          "execution_count": 8
        },
        {
          "output_type": "display_data",
          "data": {
            "image/png": "[encoded data removed]",
            "text/plain": [
              "<Figure size 432x288 with 1 Axes>"
            ]
          },
          "metadata": {
            "tags": [],
            "needs_background": "light"
          }
        }
      ]
    },
    {
      "cell_type": "code",
      "metadata": {
        "id": "DYOPaJ2KB4Rn"
      },
      "source": [
        "from sklearn.preprocessing import MinMaxScaler\n",
        "\n",
        "sc = MinMaxScaler()\n",
        "\n",
        "train_sc = sc.fit_transform(train)\n",
        "test_sc = sc.transform(test)"
      ],
      "execution_count": 9,
      "outputs": []
    },
    {
      "cell_type": "code",
      "metadata": {
        "id": "W2DSqPRpCTIl"
      },
      "source": [
        "X_train = train_sc[:-1]\n",
        "y_train = train_sc[1:]\n",
        "\n",
        "X_test = test_sc[:-1]\n",
        "y_test = test_sc[1:]"
      ],
      "execution_count": 10,
      "outputs": []
    },
    {
      "cell_type": "code",
      "metadata": {
        "id": "7SvhzELUCpu3"
      },
      "source": [
        "# Fully connected predictor\n",
        "from keras.models import Sequential\n",
        "from keras.layers import Dense\n",
        "import keras.backend as K\n",
        "from keras.callbacks import EarlyStopping"
      ],
      "execution_count": 11,
      "outputs": []
    },
    {
      "cell_type": "code",
      "metadata": {
        "colab": {
          "base_uri": "https://localhost:8080/"
        },
        "id": "5YNI6QisDNM4",
        "outputId": "8c3c72bb-f83b-4437-cf34-8211a68919ac"
      },
      "source": [
        "K.clear_session()\n",
        "\n",
        "model = Sequential()\n",
        "model.add(Dense(12, input_dim = 1, activation = 'relu'))\n",
        "model.add(Dense(1))\n",
        "model.compile(loss = 'mean_squared_error', optimizer = 'adam')\n",
        "model.summary()"
      ],
      "execution_count": 12,
      "outputs": [
        {
          "output_type": "stream",
          "text": [
            "Model: \"sequential\"\n",
            "_________________________________________________________________\n",
            "Layer (type)                 Output Shape              Param #   \n",
            "=================================================================\n",
            "dense (Dense)                (None, 12)                24        \n",
            "_________________________________________________________________\n",
            "dense_1 (Dense)              (None, 1)                 13        \n",
            "=================================================================\n",
            "Total params: 37\n",
            "Trainable params: 37\n",
            "Non-trainable params: 0\n",
            "_________________________________________________________________\n"
          ],
          "name": "stdout"
        }
      ]
    },
    {
      "cell_type": "code",
      "metadata": {
        "id": "BXvvZ4pGDxNR"
      },
      "source": [
        "early_stop = EarlyStopping(monitor = 'loss', patience = 1, verbose = 1)"
      ],
      "execution_count": 13,
      "outputs": []
    },
    {
      "cell_type": "code",
      "metadata": {
        "colab": {
          "base_uri": "https://localhost:8080/"
        },
        "id": "nEOb-leBEJcY",
        "outputId": "a53f9380-8649-4ba6-bc1a-f82f039a9fa5"
      },
      "source": [
        "model.fit(X_train, y_train, epochs = 200,\n",
        "          batch_size = 2, verbose = 1,\n",
        "          callbacks = [early_stop])"
      ],
      "execution_count": 14,
      "outputs": [
        {
          "output_type": "stream",
          "text": [
            "Epoch 1/200\n",
            "120/120 [==============================] - 1s 1ms/step - loss: 0.1032\n",
            "Epoch 2/200\n",
            "120/120 [==============================] - 0s 906us/step - loss: 0.0137\n",
            "Epoch 3/200\n",
            "120/120 [==============================] - 0s 941us/step - loss: 0.0132\n",
            "Epoch 4/200\n",
            "120/120 [==============================] - 0s 1ms/step - loss: 0.0135\n",
            "Epoch 5/200\n",
            "120/120 [==============================] - 0s 1ms/step - loss: 0.0096\n",
            "Epoch 6/200\n",
            "120/120 [==============================] - 0s 1ms/step - loss: 0.0105\n",
            "Epoch 7/200\n",
            "120/120 [==============================] - 0s 960us/step - loss: 0.0101\n",
            "Epoch 8/200\n",
            "120/120 [==============================] - 0s 1ms/step - loss: 0.0126\n",
            "Epoch 9/200\n",
            "120/120 [==============================] - 0s 1ms/step - loss: 0.0091\n",
            "Epoch 10/200\n",
            "120/120 [==============================] - 0s 1ms/step - loss: 0.0087\n",
            "Epoch 11/200\n",
            "120/120 [==============================] - 0s 913us/step - loss: 0.0112\n",
            "Epoch 00011: early stopping\n"
          ],
          "name": "stdout"
        },
        {
          "output_type": "execute_result",
          "data": {
            "text/plain": [
              "<tensorflow.python.keras.callbacks.History at 0x7fd2175d0890>"
            ]
          },
          "metadata": {
            "tags": []
          },
          "execution_count": 14
        }
      ]
    },
    {
      "cell_type": "code",
      "metadata": {
        "id": "onl4iQ0KFt-p"
      },
      "source": [
        "y_pred = model.predict(X_test)"
      ],
      "execution_count": 15,
      "outputs": []
    },
    {
      "cell_type": "code",
      "metadata": {
        "colab": {
          "base_uri": "https://localhost:8080/",
          "height": 283
        },
        "id": "BeqlObcbF9GY",
        "outputId": "b721e1fb-3695-4e85-9e5a-b2b7ad5dfa94"
      },
      "source": [
        "plt.plot(y_test)\n",
        "plt.plot(y_pred)"
      ],
      "execution_count": 16,
      "outputs": [
        {
          "output_type": "execute_result",
          "data": {
            "text/plain": [
              "[<matplotlib.lines.Line2D at 0x7fd2134ec4d0>]"
            ]
          },
          "metadata": {
            "tags": []
          },
          "execution_count": 16
        },
        {
          "output_type": "display_data",
          "data": {
            "image/png": "[encoded data removed]",
            "text/plain": [
              "<Figure size 432x288 with 1 Axes>"
            ]
          },
          "metadata": {
            "tags": [],
            "needs_background": "light"
          }
        }
      ]
    },
    {
      "cell_type": "markdown",
      "metadata": {
        "id": "JHeGEyV-GOfR"
      },
      "source": [
        "**Recurrent predictor**"
      ]
    },
    {
      "cell_type": "code",
      "metadata": {
        "id": "z3UL4DbuGSS6"
      },
      "source": [
        "from keras.layers import LSTM"
      ],
      "execution_count": 24,
      "outputs": []
    },
    {
      "cell_type": "code",
      "metadata": {
        "colab": {
          "base_uri": "https://localhost:8080/"
        },
        "id": "KglLAcBRGXVm",
        "outputId": "cbee4bb5-c5b9-4472-d068-72b79ef09821"
      },
      "source": [
        "X_train.shape"
      ],
      "execution_count": 25,
      "outputs": [
        {
          "output_type": "execute_result",
          "data": {
            "text/plain": [
              "(239, 1)"
            ]
          },
          "metadata": {
            "tags": []
          },
          "execution_count": 25
        }
      ]
    },
    {
      "cell_type": "code",
      "metadata": {
        "colab": {
          "base_uri": "https://localhost:8080/"
        },
        "id": "gpTdis3vGaJQ",
        "outputId": "f90c7159-10f8-4843-bb92-c5bd6f5cdc59"
      },
      "source": [
        "X_train[:, None].shape"
      ],
      "execution_count": 26,
      "outputs": [
        {
          "output_type": "execute_result",
          "data": {
            "text/plain": [
              "(239, 1, 1)"
            ]
          },
          "metadata": {
            "tags": []
          },
          "execution_count": 26
        }
      ]
    },
    {
      "cell_type": "code",
      "metadata": {
        "id": "8LQ1aYvTGjhN"
      },
      "source": [
        "X_train_t = X_train[:, None]\n",
        "X_test_t = X_test[:, None]"
      ],
      "execution_count": 27,
      "outputs": []
    },
    {
      "cell_type": "code",
      "metadata": {
        "id": "MKJuZcdUGw52"
      },
      "source": [
        "K.clear_session()\n",
        "\n",
        "model = Sequential()\n",
        "model.add(LSTM(6, input_shape = (1, 1)))\n",
        "model.add(Dense(1))\n",
        "model.compile(loss = 'mean_squared_error', optimizer = 'adam')"
      ],
      "execution_count": 28,
      "outputs": []
    },
    {
      "cell_type": "code",
      "metadata": {
        "colab": {
          "base_uri": "https://localhost:8080/"
        },
        "id": "bjDRkVeCH1od",
        "outputId": "df8e12c9-3711-46be-aa2e-92633466427f"
      },
      "source": [
        "model.fit(X_train_t, y_train, epochs = 100, batch_size = 1, verbose = 1, callbacks = [early_stop])"
      ],
      "execution_count": 29,
      "outputs": [
        {
          "output_type": "stream",
          "text": [
            "Epoch 1/100\n",
            "239/239 [==============================] - 2s 1ms/step - loss: 0.2029\n",
            "Epoch 2/100\n",
            "239/239 [==============================] - 0s 2ms/step - loss: 0.0664\n",
            "Epoch 3/100\n",
            "239/239 [==============================] - 0s 2ms/step - loss: 0.0446\n",
            "Epoch 4/100\n",
            "239/239 [==============================] - 0s 1ms/step - loss: 0.0345\n",
            "Epoch 5/100\n",
            "239/239 [==============================] - 0s 1ms/step - loss: 0.0309\n",
            "Epoch 6/100\n",
            "239/239 [==============================] - 0s 2ms/step - loss: 0.0226\n",
            "Epoch 7/100\n",
            "239/239 [==============================] - 0s 2ms/step - loss: 0.0192\n",
            "Epoch 8/100\n",
            "239/239 [==============================] - 0s 1ms/step - loss: 0.0162\n",
            "Epoch 9/100\n",
            "239/239 [==============================] - 0s 1ms/step - loss: 0.0119\n",
            "Epoch 10/100\n",
            "239/239 [==============================] - 0s 1ms/step - loss: 0.0096\n",
            "Epoch 11/100\n",
            "239/239 [==============================] - 0s 1ms/step - loss: 0.0095\n",
            "Epoch 12/100\n",
            "239/239 [==============================] - 0s 1ms/step - loss: 0.0096\n",
            "Epoch 00012: early stopping\n"
          ],
          "name": "stdout"
        },
        {
          "output_type": "execute_result",
          "data": {
            "text/plain": [
              "<tensorflow.python.keras.callbacks.History at 0x7fd2102bcc50>"
            ]
          },
          "metadata": {
            "tags": []
          },
          "execution_count": 29
        }
      ]
    },
    {
      "cell_type": "code",
      "metadata": {
        "id": "i1YruJJpIf9c"
      },
      "source": [
        "y_pred = model.predict(X_test_t)"
      ],
      "execution_count": 30,
      "outputs": []
    },
    {
      "cell_type": "code",
      "metadata": {
        "id": "tMhKgZz1Iw7f",
        "colab": {
          "base_uri": "https://localhost:8080/",
          "height": 283
        },
        "outputId": "7dc1ef33-65f6-4b12-b7ca-61cd5d935077"
      },
      "source": [
        "plt.plot(y_test)\n",
        "plt.plot(y_pred)"
      ],
      "execution_count": 31,
      "outputs": [
        {
          "output_type": "execute_result",
          "data": {
            "text/plain": [
              "[<matplotlib.lines.Line2D at 0x7fd20ee6e3d0>]"
            ]
          },
          "metadata": {
            "tags": []
          },
          "execution_count": 31
        },
        {
          "output_type": "display_data",
          "data": {
            "image/png": "[encoded data removed]",
            "text/plain": [
              "<Figure size 432x288 with 1 Axes>"
            ]
          },
          "metadata": {
            "tags": [],
            "needs_background": "light"
          }
        }
      ]
    },
    {
      "cell_type": "markdown",
      "metadata": {
        "id": "F6X3XTSSuqU4"
      },
      "source": [
        "**Deep Learning on Windows**"
      ]
    },
    {
      "cell_type": "code",
      "metadata": {
        "colab": {
          "base_uri": "https://localhost:8080/"
        },
        "id": "LimUFUeyun63",
        "outputId": "0fc92b5b-17ed-487b-9a59-0ee4a2554229"
      },
      "source": [
        "train_sc.shape"
      ],
      "execution_count": 32,
      "outputs": [
        {
          "output_type": "execute_result",
          "data": {
            "text/plain": [
              "(240, 1)"
            ]
          },
          "metadata": {
            "tags": []
          },
          "execution_count": 32
        }
      ]
    },
    {
      "cell_type": "code",
      "metadata": {
        "colab": {
          "base_uri": "https://localhost:8080/",
          "height": 238
        },
        "id": "5Xb77SbXvE-b",
        "outputId": "68d6c502-3fb4-4943-8e66-3bf9398a4ab0"
      },
      "source": [
        "train_sc_df = pd.DataFrame(train_sc, columns = ['Scaled'], index = train.index)\n",
        "test_sc_df = pd.DataFrame(test_sc, columns = ['Scaled'], index = test.index)\n",
        "train_sc_df.head()"
      ],
      "execution_count": 33,
      "outputs": [
        {
          "output_type": "execute_result",
          "data": {
            "text/html": [
              "<div>\n",
              "<style scoped>\n",
              "    .dataframe tbody tr th:only-of-type {\n",
              "        vertical-align: middle;\n",
              "    }\n",
              "\n",
              "    .dataframe tbody tr th {\n",
              "        vertical-align: top;\n",
              "    }\n",
              "\n",
              "    .dataframe thead th {\n",
              "        text-align: right;\n",
              "    }\n",
              "</style>\n",
              "<table border=\"1\" class=\"dataframe\">\n",
              "  <thead>\n",
              "    <tr style=\"text-align: right;\">\n",
              "      <th></th>\n",
              "      <th>Scaled</th>\n",
              "    </tr>\n",
              "    <tr>\n",
              "      <th>Adjustments</th>\n",
              "      <th></th>\n",
              "    </tr>\n",
              "  </thead>\n",
              "  <tbody>\n",
              "    <tr>\n",
              "      <th>1991-01-31</th>\n",
              "      <td>0.014020</td>\n",
              "    </tr>\n",
              "    <tr>\n",
              "      <th>1991-02-28</th>\n",
              "      <td>0.000000</td>\n",
              "    </tr>\n",
              "    <tr>\n",
              "      <th>1991-03-31</th>\n",
              "      <td>0.070426</td>\n",
              "    </tr>\n",
              "    <tr>\n",
              "      <th>1991-04-30</th>\n",
              "      <td>0.095318</td>\n",
              "    </tr>\n",
              "    <tr>\n",
              "      <th>1991-05-31</th>\n",
              "      <td>0.163628</td>\n",
              "    </tr>\n",
              "  </tbody>\n",
              "</table>\n",
              "</div>"
            ],
            "text/plain": [
              "               Scaled\n",
              "Adjustments          \n",
              "1991-01-31   0.014020\n",
              "1991-02-28   0.000000\n",
              "1991-03-31   0.070426\n",
              "1991-04-30   0.095318\n",
              "1991-05-31   0.163628"
            ]
          },
          "metadata": {
            "tags": []
          },
          "execution_count": 33
        }
      ]
    },
    {
      "cell_type": "code",
      "metadata": {
        "id": "c_HXZwwXvolE"
      },
      "source": [
        "for s in range(1, 13):\n",
        "    train_sc_df['shift_{}'.format(s)] = train_sc_df['Scaled'].shift(s)\n",
        "    test_sc_df['shift_{}'.format(s)] = test_sc_df['Scaled'].shift(s)"
      ],
      "execution_count": 34,
      "outputs": []
    },
    {
      "cell_type": "code",
      "metadata": {
        "colab": {
          "base_uri": "https://localhost:8080/",
          "height": 509
        },
        "id": "aOMvIwY1wXss",
        "outputId": "428672cc-4a58-4ce4-9f97-37bfd8702ca4"
      },
      "source": [
        "train_sc_df.head(13)"
      ],
      "execution_count": 35,
      "outputs": [
        {
          "output_type": "execute_result",
          "data": {
            "text/html": [
              "<div>\n",
              "<style scoped>\n",
              "    .dataframe tbody tr th:only-of-type {\n",
              "        vertical-align: middle;\n",
              "    }\n",
              "\n",
              "    .dataframe tbody tr th {\n",
              "        vertical-align: top;\n",
              "    }\n",
              "\n",
              "    .dataframe thead th {\n",
              "        text-align: right;\n",
              "    }\n",
              "</style>\n",
              "<table border=\"1\" class=\"dataframe\">\n",
              "  <thead>\n",
              "    <tr style=\"text-align: right;\">\n",
              "      <th></th>\n",
              "      <th>Scaled</th>\n",
              "      <th>shift_1</th>\n",
              "      <th>shift_2</th>\n",
              "      <th>shift_3</th>\n",
              "      <th>shift_4</th>\n",
              "      <th>shift_5</th>\n",
              "      <th>shift_6</th>\n",
              "      <th>shift_7</th>\n",
              "      <th>shift_8</th>\n",
              "      <th>shift_9</th>\n",
              "      <th>shift_10</th>\n",
              "      <th>shift_11</th>\n",
              "      <th>shift_12</th>\n",
              "    </tr>\n",
              "    <tr>\n",
              "      <th>Adjustments</th>\n",
              "      <th></th>\n",
              "      <th></th>\n",
              "      <th></th>\n",
              "      <th></th>\n",
              "      <th></th>\n",
              "      <th></th>\n",
              "      <th></th>\n",
              "      <th></th>\n",
              "      <th></th>\n",
              "      <th></th>\n",
              "      <th></th>\n",
              "      <th></th>\n",
              "      <th></th>\n",
              "    </tr>\n",
              "  </thead>\n",
              "  <tbody>\n",
              "    <tr>\n",
              "      <th>1991-01-31</th>\n",
              "      <td>0.014020</td>\n",
              "      <td>NaN</td>\n",
              "      <td>NaN</td>\n",
              "      <td>NaN</td>\n",
              "      <td>NaN</td>\n",
              "      <td>NaN</td>\n",
              "      <td>NaN</td>\n",
              "      <td>NaN</td>\n",
              "      <td>NaN</td>\n",
              "      <td>NaN</td>\n",
              "      <td>NaN</td>\n",
              "      <td>NaN</td>\n",
              "      <td>NaN</td>\n",
              "    </tr>\n",
              "    <tr>\n",
              "      <th>1991-02-28</th>\n",
              "      <td>0.000000</td>\n",
              "      <td>0.014020</td>\n",
              "      <td>NaN</td>\n",
              "      <td>NaN</td>\n",
              "      <td>NaN</td>\n",
              "      <td>NaN</td>\n",
              "      <td>NaN</td>\n",
              "      <td>NaN</td>\n",
              "      <td>NaN</td>\n",
              "      <td>NaN</td>\n",
              "      <td>NaN</td>\n",
              "      <td>NaN</td>\n",
              "      <td>NaN</td>\n",
              "    </tr>\n",
              "    <tr>\n",
              "      <th>1991-03-31</th>\n",
              "      <td>0.070426</td>\n",
              "      <td>0.000000</td>\n",
              "      <td>0.014020</td>\n",
              "      <td>NaN</td>\n",
              "      <td>NaN</td>\n",
              "      <td>NaN</td>\n",
              "      <td>NaN</td>\n",
              "      <td>NaN</td>\n",
              "      <td>NaN</td>\n",
              "      <td>NaN</td>\n",
              "      <td>NaN</td>\n",
              "      <td>NaN</td>\n",
              "      <td>NaN</td>\n",
              "    </tr>\n",
              "    <tr>\n",
              "      <th>1991-04-30</th>\n",
              "      <td>0.095318</td>\n",
              "      <td>0.070426</td>\n",
              "      <td>0.000000</td>\n",
              "      <td>0.014020</td>\n",
              "      <td>NaN</td>\n",
              "      <td>NaN</td>\n",
              "      <td>NaN</td>\n",
              "      <td>NaN</td>\n",
              "      <td>NaN</td>\n",
              "      <td>NaN</td>\n",
              "      <td>NaN</td>\n",
              "      <td>NaN</td>\n",
              "      <td>NaN</td>\n",
              "    </tr>\n",
              "    <tr>\n",
              "      <th>1991-05-31</th>\n",
              "      <td>0.163628</td>\n",
              "      <td>0.095318</td>\n",
              "      <td>0.070426</td>\n",
              "      <td>0.000000</td>\n",
              "      <td>0.014020</td>\n",
              "      <td>NaN</td>\n",
              "      <td>NaN</td>\n",
              "      <td>NaN</td>\n",
              "      <td>NaN</td>\n",
              "      <td>NaN</td>\n",
              "      <td>NaN</td>\n",
              "      <td>NaN</td>\n",
              "      <td>NaN</td>\n",
              "    </tr>\n",
              "    <tr>\n",
              "      <th>1991-06-30</th>\n",
              "      <td>0.135141</td>\n",
              "      <td>0.163628</td>\n",
              "      <td>0.095318</td>\n",
              "      <td>0.070426</td>\n",
              "      <td>0.000000</td>\n",
              "      <td>0.014020</td>\n",
              "      <td>NaN</td>\n",
              "      <td>NaN</td>\n",
              "      <td>NaN</td>\n",
              "      <td>NaN</td>\n",
              "      <td>NaN</td>\n",
              "      <td>NaN</td>\n",
              "      <td>NaN</td>\n",
              "    </tr>\n",
              "    <tr>\n",
              "      <th>1991-07-31</th>\n",
              "      <td>0.123958</td>\n",
              "      <td>0.135141</td>\n",
              "      <td>0.163628</td>\n",
              "      <td>0.095318</td>\n",
              "      <td>0.070426</td>\n",
              "      <td>0.000000</td>\n",
              "      <td>0.014020</td>\n",
              "      <td>NaN</td>\n",
              "      <td>NaN</td>\n",
              "      <td>NaN</td>\n",
              "      <td>NaN</td>\n",
              "      <td>NaN</td>\n",
              "      <td>NaN</td>\n",
              "    </tr>\n",
              "    <tr>\n",
              "      <th>1991-08-31</th>\n",
              "      <td>0.126174</td>\n",
              "      <td>0.123958</td>\n",
              "      <td>0.135141</td>\n",
              "      <td>0.163628</td>\n",
              "      <td>0.095318</td>\n",
              "      <td>0.070426</td>\n",
              "      <td>0.000000</td>\n",
              "      <td>0.014020</td>\n",
              "      <td>NaN</td>\n",
              "      <td>NaN</td>\n",
              "      <td>NaN</td>\n",
              "      <td>NaN</td>\n",
              "      <td>NaN</td>\n",
              "    </tr>\n",
              "    <tr>\n",
              "      <th>1991-09-30</th>\n",
              "      <td>0.092309</td>\n",
              "      <td>0.126174</td>\n",
              "      <td>0.123958</td>\n",
              "      <td>0.135141</td>\n",
              "      <td>0.163628</td>\n",
              "      <td>0.095318</td>\n",
              "      <td>0.070426</td>\n",
              "      <td>0.000000</td>\n",
              "      <td>0.014020</td>\n",
              "      <td>NaN</td>\n",
              "      <td>NaN</td>\n",
              "      <td>NaN</td>\n",
              "      <td>NaN</td>\n",
              "    </tr>\n",
              "    <tr>\n",
              "      <th>1991-10-31</th>\n",
              "      <td>0.111395</td>\n",
              "      <td>0.092309</td>\n",
              "      <td>0.126174</td>\n",
              "      <td>0.123958</td>\n",
              "      <td>0.135141</td>\n",
              "      <td>0.163628</td>\n",
              "      <td>0.095318</td>\n",
              "      <td>0.070426</td>\n",
              "      <td>0.000000</td>\n",
              "      <td>0.014020</td>\n",
              "      <td>NaN</td>\n",
              "      <td>NaN</td>\n",
              "      <td>NaN</td>\n",
              "    </tr>\n",
              "    <tr>\n",
              "      <th>1991-11-30</th>\n",
              "      <td>0.131738</td>\n",
              "      <td>0.111395</td>\n",
              "      <td>0.092309</td>\n",
              "      <td>0.126174</td>\n",
              "      <td>0.123958</td>\n",
              "      <td>0.135141</td>\n",
              "      <td>0.163628</td>\n",
              "      <td>0.095318</td>\n",
              "      <td>0.070426</td>\n",
              "      <td>0.000000</td>\n",
              "      <td>0.014020</td>\n",
              "      <td>NaN</td>\n",
              "      <td>NaN</td>\n",
              "    </tr>\n",
              "    <tr>\n",
              "      <th>1991-12-31</th>\n",
              "      <td>0.200913</td>\n",
              "      <td>0.131738</td>\n",
              "      <td>0.111395</td>\n",
              "      <td>0.092309</td>\n",
              "      <td>0.126174</td>\n",
              "      <td>0.123958</td>\n",
              "      <td>0.135141</td>\n",
              "      <td>0.163628</td>\n",
              "      <td>0.095318</td>\n",
              "      <td>0.070426</td>\n",
              "      <td>0.000000</td>\n",
              "      <td>0.01402</td>\n",
              "      <td>NaN</td>\n",
              "    </tr>\n",
              "    <tr>\n",
              "      <th>1992-01-31</th>\n",
              "      <td>0.030027</td>\n",
              "      <td>0.200913</td>\n",
              "      <td>0.131738</td>\n",
              "      <td>0.111395</td>\n",
              "      <td>0.092309</td>\n",
              "      <td>0.126174</td>\n",
              "      <td>0.123958</td>\n",
              "      <td>0.135141</td>\n",
              "      <td>0.163628</td>\n",
              "      <td>0.095318</td>\n",
              "      <td>0.070426</td>\n",
              "      <td>0.00000</td>\n",
              "      <td>0.01402</td>\n",
              "    </tr>\n",
              "  </tbody>\n",
              "</table>\n",
              "</div>"
            ],
            "text/plain": [
              "               Scaled   shift_1   shift_2  ...  shift_10  shift_11  shift_12\n",
              "Adjustments                                ...                              \n",
              "1991-01-31   0.014020       NaN       NaN  ...       NaN       NaN       NaN\n",
              "1991-02-28   0.000000  0.014020       NaN  ...       NaN       NaN       NaN\n",
              "1991-03-31   0.070426  0.000000  0.014020  ...       NaN       NaN       NaN\n",
              "1991-04-30   0.095318  0.070426  0.000000  ...       NaN       NaN       NaN\n",
              "1991-05-31   0.163628  0.095318  0.070426  ...       NaN       NaN       NaN\n",
              "1991-06-30   0.135141  0.163628  0.095318  ...       NaN       NaN       NaN\n",
              "1991-07-31   0.123958  0.135141  0.163628  ...       NaN       NaN       NaN\n",
              "1991-08-31   0.126174  0.123958  0.135141  ...       NaN       NaN       NaN\n",
              "1991-09-30   0.092309  0.126174  0.123958  ...       NaN       NaN       NaN\n",
              "1991-10-31   0.111395  0.092309  0.126174  ...       NaN       NaN       NaN\n",
              "1991-11-30   0.131738  0.111395  0.092309  ...  0.014020       NaN       NaN\n",
              "1991-12-31   0.200913  0.131738  0.111395  ...  0.000000   0.01402       NaN\n",
              "1992-01-31   0.030027  0.200913  0.131738  ...  0.070426   0.00000   0.01402\n",
              "\n",
              "[13 rows x 13 columns]"
            ]
          },
          "metadata": {
            "tags": []
          },
          "execution_count": 35
        }
      ]
    },
    {
      "cell_type": "code",
      "metadata": {
        "id": "AB0Yk1suwebr"
      },
      "source": [
        "X_train = train_sc_df.dropna().drop('Scaled', axis = 1)\n",
        "y_train = train_sc_df.dropna()[['Scaled']]\n",
        "\n",
        "X_test = test_sc_df.dropna().drop('Scaled', axis = 1)\n",
        "y_test = test_sc_df.dropna()[['Scaled']]"
      ],
      "execution_count": 53,
      "outputs": []
    },
    {
      "cell_type": "code",
      "metadata": {
        "colab": {
          "base_uri": "https://localhost:8080/",
          "height": 258
        },
        "id": "BfkeRKdZxRhv",
        "outputId": "b334fb02-5dca-4b34-841f-1f25051610a3"
      },
      "source": [
        "X_train.head()"
      ],
      "execution_count": 54,
      "outputs": [
        {
          "output_type": "execute_result",
          "data": {
            "text/html": [
              "<div>\n",
              "<style scoped>\n",
              "    .dataframe tbody tr th:only-of-type {\n",
              "        vertical-align: middle;\n",
              "    }\n",
              "\n",
              "    .dataframe tbody tr th {\n",
              "        vertical-align: top;\n",
              "    }\n",
              "\n",
              "    .dataframe thead th {\n",
              "        text-align: right;\n",
              "    }\n",
              "</style>\n",
              "<table border=\"1\" class=\"dataframe\">\n",
              "  <thead>\n",
              "    <tr style=\"text-align: right;\">\n",
              "      <th></th>\n",
              "      <th>shift_1</th>\n",
              "      <th>shift_2</th>\n",
              "      <th>shift_3</th>\n",
              "      <th>shift_4</th>\n",
              "      <th>shift_5</th>\n",
              "      <th>shift_6</th>\n",
              "      <th>shift_7</th>\n",
              "      <th>shift_8</th>\n",
              "      <th>shift_9</th>\n",
              "      <th>shift_10</th>\n",
              "      <th>shift_11</th>\n",
              "      <th>shift_12</th>\n",
              "    </tr>\n",
              "    <tr>\n",
              "      <th>Adjustments</th>\n",
              "      <th></th>\n",
              "      <th></th>\n",
              "      <th></th>\n",
              "      <th></th>\n",
              "      <th></th>\n",
              "      <th></th>\n",
              "      <th></th>\n",
              "      <th></th>\n",
              "      <th></th>\n",
              "      <th></th>\n",
              "      <th></th>\n",
              "      <th></th>\n",
              "    </tr>\n",
              "  </thead>\n",
              "  <tbody>\n",
              "    <tr>\n",
              "      <th>1992-01-31</th>\n",
              "      <td>0.200913</td>\n",
              "      <td>0.131738</td>\n",
              "      <td>0.111395</td>\n",
              "      <td>0.092309</td>\n",
              "      <td>0.126174</td>\n",
              "      <td>0.123958</td>\n",
              "      <td>0.135141</td>\n",
              "      <td>0.163628</td>\n",
              "      <td>0.095318</td>\n",
              "      <td>0.070426</td>\n",
              "      <td>0.000000</td>\n",
              "      <td>0.014020</td>\n",
              "    </tr>\n",
              "    <tr>\n",
              "      <th>1992-02-29</th>\n",
              "      <td>0.030027</td>\n",
              "      <td>0.200913</td>\n",
              "      <td>0.131738</td>\n",
              "      <td>0.111395</td>\n",
              "      <td>0.092309</td>\n",
              "      <td>0.126174</td>\n",
              "      <td>0.123958</td>\n",
              "      <td>0.135141</td>\n",
              "      <td>0.163628</td>\n",
              "      <td>0.095318</td>\n",
              "      <td>0.070426</td>\n",
              "      <td>0.000000</td>\n",
              "    </tr>\n",
              "    <tr>\n",
              "      <th>1992-03-31</th>\n",
              "      <td>0.019993</td>\n",
              "      <td>0.030027</td>\n",
              "      <td>0.200913</td>\n",
              "      <td>0.131738</td>\n",
              "      <td>0.111395</td>\n",
              "      <td>0.092309</td>\n",
              "      <td>0.126174</td>\n",
              "      <td>0.123958</td>\n",
              "      <td>0.135141</td>\n",
              "      <td>0.163628</td>\n",
              "      <td>0.095318</td>\n",
              "      <td>0.070426</td>\n",
              "    </tr>\n",
              "    <tr>\n",
              "      <th>1992-04-30</th>\n",
              "      <td>0.065964</td>\n",
              "      <td>0.019993</td>\n",
              "      <td>0.030027</td>\n",
              "      <td>0.200913</td>\n",
              "      <td>0.131738</td>\n",
              "      <td>0.111395</td>\n",
              "      <td>0.092309</td>\n",
              "      <td>0.126174</td>\n",
              "      <td>0.123958</td>\n",
              "      <td>0.135141</td>\n",
              "      <td>0.163628</td>\n",
              "      <td>0.095318</td>\n",
              "    </tr>\n",
              "    <tr>\n",
              "      <th>1992-05-31</th>\n",
              "      <td>0.109831</td>\n",
              "      <td>0.065964</td>\n",
              "      <td>0.019993</td>\n",
              "      <td>0.030027</td>\n",
              "      <td>0.200913</td>\n",
              "      <td>0.131738</td>\n",
              "      <td>0.111395</td>\n",
              "      <td>0.092309</td>\n",
              "      <td>0.126174</td>\n",
              "      <td>0.123958</td>\n",
              "      <td>0.135141</td>\n",
              "      <td>0.163628</td>\n",
              "    </tr>\n",
              "  </tbody>\n",
              "</table>\n",
              "</div>"
            ],
            "text/plain": [
              "              shift_1   shift_2   shift_3  ...  shift_10  shift_11  shift_12\n",
              "Adjustments                                ...                              \n",
              "1992-01-31   0.200913  0.131738  0.111395  ...  0.070426  0.000000  0.014020\n",
              "1992-02-29   0.030027  0.200913  0.131738  ...  0.095318  0.070426  0.000000\n",
              "1992-03-31   0.019993  0.030027  0.200913  ...  0.163628  0.095318  0.070426\n",
              "1992-04-30   0.065964  0.019993  0.030027  ...  0.135141  0.163628  0.095318\n",
              "1992-05-31   0.109831  0.065964  0.019993  ...  0.123958  0.135141  0.163628\n",
              "\n",
              "[5 rows x 12 columns]"
            ]
          },
          "metadata": {
            "tags": []
          },
          "execution_count": 54
        }
      ]
    },
    {
      "cell_type": "code",
      "metadata": {
        "colab": {
          "base_uri": "https://localhost:8080/"
        },
        "id": "YoNQPF_VxjkG",
        "outputId": "716cc98d-06d3-4b97-d46c-038b55cdad96"
      },
      "source": [
        "X_train.shape"
      ],
      "execution_count": 55,
      "outputs": [
        {
          "output_type": "execute_result",
          "data": {
            "text/plain": [
              "(228, 12)"
            ]
          },
          "metadata": {
            "tags": []
          },
          "execution_count": 55
        }
      ]
    },
    {
      "cell_type": "code",
      "metadata": {
        "id": "U-er-L5vxjor"
      },
      "source": [
        "X_train = X_train.values\n",
        "X_test = X_test.values\n",
        "\n",
        "y_train = y_train.values\n",
        "y_test = y_test.values"
      ],
      "execution_count": 56,
      "outputs": []
    },
    {
      "cell_type": "markdown",
      "metadata": {
        "id": "TfU4cE8P0r8x"
      },
      "source": [
        "**Fully Connected for Windows**"
      ]
    },
    {
      "cell_type": "code",
      "metadata": {
        "colab": {
          "base_uri": "https://localhost:8080/"
        },
        "id": "xf1liviO0OBA",
        "outputId": "a2003dc5-d8db-4c58-d00a-00cc1a918adb"
      },
      "source": [
        "K.clear_session()\n",
        "\n",
        "model = Sequential()\n",
        "model.add(Dense(12, input_dim = 12, activation = 'relu'))\n",
        "model.add(Dense(1))\n",
        "model.compile(loss = 'mean_squared_error', optimizer = 'adam')\n",
        "model.summary()"
      ],
      "execution_count": 58,
      "outputs": [
        {
          "output_type": "stream",
          "text": [
            "Model: \"sequential\"\n",
            "_________________________________________________________________\n",
            "Layer (type)                 Output Shape              Param #   \n",
            "=================================================================\n",
            "dense (Dense)                (None, 12)                156       \n",
            "_________________________________________________________________\n",
            "dense_1 (Dense)              (None, 1)                 13        \n",
            "=================================================================\n",
            "Total params: 169\n",
            "Trainable params: 169\n",
            "Non-trainable params: 0\n",
            "_________________________________________________________________\n"
          ],
          "name": "stdout"
        }
      ]
    },
    {
      "cell_type": "code",
      "metadata": {
        "colab": {
          "base_uri": "https://localhost:8080/"
        },
        "id": "AyVzyQQ61VzQ",
        "outputId": "7ccf34c1-9faf-434d-a018-dce1f658875c"
      },
      "source": [
        "model.fit(X_train, y_train, epochs = 200, batch_size = 1, verbose = 1, callbacks = [early_stop])"
      ],
      "execution_count": 59,
      "outputs": [
        {
          "output_type": "stream",
          "text": [
            "Epoch 1/200\n",
            "228/228 [==============================] - 0s 943us/step - loss: 0.2509\n",
            "Epoch 2/200\n",
            "228/228 [==============================] - 0s 932us/step - loss: 0.0097\n",
            "Epoch 3/200\n",
            "228/228 [==============================] - 0s 1ms/step - loss: 0.0088\n",
            "Epoch 4/200\n",
            "228/228 [==============================] - 0s 948us/step - loss: 0.0059\n",
            "Epoch 5/200\n",
            "228/228 [==============================] - 0s 1ms/step - loss: 0.0061\n",
            "Epoch 6/200\n",
            "228/228 [==============================] - 0s 1ms/step - loss: 0.0051\n",
            "Epoch 7/200\n",
            "228/228 [==============================] - 0s 1ms/step - loss: 0.0063\n",
            "Epoch 8/200\n",
            "228/228 [==============================] - 0s 1ms/step - loss: 0.0055\n",
            "Epoch 9/200\n",
            "228/228 [==============================] - 0s 967us/step - loss: 0.0053\n",
            "Epoch 10/200\n",
            "228/228 [==============================] - 0s 1ms/step - loss: 0.0052\n",
            "Epoch 11/200\n",
            "228/228 [==============================] - 0s 1ms/step - loss: 0.0043\n",
            "Epoch 12/200\n",
            "228/228 [==============================] - 0s 1ms/step - loss: 0.0036\n",
            "Epoch 13/200\n",
            "228/228 [==============================] - 0s 924us/step - loss: 0.0036\n",
            "Epoch 14/200\n",
            "228/228 [==============================] - 0s 1ms/step - loss: 0.0037\n",
            "Epoch 15/200\n",
            "228/228 [==============================] - 0s 996us/step - loss: 0.0029\n",
            "Epoch 16/200\n",
            "228/228 [==============================] - 0s 1ms/step - loss: 0.0036\n",
            "Epoch 17/200\n",
            "228/228 [==============================] - 0s 1ms/step - loss: 0.0027\n",
            "Epoch 18/200\n",
            "228/228 [==============================] - 0s 1ms/step - loss: 0.0027\n",
            "Epoch 19/200\n",
            "228/228 [==============================] - 0s 1ms/step - loss: 0.0022\n",
            "Epoch 20/200\n",
            "228/228 [==============================] - 0s 1ms/step - loss: 0.0018\n",
            "Epoch 21/200\n",
            "228/228 [==============================] - 0s 1ms/step - loss: 0.0023\n",
            "Epoch 00021: early stopping\n"
          ],
          "name": "stdout"
        },
        {
          "output_type": "execute_result",
          "data": {
            "text/plain": [
              "<tensorflow.python.keras.callbacks.History at 0x7fd20b032790>"
            ]
          },
          "metadata": {
            "tags": []
          },
          "execution_count": 59
        }
      ]
    },
    {
      "cell_type": "code",
      "metadata": {
        "id": "mO3JP0Qv1vGu"
      },
      "source": [
        "y_pred = model.predict(X_test)"
      ],
      "execution_count": 61,
      "outputs": []
    },
    {
      "cell_type": "code",
      "metadata": {
        "colab": {
          "base_uri": "https://localhost:8080/",
          "height": 283
        },
        "id": "rUEMMk1V16Wm",
        "outputId": "84b66496-ab05-4cdb-b869-9df851dbdd3d"
      },
      "source": [
        "plt.plot(y_test)\n",
        "plt.plot(y_pred)"
      ],
      "execution_count": 62,
      "outputs": [
        {
          "output_type": "execute_result",
          "data": {
            "text/plain": [
              "[<matplotlib.lines.Line2D at 0x7fd208d27e10>]"
            ]
          },
          "metadata": {
            "tags": []
          },
          "execution_count": 62
        },
        {
          "output_type": "display_data",
          "data": {
            "image/png": "[encoded data removed]",
            "text/plain": [
              "<Figure size 432x288 with 1 Axes>"
            ]
          },
          "metadata": {
            "tags": [],
            "needs_background": "light"
          }
        }
      ]
    },
    {
      "cell_type": "markdown",
      "metadata": {
        "id": "REmoRScx2a-k"
      },
      "source": [
        "**LSTM on windows**"
      ]
    },
    {
      "cell_type": "code",
      "metadata": {
        "id": "I52KxUFs2qjs"
      },
      "source": [
        "X_train_t = X_train.reshape(X_train.shape[0], 1, 12)\n",
        "X_test_t = X_test.reshape(X_test.shape[0], 1, 12)"
      ],
      "execution_count": 63,
      "outputs": []
    },
    {
      "cell_type": "code",
      "metadata": {
        "id": "7zrj5AyZ3Ixx"
      },
      "source": [
        "K.clear_session()\n",
        "\n",
        "model = Sequential()\n",
        "model.add(LSTM(6, input_shape = (1, 12)))\n",
        "model.add(Dense(1))\n",
        "model.compile(loss = 'mean_squared_error', optimizer = 'adam')"
      ],
      "execution_count": 65,
      "outputs": []
    },
    {
      "cell_type": "code",
      "metadata": {
        "colab": {
          "base_uri": "https://localhost:8080/"
        },
        "id": "jXq3ps333xyi",
        "outputId": "a04de17d-409b-4d9e-ce22-26a005128f9f"
      },
      "source": [
        "model.fit(X_train_t, y_train, epochs = 100, batch_size = 1, verbose = 1, callbacks = [early_stop])"
      ],
      "execution_count": 66,
      "outputs": [
        {
          "output_type": "stream",
          "text": [
            "Epoch 1/100\n",
            "228/228 [==============================] - 2s 1ms/step - loss: 0.0501\n",
            "Epoch 2/100\n",
            "228/228 [==============================] - 0s 1ms/step - loss: 0.0088\n",
            "Epoch 3/100\n",
            "228/228 [==============================] - 0s 1ms/step - loss: 0.0081\n",
            "Epoch 4/100\n",
            "228/228 [==============================] - 0s 1ms/step - loss: 0.0055\n",
            "Epoch 5/100\n",
            "228/228 [==============================] - 0s 1ms/step - loss: 0.0066\n",
            "Epoch 6/100\n",
            "228/228 [==============================] - 0s 2ms/step - loss: 0.0046\n",
            "Epoch 7/100\n",
            "228/228 [==============================] - 0s 2ms/step - loss: 0.0031\n",
            "Epoch 8/100\n",
            "228/228 [==============================] - 0s 1ms/step - loss: 0.0030\n",
            "Epoch 9/100\n",
            "228/228 [==============================] - 0s 1ms/step - loss: 0.0023\n",
            "Epoch 10/100\n",
            "228/228 [==============================] - 0s 2ms/step - loss: 0.0025\n",
            "Epoch 00010: early stopping\n"
          ],
          "name": "stdout"
        },
        {
          "output_type": "execute_result",
          "data": {
            "text/plain": [
              "<tensorflow.python.keras.callbacks.History at 0x7fd208b80c50>"
            ]
          },
          "metadata": {
            "tags": []
          },
          "execution_count": 66
        }
      ]
    },
    {
      "cell_type": "code",
      "metadata": {
        "colab": {
          "base_uri": "https://localhost:8080/",
          "height": 283
        },
        "id": "gUNzuu452xbZ",
        "outputId": "768629d8-ba25-407f-9560-6416a9a07399"
      },
      "source": [
        "plt.plot(y_test)\n",
        "plt.plot(y_pred)"
      ],
      "execution_count": 67,
      "outputs": [
        {
          "output_type": "execute_result",
          "data": {
            "text/plain": [
              "[<matplotlib.lines.Line2D at 0x7fd207feee10>]"
            ]
          },
          "metadata": {
            "tags": []
          },
          "execution_count": 67
        },
        {
          "output_type": "display_data",
          "data": {
            "image/png": "[encoded data removed]",
            "text/plain": [
              "<Figure size 432x288 with 1 Axes>"
            ]
          },
          "metadata": {
            "tags": [],
            "needs_background": "light"
          }
        }
      ]
    }
  ]
}