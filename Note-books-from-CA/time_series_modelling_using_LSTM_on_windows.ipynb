{
  "nbformat": 4,
  "nbformat_minor": 0,
  "metadata": {
    "colab": {
      "name": "time-series-modelling-using-LSTM-on-windows.ipynb",
      "provenance": []
    },
    "kernelspec": {
      "name": "python3",
      "display_name": "Python 3"
    },
    "language_info": {
      "name": "python"
    }
  },
  "cells": [
    {
      "cell_type": "code",
      "metadata": {
        "id": "iNBsRiNV4iB8"
      },
      "source": [
        "import pandas as pd\n",
        "import numpy as np\n",
        "%matplotlib inline\n",
        "import matplotlib.pyplot as plt"
      ],
      "execution_count": 1,
      "outputs": []
    },
    {
      "cell_type": "code",
      "metadata": {
        "colab": {
          "base_uri": "https://localhost:8080/",
          "height": 263
        },
        "id": "EBYHfKb74z0m",
        "outputId": "7d98fd7d-980a-4c7e-f611-e69ff5f9cae7"
      },
      "source": [
        "df = pd.read_csv('/content/cansim-0800020-eng-6674700030567901031.csv', skiprows=6, skipfooter=9)\n",
        "df.head()"
      ],
      "execution_count": 2,
      "outputs": [
        {
          "output_type": "stream",
          "text": [
            "/usr/local/lib/python3.7/dist-packages/ipykernel_launcher.py:1: ParserWarning: Falling back to the 'python' engine because the 'c' engine does not support skipfooter; you can avoid this warning by specifying engine='python'.\n",
            "  \"\"\"Entry point for launching an IPython kernel.\n"
          ],
          "name": "stderr"
        },
        {
          "output_type": "execute_result",
          "data": {
            "text/html": [
              "<div>\n",
              "<style scoped>\n",
              "    .dataframe tbody tr th:only-of-type {\n",
              "        vertical-align: middle;\n",
              "    }\n",
              "\n",
              "    .dataframe tbody tr th {\n",
              "        vertical-align: top;\n",
              "    }\n",
              "\n",
              "    .dataframe thead th {\n",
              "        text-align: right;\n",
              "    }\n",
              "</style>\n",
              "<table border=\"1\" class=\"dataframe\">\n",
              "  <thead>\n",
              "    <tr style=\"text-align: right;\">\n",
              "      <th></th>\n",
              "      <th>Adjustments</th>\n",
              "      <th>Unadjusted</th>\n",
              "      <th>Seasonally adjusted</th>\n",
              "    </tr>\n",
              "  </thead>\n",
              "  <tbody>\n",
              "    <tr>\n",
              "      <th>0</th>\n",
              "      <td>Jan-1991</td>\n",
              "      <td>12588862</td>\n",
              "      <td>15026890</td>\n",
              "    </tr>\n",
              "    <tr>\n",
              "      <th>1</th>\n",
              "      <td>Feb-1991</td>\n",
              "      <td>12154321</td>\n",
              "      <td>15304585</td>\n",
              "    </tr>\n",
              "    <tr>\n",
              "      <th>2</th>\n",
              "      <td>Mar-1991</td>\n",
              "      <td>14337072</td>\n",
              "      <td>15413591</td>\n",
              "    </tr>\n",
              "    <tr>\n",
              "      <th>3</th>\n",
              "      <td>Apr-1991</td>\n",
              "      <td>15108570</td>\n",
              "      <td>15293409</td>\n",
              "    </tr>\n",
              "    <tr>\n",
              "      <th>4</th>\n",
              "      <td>May-1991</td>\n",
              "      <td>17225734</td>\n",
              "      <td>15676083</td>\n",
              "    </tr>\n",
              "  </tbody>\n",
              "</table>\n",
              "</div>"
            ],
            "text/plain": [
              "  Adjustments  Unadjusted  Seasonally adjusted\n",
              "0    Jan-1991    12588862             15026890\n",
              "1    Feb-1991    12154321             15304585\n",
              "2    Mar-1991    14337072             15413591\n",
              "3    Apr-1991    15108570             15293409\n",
              "4    May-1991    17225734             15676083"
            ]
          },
          "metadata": {
            "tags": []
          },
          "execution_count": 2
        }
      ]
    },
    {
      "cell_type": "code",
      "metadata": {
        "id": "yd14pLxE43F5"
      },
      "source": [
        "from pandas.tseries.offsets import MonthEnd"
      ],
      "execution_count": 3,
      "outputs": []
    },
    {
      "cell_type": "code",
      "metadata": {
        "id": "l4exk0z848-J"
      },
      "source": [
        "df['Adjustments'] = pd.to_datetime(df['Adjustments']) + MonthEnd(1)\n",
        "df = df.set_index('Adjustments') "
      ],
      "execution_count": 4,
      "outputs": []
    },
    {
      "cell_type": "code",
      "metadata": {
        "colab": {
          "base_uri": "https://localhost:8080/",
          "height": 313
        },
        "id": "itKv-QYz4-FK",
        "outputId": "f34ce8f8-211d-43c7-dda4-cba97cab06e8"
      },
      "source": [
        "plt.plot(df)"
      ],
      "execution_count": 5,
      "outputs": [
        {
          "output_type": "execute_result",
          "data": {
            "text/plain": [
              "[<matplotlib.lines.Line2D at 0x7f90438bc050>,\n",
              " <matplotlib.lines.Line2D at 0x7f903d850e90>]"
            ]
          },
          "metadata": {
            "tags": []
          },
          "execution_count": 5
        },
        {
          "output_type": "display_data",
          "data": {
            "image/png": "[encoded data removed]",
            "text/plain": [
              "<Figure size 432x288 with 1 Axes>"
            ]
          },
          "metadata": {
            "tags": [],
            "needs_background": "light"
          }
        }
      ]
    },
    {
      "cell_type": "code",
      "metadata": {
        "id": "FSVjzi_R5As9"
      },
      "source": [
        "split_date = pd.Timestamp('01-01-2011')"
      ],
      "execution_count": 6,
      "outputs": []
    },
    {
      "cell_type": "code",
      "metadata": {
        "id": "KpJEPduW5AxR"
      },
      "source": [
        "train = df.loc[:split_date, ['Unadjusted']]\n",
        "test = df.loc[split_date:, ['Unadjusted']]"
      ],
      "execution_count": 7,
      "outputs": []
    },
    {
      "cell_type": "code",
      "metadata": {
        "colab": {
          "base_uri": "https://localhost:8080/",
          "height": 308
        },
        "id": "LLwggHJm5HPA",
        "outputId": "6bb11823-bdff-4670-e8b5-4357d39d87e6"
      },
      "source": [
        "ax = train.plot()\n",
        "test.plot(ax=ax)\n",
        "plt.legend(['train','test'])"
      ],
      "execution_count": 8,
      "outputs": [
        {
          "output_type": "execute_result",
          "data": {
            "text/plain": [
              "<matplotlib.legend.Legend at 0x7f903d6fe3d0>"
            ]
          },
          "metadata": {
            "tags": []
          },
          "execution_count": 8
        },
        {
          "output_type": "display_data",
          "data": {
            "image/png": "[encoded data removed]",
            "text/plain": [
              "<Figure size 432x288 with 1 Axes>"
            ]
          },
          "metadata": {
            "tags": [],
            "needs_background": "light"
          }
        }
      ]
    },
    {
      "cell_type": "code",
      "metadata": {
        "id": "yI3U-eon5MKf"
      },
      "source": [
        "from sklearn.preprocessing import MinMaxScaler\n",
        "\n",
        "sc = MinMaxScaler()\n",
        "\n",
        "train_sc = sc.fit_transform(train)\n",
        "test_sc = sc.transform(test)"
      ],
      "execution_count": 10,
      "outputs": []
    },
    {
      "cell_type": "code",
      "metadata": {
        "id": "A0tAhTZ95Y6n"
      },
      "source": [
        "X_train = train_sc[:-1]\n",
        "y_train = train_sc[1:]\n",
        "\n",
        "X_test = test_sc[:-1]\n",
        "y_test = test_sc[1:]"
      ],
      "execution_count": 11,
      "outputs": []
    },
    {
      "cell_type": "code",
      "metadata": {
        "colab": {
          "base_uri": "https://localhost:8080/"
        },
        "id": "gyK1yw9f5xiQ",
        "outputId": "541b6eb6-210e-42e1-f7b9-1d1858dca6e4"
      },
      "source": [
        "train_sc.shape"
      ],
      "execution_count": 12,
      "outputs": [
        {
          "output_type": "execute_result",
          "data": {
            "text/plain": [
              "(240, 1)"
            ]
          },
          "metadata": {
            "tags": []
          },
          "execution_count": 12
        }
      ]
    },
    {
      "cell_type": "code",
      "metadata": {
        "colab": {
          "base_uri": "https://localhost:8080/",
          "height": 238
        },
        "id": "MOMap1d150v2",
        "outputId": "0a356e60-6b09-48a2-ac26-be599b43ae3c"
      },
      "source": [
        "train_sc_df = pd.DataFrame(train_sc, columns = ['Scaled'], index = train.index)\n",
        "test_sc_df = pd.DataFrame(test_sc, columns = ['Scaled'], index = test.index)\n",
        "train_sc_df.head()"
      ],
      "execution_count": 13,
      "outputs": [
        {
          "output_type": "execute_result",
          "data": {
            "text/html": [
              "<div>\n",
              "<style scoped>\n",
              "    .dataframe tbody tr th:only-of-type {\n",
              "        vertical-align: middle;\n",
              "    }\n",
              "\n",
              "    .dataframe tbody tr th {\n",
              "        vertical-align: top;\n",
              "    }\n",
              "\n",
              "    .dataframe thead th {\n",
              "        text-align: right;\n",
              "    }\n",
              "</style>\n",
              "<table border=\"1\" class=\"dataframe\">\n",
              "  <thead>\n",
              "    <tr style=\"text-align: right;\">\n",
              "      <th></th>\n",
              "      <th>Scaled</th>\n",
              "    </tr>\n",
              "    <tr>\n",
              "      <th>Adjustments</th>\n",
              "      <th></th>\n",
              "    </tr>\n",
              "  </thead>\n",
              "  <tbody>\n",
              "    <tr>\n",
              "      <th>1991-01-31</th>\n",
              "      <td>0.014020</td>\n",
              "    </tr>\n",
              "    <tr>\n",
              "      <th>1991-02-28</th>\n",
              "      <td>0.000000</td>\n",
              "    </tr>\n",
              "    <tr>\n",
              "      <th>1991-03-31</th>\n",
              "      <td>0.070426</td>\n",
              "    </tr>\n",
              "    <tr>\n",
              "      <th>1991-04-30</th>\n",
              "      <td>0.095318</td>\n",
              "    </tr>\n",
              "    <tr>\n",
              "      <th>1991-05-31</th>\n",
              "      <td>0.163628</td>\n",
              "    </tr>\n",
              "  </tbody>\n",
              "</table>\n",
              "</div>"
            ],
            "text/plain": [
              "               Scaled\n",
              "Adjustments          \n",
              "1991-01-31   0.014020\n",
              "1991-02-28   0.000000\n",
              "1991-03-31   0.070426\n",
              "1991-04-30   0.095318\n",
              "1991-05-31   0.163628"
            ]
          },
          "metadata": {
            "tags": []
          },
          "execution_count": 13
        }
      ]
    },
    {
      "cell_type": "code",
      "metadata": {
        "id": "afix2ZWu6G2C"
      },
      "source": [
        "for s in range(1, 13):\n",
        "    train_sc_df['shift_{}'.format(s)] = train_sc_df['Scaled'].shift(s)\n",
        "    test_sc_df['shift_{}'.format(s)] = test_sc_df['Scaled'].shift(s)"
      ],
      "execution_count": 14,
      "outputs": []
    },
    {
      "cell_type": "code",
      "metadata": {
        "colab": {
          "base_uri": "https://localhost:8080/",
          "height": 509
        },
        "id": "3kuJjp_N6KrT",
        "outputId": "f80a4d41-8969-4c5a-f855-5a7b436de154"
      },
      "source": [
        "train_sc_df.head(13)"
      ],
      "execution_count": 15,
      "outputs": [
        {
          "output_type": "execute_result",
          "data": {
            "text/html": [
              "<div>\n",
              "<style scoped>\n",
              "    .dataframe tbody tr th:only-of-type {\n",
              "        vertical-align: middle;\n",
              "    }\n",
              "\n",
              "    .dataframe tbody tr th {\n",
              "        vertical-align: top;\n",
              "    }\n",
              "\n",
              "    .dataframe thead th {\n",
              "        text-align: right;\n",
              "    }\n",
              "</style>\n",
              "<table border=\"1\" class=\"dataframe\">\n",
              "  <thead>\n",
              "    <tr style=\"text-align: right;\">\n",
              "      <th></th>\n",
              "      <th>Scaled</th>\n",
              "      <th>shift_1</th>\n",
              "      <th>shift_2</th>\n",
              "      <th>shift_3</th>\n",
              "      <th>shift_4</th>\n",
              "      <th>shift_5</th>\n",
              "      <th>shift_6</th>\n",
              "      <th>shift_7</th>\n",
              "      <th>shift_8</th>\n",
              "      <th>shift_9</th>\n",
              "      <th>shift_10</th>\n",
              "      <th>shift_11</th>\n",
              "      <th>shift_12</th>\n",
              "    </tr>\n",
              "    <tr>\n",
              "      <th>Adjustments</th>\n",
              "      <th></th>\n",
              "      <th></th>\n",
              "      <th></th>\n",
              "      <th></th>\n",
              "      <th></th>\n",
              "      <th></th>\n",
              "      <th></th>\n",
              "      <th></th>\n",
              "      <th></th>\n",
              "      <th></th>\n",
              "      <th></th>\n",
              "      <th></th>\n",
              "      <th></th>\n",
              "    </tr>\n",
              "  </thead>\n",
              "  <tbody>\n",
              "    <tr>\n",
              "      <th>1991-01-31</th>\n",
              "      <td>0.014020</td>\n",
              "      <td>NaN</td>\n",
              "      <td>NaN</td>\n",
              "      <td>NaN</td>\n",
              "      <td>NaN</td>\n",
              "      <td>NaN</td>\n",
              "      <td>NaN</td>\n",
              "      <td>NaN</td>\n",
              "      <td>NaN</td>\n",
              "      <td>NaN</td>\n",
              "      <td>NaN</td>\n",
              "      <td>NaN</td>\n",
              "      <td>NaN</td>\n",
              "    </tr>\n",
              "    <tr>\n",
              "      <th>1991-02-28</th>\n",
              "      <td>0.000000</td>\n",
              "      <td>0.014020</td>\n",
              "      <td>NaN</td>\n",
              "      <td>NaN</td>\n",
              "      <td>NaN</td>\n",
              "      <td>NaN</td>\n",
              "      <td>NaN</td>\n",
              "      <td>NaN</td>\n",
              "      <td>NaN</td>\n",
              "      <td>NaN</td>\n",
              "      <td>NaN</td>\n",
              "      <td>NaN</td>\n",
              "      <td>NaN</td>\n",
              "    </tr>\n",
              "    <tr>\n",
              "      <th>1991-03-31</th>\n",
              "      <td>0.070426</td>\n",
              "      <td>0.000000</td>\n",
              "      <td>0.014020</td>\n",
              "      <td>NaN</td>\n",
              "      <td>NaN</td>\n",
              "      <td>NaN</td>\n",
              "      <td>NaN</td>\n",
              "      <td>NaN</td>\n",
              "      <td>NaN</td>\n",
              "      <td>NaN</td>\n",
              "      <td>NaN</td>\n",
              "      <td>NaN</td>\n",
              "      <td>NaN</td>\n",
              "    </tr>\n",
              "    <tr>\n",
              "      <th>1991-04-30</th>\n",
              "      <td>0.095318</td>\n",
              "      <td>0.070426</td>\n",
              "      <td>0.000000</td>\n",
              "      <td>0.014020</td>\n",
              "      <td>NaN</td>\n",
              "      <td>NaN</td>\n",
              "      <td>NaN</td>\n",
              "      <td>NaN</td>\n",
              "      <td>NaN</td>\n",
              "      <td>NaN</td>\n",
              "      <td>NaN</td>\n",
              "      <td>NaN</td>\n",
              "      <td>NaN</td>\n",
              "    </tr>\n",
              "    <tr>\n",
              "      <th>1991-05-31</th>\n",
              "      <td>0.163628</td>\n",
              "      <td>0.095318</td>\n",
              "      <td>0.070426</td>\n",
              "      <td>0.000000</td>\n",
              "      <td>0.014020</td>\n",
              "      <td>NaN</td>\n",
              "      <td>NaN</td>\n",
              "      <td>NaN</td>\n",
              "      <td>NaN</td>\n",
              "      <td>NaN</td>\n",
              "      <td>NaN</td>\n",
              "      <td>NaN</td>\n",
              "      <td>NaN</td>\n",
              "    </tr>\n",
              "    <tr>\n",
              "      <th>1991-06-30</th>\n",
              "      <td>0.135141</td>\n",
              "      <td>0.163628</td>\n",
              "      <td>0.095318</td>\n",
              "      <td>0.070426</td>\n",
              "      <td>0.000000</td>\n",
              "      <td>0.014020</td>\n",
              "      <td>NaN</td>\n",
              "      <td>NaN</td>\n",
              "      <td>NaN</td>\n",
              "      <td>NaN</td>\n",
              "      <td>NaN</td>\n",
              "      <td>NaN</td>\n",
              "      <td>NaN</td>\n",
              "    </tr>\n",
              "    <tr>\n",
              "      <th>1991-07-31</th>\n",
              "      <td>0.123958</td>\n",
              "      <td>0.135141</td>\n",
              "      <td>0.163628</td>\n",
              "      <td>0.095318</td>\n",
              "      <td>0.070426</td>\n",
              "      <td>0.000000</td>\n",
              "      <td>0.014020</td>\n",
              "      <td>NaN</td>\n",
              "      <td>NaN</td>\n",
              "      <td>NaN</td>\n",
              "      <td>NaN</td>\n",
              "      <td>NaN</td>\n",
              "      <td>NaN</td>\n",
              "    </tr>\n",
              "    <tr>\n",
              "      <th>1991-08-31</th>\n",
              "      <td>0.126174</td>\n",
              "      <td>0.123958</td>\n",
              "      <td>0.135141</td>\n",
              "      <td>0.163628</td>\n",
              "      <td>0.095318</td>\n",
              "      <td>0.070426</td>\n",
              "      <td>0.000000</td>\n",
              "      <td>0.014020</td>\n",
              "      <td>NaN</td>\n",
              "      <td>NaN</td>\n",
              "      <td>NaN</td>\n",
              "      <td>NaN</td>\n",
              "      <td>NaN</td>\n",
              "    </tr>\n",
              "    <tr>\n",
              "      <th>1991-09-30</th>\n",
              "      <td>0.092309</td>\n",
              "      <td>0.126174</td>\n",
              "      <td>0.123958</td>\n",
              "      <td>0.135141</td>\n",
              "      <td>0.163628</td>\n",
              "      <td>0.095318</td>\n",
              "      <td>0.070426</td>\n",
              "      <td>0.000000</td>\n",
              "      <td>0.014020</td>\n",
              "      <td>NaN</td>\n",
              "      <td>NaN</td>\n",
              "      <td>NaN</td>\n",
              "      <td>NaN</td>\n",
              "    </tr>\n",
              "    <tr>\n",
              "      <th>1991-10-31</th>\n",
              "      <td>0.111395</td>\n",
              "      <td>0.092309</td>\n",
              "      <td>0.126174</td>\n",
              "      <td>0.123958</td>\n",
              "      <td>0.135141</td>\n",
              "      <td>0.163628</td>\n",
              "      <td>0.095318</td>\n",
              "      <td>0.070426</td>\n",
              "      <td>0.000000</td>\n",
              "      <td>0.014020</td>\n",
              "      <td>NaN</td>\n",
              "      <td>NaN</td>\n",
              "      <td>NaN</td>\n",
              "    </tr>\n",
              "    <tr>\n",
              "      <th>1991-11-30</th>\n",
              "      <td>0.131738</td>\n",
              "      <td>0.111395</td>\n",
              "      <td>0.092309</td>\n",
              "      <td>0.126174</td>\n",
              "      <td>0.123958</td>\n",
              "      <td>0.135141</td>\n",
              "      <td>0.163628</td>\n",
              "      <td>0.095318</td>\n",
              "      <td>0.070426</td>\n",
              "      <td>0.000000</td>\n",
              "      <td>0.014020</td>\n",
              "      <td>NaN</td>\n",
              "      <td>NaN</td>\n",
              "    </tr>\n",
              "    <tr>\n",
              "      <th>1991-12-31</th>\n",
              "      <td>0.200913</td>\n",
              "      <td>0.131738</td>\n",
              "      <td>0.111395</td>\n",
              "      <td>0.092309</td>\n",
              "      <td>0.126174</td>\n",
              "      <td>0.123958</td>\n",
              "      <td>0.135141</td>\n",
              "      <td>0.163628</td>\n",
              "      <td>0.095318</td>\n",
              "      <td>0.070426</td>\n",
              "      <td>0.000000</td>\n",
              "      <td>0.01402</td>\n",
              "      <td>NaN</td>\n",
              "    </tr>\n",
              "    <tr>\n",
              "      <th>1992-01-31</th>\n",
              "      <td>0.030027</td>\n",
              "      <td>0.200913</td>\n",
              "      <td>0.131738</td>\n",
              "      <td>0.111395</td>\n",
              "      <td>0.092309</td>\n",
              "      <td>0.126174</td>\n",
              "      <td>0.123958</td>\n",
              "      <td>0.135141</td>\n",
              "      <td>0.163628</td>\n",
              "      <td>0.095318</td>\n",
              "      <td>0.070426</td>\n",
              "      <td>0.00000</td>\n",
              "      <td>0.01402</td>\n",
              "    </tr>\n",
              "  </tbody>\n",
              "</table>\n",
              "</div>"
            ],
            "text/plain": [
              "               Scaled   shift_1   shift_2  ...  shift_10  shift_11  shift_12\n",
              "Adjustments                                ...                              \n",
              "1991-01-31   0.014020       NaN       NaN  ...       NaN       NaN       NaN\n",
              "1991-02-28   0.000000  0.014020       NaN  ...       NaN       NaN       NaN\n",
              "1991-03-31   0.070426  0.000000  0.014020  ...       NaN       NaN       NaN\n",
              "1991-04-30   0.095318  0.070426  0.000000  ...       NaN       NaN       NaN\n",
              "1991-05-31   0.163628  0.095318  0.070426  ...       NaN       NaN       NaN\n",
              "1991-06-30   0.135141  0.163628  0.095318  ...       NaN       NaN       NaN\n",
              "1991-07-31   0.123958  0.135141  0.163628  ...       NaN       NaN       NaN\n",
              "1991-08-31   0.126174  0.123958  0.135141  ...       NaN       NaN       NaN\n",
              "1991-09-30   0.092309  0.126174  0.123958  ...       NaN       NaN       NaN\n",
              "1991-10-31   0.111395  0.092309  0.126174  ...       NaN       NaN       NaN\n",
              "1991-11-30   0.131738  0.111395  0.092309  ...  0.014020       NaN       NaN\n",
              "1991-12-31   0.200913  0.131738  0.111395  ...  0.000000   0.01402       NaN\n",
              "1992-01-31   0.030027  0.200913  0.131738  ...  0.070426   0.00000   0.01402\n",
              "\n",
              "[13 rows x 13 columns]"
            ]
          },
          "metadata": {
            "tags": []
          },
          "execution_count": 15
        }
      ]
    },
    {
      "cell_type": "code",
      "metadata": {
        "id": "6KvWzmOk6P7M"
      },
      "source": [
        "X_train = train_sc_df.dropna().drop('Scaled', axis = 1)\n",
        "y_train = train_sc_df.dropna()[['Scaled']]\n",
        "\n",
        "X_test = test_sc_df.dropna().drop('Scaled', axis = 1)\n",
        "y_test = test_sc_df.dropna()[['Scaled']]"
      ],
      "execution_count": 16,
      "outputs": []
    },
    {
      "cell_type": "code",
      "metadata": {
        "colab": {
          "base_uri": "https://localhost:8080/",
          "height": 258
        },
        "id": "4wanRMjM6Tda",
        "outputId": "ee84033c-346a-4443-e3df-826b2b6afe6f"
      },
      "source": [
        "X_train.head()"
      ],
      "execution_count": 17,
      "outputs": [
        {
          "output_type": "execute_result",
          "data": {
            "text/html": [
              "<div>\n",
              "<style scoped>\n",
              "    .dataframe tbody tr th:only-of-type {\n",
              "        vertical-align: middle;\n",
              "    }\n",
              "\n",
              "    .dataframe tbody tr th {\n",
              "        vertical-align: top;\n",
              "    }\n",
              "\n",
              "    .dataframe thead th {\n",
              "        text-align: right;\n",
              "    }\n",
              "</style>\n",
              "<table border=\"1\" class=\"dataframe\">\n",
              "  <thead>\n",
              "    <tr style=\"text-align: right;\">\n",
              "      <th></th>\n",
              "      <th>shift_1</th>\n",
              "      <th>shift_2</th>\n",
              "      <th>shift_3</th>\n",
              "      <th>shift_4</th>\n",
              "      <th>shift_5</th>\n",
              "      <th>shift_6</th>\n",
              "      <th>shift_7</th>\n",
              "      <th>shift_8</th>\n",
              "      <th>shift_9</th>\n",
              "      <th>shift_10</th>\n",
              "      <th>shift_11</th>\n",
              "      <th>shift_12</th>\n",
              "    </tr>\n",
              "    <tr>\n",
              "      <th>Adjustments</th>\n",
              "      <th></th>\n",
              "      <th></th>\n",
              "      <th></th>\n",
              "      <th></th>\n",
              "      <th></th>\n",
              "      <th></th>\n",
              "      <th></th>\n",
              "      <th></th>\n",
              "      <th></th>\n",
              "      <th></th>\n",
              "      <th></th>\n",
              "      <th></th>\n",
              "    </tr>\n",
              "  </thead>\n",
              "  <tbody>\n",
              "    <tr>\n",
              "      <th>1992-01-31</th>\n",
              "      <td>0.200913</td>\n",
              "      <td>0.131738</td>\n",
              "      <td>0.111395</td>\n",
              "      <td>0.092309</td>\n",
              "      <td>0.126174</td>\n",
              "      <td>0.123958</td>\n",
              "      <td>0.135141</td>\n",
              "      <td>0.163628</td>\n",
              "      <td>0.095318</td>\n",
              "      <td>0.070426</td>\n",
              "      <td>0.000000</td>\n",
              "      <td>0.014020</td>\n",
              "    </tr>\n",
              "    <tr>\n",
              "      <th>1992-02-29</th>\n",
              "      <td>0.030027</td>\n",
              "      <td>0.200913</td>\n",
              "      <td>0.131738</td>\n",
              "      <td>0.111395</td>\n",
              "      <td>0.092309</td>\n",
              "      <td>0.126174</td>\n",
              "      <td>0.123958</td>\n",
              "      <td>0.135141</td>\n",
              "      <td>0.163628</td>\n",
              "      <td>0.095318</td>\n",
              "      <td>0.070426</td>\n",
              "      <td>0.000000</td>\n",
              "    </tr>\n",
              "    <tr>\n",
              "      <th>1992-03-31</th>\n",
              "      <td>0.019993</td>\n",
              "      <td>0.030027</td>\n",
              "      <td>0.200913</td>\n",
              "      <td>0.131738</td>\n",
              "      <td>0.111395</td>\n",
              "      <td>0.092309</td>\n",
              "      <td>0.126174</td>\n",
              "      <td>0.123958</td>\n",
              "      <td>0.135141</td>\n",
              "      <td>0.163628</td>\n",
              "      <td>0.095318</td>\n",
              "      <td>0.070426</td>\n",
              "    </tr>\n",
              "    <tr>\n",
              "      <th>1992-04-30</th>\n",
              "      <td>0.065964</td>\n",
              "      <td>0.019993</td>\n",
              "      <td>0.030027</td>\n",
              "      <td>0.200913</td>\n",
              "      <td>0.131738</td>\n",
              "      <td>0.111395</td>\n",
              "      <td>0.092309</td>\n",
              "      <td>0.126174</td>\n",
              "      <td>0.123958</td>\n",
              "      <td>0.135141</td>\n",
              "      <td>0.163628</td>\n",
              "      <td>0.095318</td>\n",
              "    </tr>\n",
              "    <tr>\n",
              "      <th>1992-05-31</th>\n",
              "      <td>0.109831</td>\n",
              "      <td>0.065964</td>\n",
              "      <td>0.019993</td>\n",
              "      <td>0.030027</td>\n",
              "      <td>0.200913</td>\n",
              "      <td>0.131738</td>\n",
              "      <td>0.111395</td>\n",
              "      <td>0.092309</td>\n",
              "      <td>0.126174</td>\n",
              "      <td>0.123958</td>\n",
              "      <td>0.135141</td>\n",
              "      <td>0.163628</td>\n",
              "    </tr>\n",
              "  </tbody>\n",
              "</table>\n",
              "</div>"
            ],
            "text/plain": [
              "              shift_1   shift_2   shift_3  ...  shift_10  shift_11  shift_12\n",
              "Adjustments                                ...                              \n",
              "1992-01-31   0.200913  0.131738  0.111395  ...  0.070426  0.000000  0.014020\n",
              "1992-02-29   0.030027  0.200913  0.131738  ...  0.095318  0.070426  0.000000\n",
              "1992-03-31   0.019993  0.030027  0.200913  ...  0.163628  0.095318  0.070426\n",
              "1992-04-30   0.065964  0.019993  0.030027  ...  0.135141  0.163628  0.095318\n",
              "1992-05-31   0.109831  0.065964  0.019993  ...  0.123958  0.135141  0.163628\n",
              "\n",
              "[5 rows x 12 columns]"
            ]
          },
          "metadata": {
            "tags": []
          },
          "execution_count": 17
        }
      ]
    },
    {
      "cell_type": "code",
      "metadata": {
        "colab": {
          "base_uri": "https://localhost:8080/"
        },
        "id": "CR0ysmVB6tzD",
        "outputId": "331955e7-4a9c-4c41-a410-e734aacf27cc"
      },
      "source": [
        "X_train.shape"
      ],
      "execution_count": 18,
      "outputs": [
        {
          "output_type": "execute_result",
          "data": {
            "text/plain": [
              "(228, 12)"
            ]
          },
          "metadata": {
            "tags": []
          },
          "execution_count": 18
        }
      ]
    },
    {
      "cell_type": "code",
      "metadata": {
        "id": "ClS1qBfa611P"
      },
      "source": [
        "X_train = X_train.values\n",
        "X_test = X_test.values\n",
        "\n",
        "y_train = y_train.values\n",
        "y_test = y_test.values"
      ],
      "execution_count": 19,
      "outputs": []
    },
    {
      "cell_type": "code",
      "metadata": {
        "id": "oOQuC8ew63A4"
      },
      "source": [
        "X_train_t = X_train.reshape(X_train.shape[0], 12, 1)\n",
        "X_test_t = X_test.reshape(X_test.shape[0], 12, 1)"
      ],
      "execution_count": 20,
      "outputs": []
    },
    {
      "cell_type": "code",
      "metadata": {
        "id": "LXKJDwy77VN3"
      },
      "source": [
        "from keras.layers import LSTM, Dense\n",
        "from keras.models import Sequential\n",
        "import keras.backend as K\n",
        "from keras.callbacks import EarlyStopping"
      ],
      "execution_count": 31,
      "outputs": []
    },
    {
      "cell_type": "code",
      "metadata": {
        "id": "h3pO9oHS77S_"
      },
      "source": [
        "early_stop = EarlyStopping(monitor = 'loss', patience = 1, verbose = 1)"
      ],
      "execution_count": 32,
      "outputs": []
    },
    {
      "cell_type": "code",
      "metadata": {
        "id": "cqHqnD3-7B2c"
      },
      "source": [
        "K.clear_session()\n",
        "\n",
        "model = Sequential()\n",
        "model.add(LSTM(6, input_shape = (12, 1)))\n",
        "model.add(Dense(1))\n",
        "model.compile(loss = 'mean_squared_error', optimizer = 'adam')"
      ],
      "execution_count": 33,
      "outputs": []
    },
    {
      "cell_type": "code",
      "metadata": {
        "colab": {
          "base_uri": "https://localhost:8080/"
        },
        "id": "q0e7ORI17NAD",
        "outputId": "7cd4b776-07c1-4611-9367-1c50e99ff619"
      },
      "source": [
        "model.fit(X_train_t, y_train, epochs = 300, batch_size = 1, verbose = 1, callbacks = [early_stop])"
      ],
      "execution_count": 34,
      "outputs": [
        {
          "output_type": "stream",
          "text": [
            "Epoch 1/300\n",
            "228/228 [==============================] - 2s 3ms/step - loss: 0.1417\n",
            "Epoch 2/300\n",
            "228/228 [==============================] - 1s 3ms/step - loss: 0.0118\n",
            "Epoch 3/300\n",
            "228/228 [==============================] - 1s 3ms/step - loss: 0.0080\n",
            "Epoch 4/300\n",
            "228/228 [==============================] - 1s 3ms/step - loss: 0.0078\n",
            "Epoch 5/300\n",
            "228/228 [==============================] - 1s 3ms/step - loss: 0.0069\n",
            "Epoch 6/300\n",
            "228/228 [==============================] - 1s 3ms/step - loss: 0.0073\n",
            "Epoch 00006: early stopping\n"
          ],
          "name": "stdout"
        },
        {
          "output_type": "execute_result",
          "data": {
            "text/plain": [
              "<tensorflow.python.keras.callbacks.History at 0x7f8ff1d4ca90>"
            ]
          },
          "metadata": {
            "tags": []
          },
          "execution_count": 34
        }
      ]
    },
    {
      "cell_type": "code",
      "metadata": {
        "id": "VLOrOE8l8PpV"
      },
      "source": [
        "y_pred = model.predict(X_test_t)"
      ],
      "execution_count": 35,
      "outputs": []
    },
    {
      "cell_type": "code",
      "metadata": {
        "colab": {
          "base_uri": "https://localhost:8080/",
          "height": 283
        },
        "id": "W5vMtJQi7TU-",
        "outputId": "fdff0111-013f-452c-9fb9-5f4e2cd12c05"
      },
      "source": [
        "plt.plot(y_test)\n",
        "plt.plot(y_pred)"
      ],
      "execution_count": 36,
      "outputs": [
        {
          "output_type": "execute_result",
          "data": {
            "text/plain": [
              "[<matplotlib.lines.Line2D at 0x7f8ff0889910>]"
            ]
          },
          "metadata": {
            "tags": []
          },
          "execution_count": 36
        },
        {
          "output_type": "display_data",
          "data": {
            "image/png": "[encoded data removed]",
            "text/plain": [
              "<Figure size 432x288 with 1 Axes>"
            ]
          },
          "metadata": {
            "tags": [],
            "needs_background": "light"
          }
        }
      ]
    }
  ]
}